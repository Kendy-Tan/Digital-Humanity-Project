{
  "nbformat": 4,
  "nbformat_minor": 0,
  "metadata": {
    "colab": {
      "name": "Tan_DH100_2020.ipynb",
      "provenance": [],
      "collapsed_sections": [],
      "include_colab_link": true
    },
    "kernelspec": {
      "name": "python3",
      "display_name": "Python 3"
    }
  },
  "cells": [
    {
      "cell_type": "markdown",
      "metadata": {
        "id": "view-in-github",
        "colab_type": "text"
      },
      "source": [
        "<a href=\"https://colab.research.google.com/github/Kendy-Tan/Digital-Humanity-Project/blob/main/Digital_Education_Project.ipynb\" target=\"_parent\"><img src=\"https://colab.research.google.com/assets/colab-badge.svg\" alt=\"Open In Colab\"/></a>"
      ]
    },
    {
      "cell_type": "markdown",
      "metadata": {
        "id": "Hc1hALRcZkEk"
      },
      "source": [
        "###Sufang's Final notebook"
      ]
    },
    {
      "cell_type": "code",
      "metadata": {
        "id": "7UzbePNhO0sw"
      },
      "source": [
        "!pip install -U -q PyDrive\n",
        "from pydrive.auth import GoogleAuth\n",
        "from pydrive.drive import GoogleDrive\n",
        "from google.colab import auth\n",
        "from oauth2client.client import GoogleCredentials\n",
        "# Authenticate and create the PyDrive client.\n",
        "auth.authenticate_user()\n",
        "gauth = GoogleAuth()\n",
        "gauth.credentials = GoogleCredentials.get_application_default()\n",
        "drive = GoogleDrive(gauth)"
      ],
      "execution_count": 1,
      "outputs": []
    },
    {
      "cell_type": "code",
      "metadata": {
        "id": "h0bEgoRCcN6g"
      },
      "source": [
        "import os\n",
        "import pandas as pd"
      ],
      "execution_count": 2,
      "outputs": []
    },
    {
      "cell_type": "code",
      "metadata": {
        "id": "sTmZgwJw7t5M",
        "colab": {
          "base_uri": "https://localhost:8080/"
        },
        "outputId": "b969a4d4-8b32-44b6-befc-4f5c7148e3fe"
      },
      "source": [
        "from google.colab import drive\n",
        "drive.mount('/content/drive', force_remount=True)"
      ],
      "execution_count": 3,
      "outputs": [
        {
          "output_type": "stream",
          "name": "stdout",
          "text": [
            "Mounted at /content/drive\n"
          ]
        }
      ]
    },
    {
      "cell_type": "markdown",
      "metadata": {
        "id": "srLXIhmzUWph"
      },
      "source": [
        "###Creating an csv. file of the text Dataset.\n",
        "The following code, adapted from \"Make_csv_tutorial.ipynb\", create one CSV files called 'Digital_Pedagogy_pages.csv'."
      ]
    },
    {
      "cell_type": "code",
      "metadata": {
        "id": "1QOgIEcXKgBH"
      },
      "source": [
        "#Next we find the directory of the folder in which you store all your txt files in the drive\n",
        "file_directory = os.listdir('/content/drive/My Drive/Digital Pedagogy pages') #Here we use an example in our drive, you should replace this with your path"
      ],
      "execution_count": 4,
      "outputs": []
    },
    {
      "cell_type": "code",
      "metadata": {
        "id": "b70cNzuqL8QK"
      },
      "source": [
        "Title = []\n",
        "Content = []\n",
        "for file in file_directory:\n",
        "  if file.endswith('.txt'):\n",
        "    Title.append(file)\n",
        "    Content.append(open('/content/drive/My Drive/Digital Pedagogy pages/' + file, 'r').read()) ##You still need to replace the path here"
      ],
      "execution_count": 5,
      "outputs": []
    },
    {
      "cell_type": "code",
      "metadata": {
        "id": "b_jUPsmcN0Ev"
      },
      "source": [
        "your_csv = pd.DataFrame({'Title':Title, 'Content':Content})"
      ],
      "execution_count": 6,
      "outputs": []
    },
    {
      "cell_type": "code",
      "metadata": {
        "id": "XgKGSlPePqWr",
        "colab": {
          "base_uri": "https://localhost:8080/",
          "height": 1000
        },
        "outputId": "66f77d85-3889-4c8e-f08f-401f483fea95"
      },
      "source": [
        "your_csv"
      ],
      "execution_count": 7,
      "outputs": [
        {
          "output_type": "execute_result",
          "data": {
            "text/html": [
              "\n",
              "  <div id=\"df-8be43b0f-225b-475c-b646-d8e82353b100\">\n",
              "    <div class=\"colab-df-container\">\n",
              "      <div>\n",
              "<style scoped>\n",
              "    .dataframe tbody tr th:only-of-type {\n",
              "        vertical-align: middle;\n",
              "    }\n",
              "\n",
              "    .dataframe tbody tr th {\n",
              "        vertical-align: top;\n",
              "    }\n",
              "\n",
              "    .dataframe thead th {\n",
              "        text-align: right;\n",
              "    }\n",
              "</style>\n",
              "<table border=\"1\" class=\"dataframe\">\n",
              "  <thead>\n",
              "    <tr style=\"text-align: right;\">\n",
              "      <th></th>\n",
              "      <th>Title</th>\n",
              "      <th>Content</th>\n",
              "    </tr>\n",
              "  </thead>\n",
              "  <tbody>\n",
              "    <tr>\n",
              "      <th>0</th>\n",
              "      <td>Mutiple literacies, new pedagogy [electronic r...</td>\n",
              "      <td>Reproduced with permission of the copyright ow...</td>\n",
              "    </tr>\n",
              "    <tr>\n",
              "      <th>1</th>\n",
              "      <td>2018_Book_InvitedLecturesFromThe13thInte.txt</td>\n",
              "      <td>Invited Lectures \\nfrom the 13th \\nInternation...</td>\n",
              "    </tr>\n",
              "    <tr>\n",
              "      <th>2</th>\n",
              "      <td>Computer Support for the Collaborative Learnin...</td>\n",
              "      <td>Computer Support for the Collaborative Learnin...</td>\n",
              "    </tr>\n",
              "    <tr>\n",
              "      <th>3</th>\n",
              "      <td>Decoding Digital Pedagogy, pt. 1_ Beyond the L...</td>\n",
              "      <td>\\nHybrid Pedagogy\\n\\n    About\\n    Podcast\\n ...</td>\n",
              "    </tr>\n",
              "    <tr>\n",
              "      <th>4</th>\n",
              "      <td>JENTERY SAYERS, “TINKER-CENTRIC PEDAGOGY IN LI...</td>\n",
              "      <td>CHAPTER 10\\nTITLE Tinker-Centric Pedagogy in L...</td>\n",
              "    </tr>\n",
              "    <tr>\n",
              "      <th>5</th>\n",
              "      <td>DigitalHumanitiesPedagogy.txt</td>\n",
              "      <td>DIGITAL HUMANITIES \\nPEDAGOGY  Digital Humani...</td>\n",
              "    </tr>\n",
              "    <tr>\n",
              "      <th>6</th>\n",
              "      <td>Analysing_the_use_of_interactive_technol.txt</td>\n",
              "      <td>Analysing the use of interactive technology to...</td>\n",
              "    </tr>\n",
              "    <tr>\n",
              "      <th>7</th>\n",
              "      <td>Digital Storytelling in Esl Instruction- Iden...</td>\n",
              "      <td>PREVIEW APPROVAL SHEET\\nTitle of Dissertation:...</td>\n",
              "    </tr>\n",
              "    <tr>\n",
              "      <th>8</th>\n",
              "      <td>Laying the Foundation.txt</td>\n",
              "      <td>Laying the Foundation\\nDigital Humanities in ...</td>\n",
              "    </tr>\n",
              "    <tr>\n",
              "      <th>9</th>\n",
              "      <td>A_case_study_of_blog-based_learning_in_K.txt</td>\n",
              "      <td>A case study of blog-based learning in Korea: ...</td>\n",
              "    </tr>\n",
              "    <tr>\n",
              "      <th>10</th>\n",
              "      <td>2018_Book_ConceptualisingTheDigitalUnive.txt</td>\n",
              "      <td>DIGITAL\\nAND LEARNING\\nEDUCATION\\nCONCEPTUALIS...</td>\n",
              "    </tr>\n",
              "    <tr>\n",
              "      <th>11</th>\n",
              "      <td>2017_Book_BeingSelf-StudyResearchersInAD.txt</td>\n",
              "      <td>Self-Study of Teaching and Teacher Education P...</td>\n",
              "    </tr>\n",
              "    <tr>\n",
              "      <th>12</th>\n",
              "      <td>Designing an Innovative Pedagogy for Sustainab...</td>\n",
              "      <td>Designing an Innovative \\nPedagogy for Sustai...</td>\n",
              "    </tr>\n",
              "    <tr>\n",
              "      <th>13</th>\n",
              "      <td>What Video Games Have to Teach Us About Learni...</td>\n",
              "      <td>ACM Computers in Entertainment, Vol. 1, No. 1,...</td>\n",
              "    </tr>\n",
              "    <tr>\n",
              "      <th>14</th>\n",
              "      <td>2017_Book_BeingATeacherInThe21stCentury (1).txt</td>\n",
              "      <td>Leon Benade\\nBeing a \\nTeacher in the \\n21st C...</td>\n",
              "    </tr>\n",
              "    <tr>\n",
              "      <th>15</th>\n",
              "      <td>2019_Book_DigitalEducationAtTheMOOCCross.txt</td>\n",
              "      <td>Mauro Calise\\nCarlos Delgado Kloos\\nJustin Rei...</td>\n",
              "    </tr>\n",
              "    <tr>\n",
              "      <th>16</th>\n",
              "      <td>Teaching with Technology Hooper Rieber 1995.txt</td>\n",
              "      <td>Gregory and Denby Associates \\nHere is the ori...</td>\n",
              "    </tr>\n",
              "    <tr>\n",
              "      <th>17</th>\n",
              "      <td>2019_Book_ObservationalFilmmakingForEduc.txt</td>\n",
              "      <td>Observational Filmmaking\\nfor Education\\nDigit...</td>\n",
              "    </tr>\n",
              "    <tr>\n",
              "      <th>18</th>\n",
              "      <td>The Productive Unease of 21st-century Digital ...</td>\n",
              "      <td>Defining Digital Humanities For\\nAnthony, Edw...</td>\n",
              "    </tr>\n",
              "    <tr>\n",
              "      <th>19</th>\n",
              "      <td>Chandler_ Is conventional computer instruction...</td>\n",
              "      <td>Learning with software: pedagogies and practi...</td>\n",
              "    </tr>\n",
              "    <tr>\n",
              "      <th>20</th>\n",
              "      <td>freire-pedagogy-of-the-oppressed.txt</td>\n",
              "      <td>PAULO FREIRE \\nPEDAGOGY \\nof the \\nOPPRESSED \\...</td>\n",
              "    </tr>\n",
              "    <tr>\n",
              "      <th>21</th>\n",
              "      <td>_is This on Google__- Toward a Theory and Peda...</td>\n",
              "      <td>Graduate School ETD Form 9 \\n(Revised 12/07) \\...</td>\n",
              "    </tr>\n",
              "    <tr>\n",
              "      <th>22</th>\n",
              "      <td>dancing-with-robots-human-skills-for-computeri...</td>\n",
              "      <td>REPORT\\nDancing with Robots: Human Skills for\\...</td>\n",
              "    </tr>\n",
              "    <tr>\n",
              "      <th>23</th>\n",
              "      <td>BRETT D. HIRSCH, DIGITAL HUMANITIES PEDAGOGY- ...</td>\n",
              "      <td>To access digital resources including:\\nblog ...</td>\n",
              "    </tr>\n",
              "    <tr>\n",
              "      <th>24</th>\n",
              "      <td>Liberating the Arts- Promoting It Fluency Thr...</td>\n",
              "      <td>LIBERATING THE ARTS: \\nPromoting IT Fluency th...</td>\n",
              "    </tr>\n",
              "    <tr>\n",
              "      <th>25</th>\n",
              "      <td>2019_Book_OpenAndDistanceEducationTheory.txt</td>\n",
              "      <td>SPRINGER BRIEFS IN\\nOPEN AND DISTANCE EDUCATIO...</td>\n",
              "    </tr>\n",
              "    <tr>\n",
              "      <th>26</th>\n",
              "      <td>2020_Book_ExplanatoryAnimationsInTheClas.txt</td>\n",
              "      <td>Brendan Jacobs\\nExplanatory \\nAnimations in \\n...</td>\n",
              "    </tr>\n",
              "    <tr>\n",
              "      <th>27</th>\n",
              "      <td>Critical Digital Pedagogy_ a Definition.txt</td>\n",
              "      <td>\\nHybrid Pedagogy\\n\\n    About\\n    Podcast\\n ...</td>\n",
              "    </tr>\n",
              "    <tr>\n",
              "      <th>28</th>\n",
              "      <td>Using_Information_Technology_Effectively.txt</td>\n",
              "      <td>Using Information Technology Effectively in\\n...</td>\n",
              "    </tr>\n",
              "    <tr>\n",
              "      <th>29</th>\n",
              "      <td>2017_Book_BeingATeacherInThe21stCentury.txt</td>\n",
              "      <td>Leon Benade\\nBeing a \\nTeacher in the \\n21st C...</td>\n",
              "    </tr>\n",
              "    <tr>\n",
              "      <th>30</th>\n",
              "      <td>Teaching-to-Transgress.txt</td>\n",
              "      <td>Teaching to\\nTransgress This page intentional...</td>\n",
              "    </tr>\n",
              "    <tr>\n",
              "      <th>31</th>\n",
              "      <td>DHQ_ Digital Humanities Quarterly_ Digital Ped...</td>\n",
              "      <td>6/5/2020 DHQ: Digital Humanities Quarterly: Di...</td>\n",
              "    </tr>\n",
              "    <tr>\n",
              "      <th>32</th>\n",
              "      <td>Going the Distance- Online Education in the Un...</td>\n",
              "      <td>Going the Distance\\nOnline Education in the U...</td>\n",
              "    </tr>\n",
              "    <tr>\n",
              "      <th>33</th>\n",
              "      <td>2018_Book_DigitalMilton.txt</td>\n",
              "      <td>Digital Milton David Currell • Islam Issa\\nEd...</td>\n",
              "    </tr>\n",
              "    <tr>\n",
              "      <th>34</th>\n",
              "      <td>Postcolonial Digital Pedagogy.txt</td>\n",
              "      <td>New Digital Worlds\\nRisam, Roopika\\nPublished ...</td>\n",
              "    </tr>\n",
              "    <tr>\n",
              "      <th>35</th>\n",
              "      <td>Planned Obsolescence- Publishing, Technology, ...</td>\n",
              "      <td>Planned Obsolescence: \\nPublishing, Technology...</td>\n",
              "    </tr>\n",
              "    <tr>\n",
              "      <th>36</th>\n",
              "      <td>Tracing_the_development_of_teacher_knowl.txt</td>\n",
              "      <td>Tracing the development of teacher knowledge i...</td>\n",
              "    </tr>\n",
              "    <tr>\n",
              "      <th>37</th>\n",
              "      <td>2017_Book_Empowering21stCenturyLearnersT.txt</td>\n",
              "      <td>Empowering\\n21st Century \\nLearners Through \\n...</td>\n",
              "    </tr>\n",
              "    <tr>\n",
              "      <th>38</th>\n",
              "      <td>A-New-Companion-to-Digital-Humanities.txt</td>\n",
              "      <td>A New Companion to \\nDigital Humanities Blac...</td>\n",
              "    </tr>\n",
              "    <tr>\n",
              "      <th>39</th>\n",
              "      <td>Digital Students in the Democratic Classroom- ...</td>\n",
              "      <td>DIGITAL STUDENTS IN THE DEMOCRATIC CLASSROOM: ...</td>\n",
              "    </tr>\n",
              "    <tr>\n",
              "      <th>40</th>\n",
              "      <td>[Henry_Jenkins]_Confronting_the_Challenges_of_...</td>\n",
              "      <td>Confronting the Challenges \\nof Participatory ...</td>\n",
              "    </tr>\n",
              "    <tr>\n",
              "      <th>41</th>\n",
              "      <td>TEACHING AND LEARNING WITH ICT NEW TECHNOLOGY,...</td>\n",
              "      <td>TEACHING AND LEARNING WITH ICT\\nNEW TECHNOLOGY...</td>\n",
              "    </tr>\n",
              "    <tr>\n",
              "      <th>42</th>\n",
              "      <td>the-monsters-of-education-technology.txt</td>\n",
              "      <td>THE MONSTERS OF\\nEDUCATION\\nTECHNOLOGY AUDREY ...</td>\n",
              "    </tr>\n",
              "    <tr>\n",
              "      <th>43</th>\n",
              "      <td>Cognitive theory and the use of computers in ...</td>\n",
              "      <td>British Journal of Educational Technology Vol ...</td>\n",
              "    </tr>\n",
              "  </tbody>\n",
              "</table>\n",
              "</div>\n",
              "      <button class=\"colab-df-convert\" onclick=\"convertToInteractive('df-8be43b0f-225b-475c-b646-d8e82353b100')\"\n",
              "              title=\"Convert this dataframe to an interactive table.\"\n",
              "              style=\"display:none;\">\n",
              "        \n",
              "  <svg xmlns=\"http://www.w3.org/2000/svg\" height=\"24px\"viewBox=\"0 0 24 24\"\n",
              "       width=\"24px\">\n",
              "    <path d=\"M0 0h24v24H0V0z\" fill=\"none\"/>\n",
              "    <path d=\"M18.56 5.44l.94 2.06.94-2.06 2.06-.94-2.06-.94-.94-2.06-.94 2.06-2.06.94zm-11 1L8.5 8.5l.94-2.06 2.06-.94-2.06-.94L8.5 2.5l-.94 2.06-2.06.94zm10 10l.94 2.06.94-2.06 2.06-.94-2.06-.94-.94-2.06-.94 2.06-2.06.94z\"/><path d=\"M17.41 7.96l-1.37-1.37c-.4-.4-.92-.59-1.43-.59-.52 0-1.04.2-1.43.59L10.3 9.45l-7.72 7.72c-.78.78-.78 2.05 0 2.83L4 21.41c.39.39.9.59 1.41.59.51 0 1.02-.2 1.41-.59l7.78-7.78 2.81-2.81c.8-.78.8-2.07 0-2.86zM5.41 20L4 18.59l7.72-7.72 1.47 1.35L5.41 20z\"/>\n",
              "  </svg>\n",
              "      </button>\n",
              "      \n",
              "  <style>\n",
              "    .colab-df-container {\n",
              "      display:flex;\n",
              "      flex-wrap:wrap;\n",
              "      gap: 12px;\n",
              "    }\n",
              "\n",
              "    .colab-df-convert {\n",
              "      background-color: #E8F0FE;\n",
              "      border: none;\n",
              "      border-radius: 50%;\n",
              "      cursor: pointer;\n",
              "      display: none;\n",
              "      fill: #1967D2;\n",
              "      height: 32px;\n",
              "      padding: 0 0 0 0;\n",
              "      width: 32px;\n",
              "    }\n",
              "\n",
              "    .colab-df-convert:hover {\n",
              "      background-color: #E2EBFA;\n",
              "      box-shadow: 0px 1px 2px rgba(60, 64, 67, 0.3), 0px 1px 3px 1px rgba(60, 64, 67, 0.15);\n",
              "      fill: #174EA6;\n",
              "    }\n",
              "\n",
              "    [theme=dark] .colab-df-convert {\n",
              "      background-color: #3B4455;\n",
              "      fill: #D2E3FC;\n",
              "    }\n",
              "\n",
              "    [theme=dark] .colab-df-convert:hover {\n",
              "      background-color: #434B5C;\n",
              "      box-shadow: 0px 1px 3px 1px rgba(0, 0, 0, 0.15);\n",
              "      filter: drop-shadow(0px 1px 2px rgba(0, 0, 0, 0.3));\n",
              "      fill: #FFFFFF;\n",
              "    }\n",
              "  </style>\n",
              "\n",
              "      <script>\n",
              "        const buttonEl =\n",
              "          document.querySelector('#df-8be43b0f-225b-475c-b646-d8e82353b100 button.colab-df-convert');\n",
              "        buttonEl.style.display =\n",
              "          google.colab.kernel.accessAllowed ? 'block' : 'none';\n",
              "\n",
              "        async function convertToInteractive(key) {\n",
              "          const element = document.querySelector('#df-8be43b0f-225b-475c-b646-d8e82353b100');\n",
              "          const dataTable =\n",
              "            await google.colab.kernel.invokeFunction('convertToInteractive',\n",
              "                                                     [key], {});\n",
              "          if (!dataTable) return;\n",
              "\n",
              "          const docLinkHtml = 'Like what you see? Visit the ' +\n",
              "            '<a target=\"_blank\" href=https://colab.research.google.com/notebooks/data_table.ipynb>data table notebook</a>'\n",
              "            + ' to learn more about interactive tables.';\n",
              "          element.innerHTML = '';\n",
              "          dataTable['output_type'] = 'display_data';\n",
              "          await google.colab.output.renderOutput(dataTable, element);\n",
              "          const docLink = document.createElement('div');\n",
              "          docLink.innerHTML = docLinkHtml;\n",
              "          element.appendChild(docLink);\n",
              "        }\n",
              "      </script>\n",
              "    </div>\n",
              "  </div>\n",
              "  "
            ],
            "text/plain": [
              "                                                Title                                            Content\n",
              "0   Mutiple literacies, new pedagogy [electronic r...  Reproduced with permission of the copyright ow...\n",
              "1        2018_Book_InvitedLecturesFromThe13thInte.txt  Invited Lectures \\nfrom the 13th \\nInternation...\n",
              "2   Computer Support for the Collaborative Learnin...  Computer Support for the Collaborative Learnin...\n",
              "3   Decoding Digital Pedagogy, pt. 1_ Beyond the L...  \\nHybrid Pedagogy\\n\\n    About\\n    Podcast\\n ...\n",
              "4   JENTERY SAYERS, “TINKER-CENTRIC PEDAGOGY IN LI...  CHAPTER 10\\nTITLE Tinker-Centric Pedagogy in L...\n",
              "5                       DigitalHumanitiesPedagogy.txt   DIGITAL HUMANITIES \\nPEDAGOGY  Digital Humani...\n",
              "6        Analysing_the_use_of_interactive_technol.txt  Analysing the use of interactive technology to...\n",
              "7    Digital Storytelling in Esl Instruction- Iden...  PREVIEW APPROVAL SHEET\\nTitle of Dissertation:...\n",
              "8                           Laying the Foundation.txt   Laying the Foundation\\nDigital Humanities in ...\n",
              "9        A_case_study_of_blog-based_learning_in_K.txt  A case study of blog-based learning in Korea: ...\n",
              "10       2018_Book_ConceptualisingTheDigitalUnive.txt  DIGITAL\\nAND LEARNING\\nEDUCATION\\nCONCEPTUALIS...\n",
              "11       2017_Book_BeingSelf-StudyResearchersInAD.txt  Self-Study of Teaching and Teacher Education P...\n",
              "12  Designing an Innovative Pedagogy for Sustainab...   Designing an Innovative \\nPedagogy for Sustai...\n",
              "13  What Video Games Have to Teach Us About Learni...  ACM Computers in Entertainment, Vol. 1, No. 1,...\n",
              "14    2017_Book_BeingATeacherInThe21stCentury (1).txt  Leon Benade\\nBeing a \\nTeacher in the \\n21st C...\n",
              "15       2019_Book_DigitalEducationAtTheMOOCCross.txt  Mauro Calise\\nCarlos Delgado Kloos\\nJustin Rei...\n",
              "16    Teaching with Technology Hooper Rieber 1995.txt  Gregory and Denby Associates \\nHere is the ori...\n",
              "17       2019_Book_ObservationalFilmmakingForEduc.txt  Observational Filmmaking\\nfor Education\\nDigit...\n",
              "18  The Productive Unease of 21st-century Digital ...   Defining Digital Humanities For\\nAnthony, Edw...\n",
              "19  Chandler_ Is conventional computer instruction...   Learning with software: pedagogies and practi...\n",
              "20               freire-pedagogy-of-the-oppressed.txt  PAULO FREIRE \\nPEDAGOGY \\nof the \\nOPPRESSED \\...\n",
              "21  _is This on Google__- Toward a Theory and Peda...  Graduate School ETD Form 9 \\n(Revised 12/07) \\...\n",
              "22  dancing-with-robots-human-skills-for-computeri...  REPORT\\nDancing with Robots: Human Skills for\\...\n",
              "23  BRETT D. HIRSCH, DIGITAL HUMANITIES PEDAGOGY- ...   To access digital resources including:\\nblog ...\n",
              "24   Liberating the Arts- Promoting It Fluency Thr...  LIBERATING THE ARTS: \\nPromoting IT Fluency th...\n",
              "25       2019_Book_OpenAndDistanceEducationTheory.txt  SPRINGER BRIEFS IN\\nOPEN AND DISTANCE EDUCATIO...\n",
              "26       2020_Book_ExplanatoryAnimationsInTheClas.txt  Brendan Jacobs\\nExplanatory \\nAnimations in \\n...\n",
              "27        Critical Digital Pedagogy_ a Definition.txt  \\nHybrid Pedagogy\\n\\n    About\\n    Podcast\\n ...\n",
              "28       Using_Information_Technology_Effectively.txt   Using Information Technology Effectively in\\n...\n",
              "29        2017_Book_BeingATeacherInThe21stCentury.txt  Leon Benade\\nBeing a \\nTeacher in the \\n21st C...\n",
              "30                         Teaching-to-Transgress.txt   Teaching to\\nTransgress This page intentional...\n",
              "31  DHQ_ Digital Humanities Quarterly_ Digital Ped...  6/5/2020 DHQ: Digital Humanities Quarterly: Di...\n",
              "32  Going the Distance- Online Education in the Un...   Going the Distance\\nOnline Education in the U...\n",
              "33                        2018_Book_DigitalMilton.txt   Digital Milton David Currell • Islam Issa\\nEd...\n",
              "34                  Postcolonial Digital Pedagogy.txt  New Digital Worlds\\nRisam, Roopika\\nPublished ...\n",
              "35  Planned Obsolescence- Publishing, Technology, ...  Planned Obsolescence: \\nPublishing, Technology...\n",
              "36       Tracing_the_development_of_teacher_knowl.txt  Tracing the development of teacher knowledge i...\n",
              "37       2017_Book_Empowering21stCenturyLearnersT.txt  Empowering\\n21st Century \\nLearners Through \\n...\n",
              "38          A-New-Companion-to-Digital-Humanities.txt    A New Companion to \\nDigital Humanities Blac...\n",
              "39  Digital Students in the Democratic Classroom- ...  DIGITAL STUDENTS IN THE DEMOCRATIC CLASSROOM: ...\n",
              "40  [Henry_Jenkins]_Confronting_the_Challenges_of_...  Confronting the Challenges \\nof Participatory ...\n",
              "41  TEACHING AND LEARNING WITH ICT NEW TECHNOLOGY,...  TEACHING AND LEARNING WITH ICT\\nNEW TECHNOLOGY...\n",
              "42           the-monsters-of-education-technology.txt  THE MONSTERS OF\\nEDUCATION\\nTECHNOLOGY AUDREY ...\n",
              "43   Cognitive theory and the use of computers in ...  British Journal of Educational Technology Vol ..."
            ]
          },
          "metadata": {},
          "execution_count": 7
        }
      ]
    },
    {
      "cell_type": "code",
      "metadata": {
        "id": "zSesSSAkdkxs"
      },
      "source": [
        "##Now we need to save our csv to our drive\n",
        "your_csv.to_csv('Digital_Pedagogy_pages.csv', index=False) ##change the name of your csv if you want\n",
        "!cp Digital_Pedagogy_pages.csv drive/My\\ Drive/ #You can decide which path you want your file in.\n",
        "##The file name after !cp must be the same as the one you put in the first line. "
      ],
      "execution_count": 8,
      "outputs": []
    },
    {
      "cell_type": "code",
      "metadata": {
        "id": "gi_io7xRe88e"
      },
      "source": [
        "import sys\n",
        "import numpy as np\n",
        "import pandas as pd\n",
        "import matplotlib.pyplot as plt\n",
        "import torch\n",
        "import sklearn\n",
        "import seaborn as sns\n",
        "import os\n",
        "import re\n",
        "import plotly.express as px\n",
        "import tensorflow as tf\n",
        "\n",
        "from tensorflow.keras.preprocessing.text import Tokenizer\n",
        "from tensorflow.keras.preprocessing.sequence import pad_sequences\n",
        "from keras.utils.np_utils import to_categorical\n",
        "from tensorflow.keras.callbacks import EarlyStopping, ReduceLROnPlateau\n",
        "from tensorflow.keras.models import Sequential\n",
        "from tensorflow.keras.layers import Dropout, Dense, Embedding, LSTM, SpatialDropout1D\n",
        "\n",
        "from sklearn.model_selection import train_test_split\n",
        "from sklearn.cluster import MiniBatchKMeans\n",
        "from sklearn.feature_extraction.text import TfidfVectorizer\n",
        "from sklearn.decomposition import PCA\n",
        "\n",
        "from wordcloud import WordCloud, STOPWORDS, ImageColorGenerator\n",
        "import nltk\n",
        "from nltk.corpus import stopwords \n",
        "from nltk import word_tokenize\n",
        "\n",
        "#from pyldavis import sklearn as sklearn_lda\n",
        "import pickle \n",
        "\n",
        "\n",
        "import warnings\n",
        "warnings.filterwarnings('ignore')"
      ],
      "execution_count": 9,
      "outputs": []
    },
    {
      "cell_type": "markdown",
      "metadata": {
        "id": "jC0AtRePguvz"
      },
      "source": [
        "### NLTK cleaning corpus\n",
        "\n",
        "- tokenization\n",
        "- adjusting to lowercast words\n",
        "- remove punctuation\n",
        "- remove stop words\n"
      ]
    },
    {
      "cell_type": "code",
      "metadata": {
        "id": "qKum-dX9rySY"
      },
      "source": [
        "import nltk\n",
        "from nltk.tokenize import word_tokenize\n",
        "from nltk.tokenize import sent_tokenize\n",
        "from nltk.corpus import stopwords\n",
        "from nltk.text import Text\n",
        "import string, re"
      ],
      "execution_count": 10,
      "outputs": []
    },
    {
      "cell_type": "code",
      "metadata": {
        "id": "yb7ftRDYsIoS",
        "colab": {
          "base_uri": "https://localhost:8080/"
        },
        "outputId": "8bac1b82-d689-4221-af73-5745c05a1746"
      },
      "source": [
        "# NLTK Stop words\n",
        "nltk.download('stopwords')\n",
        "from nltk.corpus import stopwords\n",
        "stop_words = stopwords.words('english')\n",
        "print(stop_words)"
      ],
      "execution_count": 11,
      "outputs": [
        {
          "output_type": "stream",
          "name": "stdout",
          "text": [
            "[nltk_data] Downloading package stopwords to /root/nltk_data...\n",
            "[nltk_data]   Unzipping corpora/stopwords.zip.\n",
            "['i', 'me', 'my', 'myself', 'we', 'our', 'ours', 'ourselves', 'you', \"you're\", \"you've\", \"you'll\", \"you'd\", 'your', 'yours', 'yourself', 'yourselves', 'he', 'him', 'his', 'himself', 'she', \"she's\", 'her', 'hers', 'herself', 'it', \"it's\", 'its', 'itself', 'they', 'them', 'their', 'theirs', 'themselves', 'what', 'which', 'who', 'whom', 'this', 'that', \"that'll\", 'these', 'those', 'am', 'is', 'are', 'was', 'were', 'be', 'been', 'being', 'have', 'has', 'had', 'having', 'do', 'does', 'did', 'doing', 'a', 'an', 'the', 'and', 'but', 'if', 'or', 'because', 'as', 'until', 'while', 'of', 'at', 'by', 'for', 'with', 'about', 'against', 'between', 'into', 'through', 'during', 'before', 'after', 'above', 'below', 'to', 'from', 'up', 'down', 'in', 'out', 'on', 'off', 'over', 'under', 'again', 'further', 'then', 'once', 'here', 'there', 'when', 'where', 'why', 'how', 'all', 'any', 'both', 'each', 'few', 'more', 'most', 'other', 'some', 'such', 'no', 'nor', 'not', 'only', 'own', 'same', 'so', 'than', 'too', 'very', 's', 't', 'can', 'will', 'just', 'don', \"don't\", 'should', \"should've\", 'now', 'd', 'll', 'm', 'o', 're', 've', 'y', 'ain', 'aren', \"aren't\", 'couldn', \"couldn't\", 'didn', \"didn't\", 'doesn', \"doesn't\", 'hadn', \"hadn't\", 'hasn', \"hasn't\", 'haven', \"haven't\", 'isn', \"isn't\", 'ma', 'mightn', \"mightn't\", 'mustn', \"mustn't\", 'needn', \"needn't\", 'shan', \"shan't\", 'shouldn', \"shouldn't\", 'wasn', \"wasn't\", 'weren', \"weren't\", 'won', \"won't\", 'wouldn', \"wouldn't\"]\n"
          ]
        }
      ]
    },
    {
      "cell_type": "code",
      "metadata": {
        "id": "Ubb_d1do9i2R"
      },
      "source": [
        "import gensim"
      ],
      "execution_count": 12,
      "outputs": []
    },
    {
      "cell_type": "code",
      "metadata": {
        "id": "WmhyOUIF-9h3"
      },
      "source": [
        "def remove_punctuation(sentence):\n",
        "  sentence = re.sub(r'[^\\w\\s]','', sentence)\n",
        "  return sentence\n",
        "cleaned_para = [remove_punctuation(para) for para in Content]"
      ],
      "execution_count": 13,
      "outputs": []
    },
    {
      "cell_type": "code",
      "metadata": {
        "id": "x4Y6glY6Az_a",
        "colab": {
          "base_uri": "https://localhost:8080/"
        },
        "outputId": "9f1ae285-0e8c-4b4f-c229-da035c5862b8"
      },
      "source": [
        "nltk.download('punkt')\n",
        "tokenized_words = [word_tokenize(para) for para in cleaned_para]\n",
        "print(tokenized_words[0])"
      ],
      "execution_count": 14,
      "outputs": [
        {
          "output_type": "stream",
          "name": "stdout",
          "text": [
            "[nltk_data] Downloading package punkt to /root/nltk_data...\n",
            "[nltk_data]   Unzipping tokenizers/punkt.zip.\n",
            "['Reproduced', 'with', 'permission', 'of', 'the', 'copyright', 'owner', 'Further', 'reproduction', 'prohibited', 'without', 'permission', 'Multiple', 'literacies', 'new', 'pedagogy', 'Emerging', 'notions', 'of', 'oneself', 'and', 'RocheSmith', 'Jeeva', 'Ratna', 'ProQuest', 'Dissertations', 'and', 'Theses', '2004', 'ProQuest', 'Reproduced', 'with', 'permission', 'of', 'the', 'copyright', 'owner', 'Further', 'reproduction', 'prohibited', 'without', 'permission', 'Reproduced', 'with', 'permission', 'of', 'the', 'copyright', 'owner', 'Further', 'reproduction', 'prohibited', 'without', 'permission', 'Reproduced', 'with', 'permission', 'of', 'the', 'copyright', 'owner', 'Further', 'reproduction', 'prohibited', 'without', 'permission', 'Reproduced', 'with', 'permission', 'of', 'the', 'copyright', 'owner', 'Further', 'reproduction', 'prohibited', 'without', 'permission', 'Reproduced', 'with', 'permission', 'of', 'the', 'copyright', 'owner', 'Further', 'reproduction', 'prohibited', 'without', 'permission', 'Reproduced', 'with', 'permission', 'of', 'the', 'copyright', 'owner', 'Further', 'reproduction', 'prohibited', 'without', 'permission', 'Reproduced', 'with', 'permission', 'of', 'the', 'copyright', 'owner', 'Further', 'reproduction', 'prohibited', 'without', 'permission', 'Reproduced', 'with', 'permission', 'of', 'the', 'copyright', 'owner', 'Further', 'reproduction', 'prohibited', 'without', 'permission', 'Reproduced', 'with', 'permission', 'of', 'the', 'copyright', 'owner', 'Further', 'reproduction', 'prohibited', 'without', 'permission', 'Reproduced', 'with', 'permission', 'of', 'the', 'copyright', 'owner', 'Further', 'reproduction', 'prohibited', 'without', 'permission', 'Reproduced', 'with', 'permission', 'of', 'the', 'copyright', 'owner', 'Further', 'reproduction', 'prohibited', 'without', 'permission', 'Reproduced', 'with', 'permission', 'of', 'the', 'copyright', 'owner', 'Further', 'reproduction', 'prohibited', 'without', 'permission', 'Reproduced', 'with', 'permission', 'of', 'the', 'copyright', 'owner', 'Further', 'reproduction', 'prohibited', 'without', 'permission', 'Reproduced', 'with', 'permission', 'of', 'the', 'copyright', 'owner', 'Further', 'reproduction', 'prohibited', 'without', 'permission', 'Reproduced', 'with', 'permission', 'of', 'the', 'copyright', 'owner', 'Further', 'reproduction', 'prohibited', 'without', 'permission', 'Reproduced', 'with', 'permission', 'of', 'the', 'copyright', 'owner', 'Further', 'reproduction', 'prohibited', 'without', 'permission', 'Reproduced', 'with', 'permission', 'of', 'the', 'copyright', 'owner', 'Further', 'reproduction', 'prohibited', 'without', 'permission', 'Reproduced', 'with', 'permission', 'of', 'the', 'copyright', 'owner', 'Further', 'reproduction', 'prohibited', 'without', 'permission', 'Reproduced', 'with', 'permission', 'of', 'the', 'copyright', 'owner', 'Further', 'reproduction', 'prohibited', 'without', 'permission', 'Reproduced', 'with', 'permission', 'of', 'the', 'copyright', 'owner', 'Further', 'reproduction', 'prohibited', 'without', 'permission', 'Reproduced', 'with', 'permission', 'of', 'the', 'copyright', 'owner', 'Further', 'reproduction', 'prohibited', 'without', 'permission', 'Reproduced', 'with', 'permission', 'of', 'the', 'copyright', 'owner', 'Further', 'reproduction', 'prohibited', 'without', 'permission', 'Reproduced', 'with', 'permission', 'of', 'the', 'copyright', 'owner', 'Further', 'reproduction', 'prohibited', 'without', 'permission', 'Reproduced', 'with', 'permission', 'of', 'the', 'copyright', 'owner', 'Further', 'reproduction', 'prohibited', 'without', 'permission', 'Reproduced', 'with', 'permission', 'of', 'the', 'copyright', 'owner', 'Further', 'reproduction', 'prohibited', 'without', 'permission', 'Reproduced', 'with', 'permission', 'of', 'the', 'copyright', 'owner', 'Further', 'reproduction', 'prohibited', 'without', 'permission', 'Reproduced', 'with', 'permission', 'of', 'the', 'copyright', 'owner', 'Further', 'reproduction', 'prohibited', 'without', 'permission', 'Reproduced', 'with', 'permission', 'of', 'the', 'copyright', 'owner', 'Further', 'reproduction', 'prohibited', 'without', 'permission', 'Reproduced', 'with', 'permission', 'of', 'the', 'copyright', 'owner', 'Further', 'reproduction', 'prohibited', 'without', 'permission', 'Reproduced', 'with', 'permission', 'of', 'the', 'copyright', 'owner', 'Further', 'reproduction', 'prohibited', 'without', 'permission', 'Reproduced', 'with', 'permission', 'of', 'the', 'copyright', 'owner', 'Further', 'reproduction', 'prohibited', 'without', 'permission', 'Reproduced', 'with', 'permission', 'of', 'the', 'copyright', 'owner', 'Further', 'reproduction', 'prohibited', 'without', 'permission', 'Reproduced', 'with', 'permission', 'of', 'the', 'copyright', 'owner', 'Further', 'reproduction', 'prohibited', 'without', 'permission', 'Reproduced', 'with', 'permission', 'of', 'the', 'copyright', 'owner', 'Further', 'reproduction', 'prohibited', 'without', 'permission', 'Reproduced', 'with', 'permission', 'of', 'the', 'copyright', 'owner', 'Further', 'reproduction', 'prohibited', 'without', 'permission', 'Reproduced', 'with', 'permission', 'of', 'the', 'copyright', 'owner', 'Further', 'reproduction', 'prohibited', 'without', 'permission', 'Reproduced', 'with', 'permission', 'of', 'the', 'copyright', 'owner', 'Further', 'reproduction', 'prohibited', 'without', 'permission', 'Reproduced', 'with', 'permission', 'of', 'the', 'copyright', 'owner', 'Further', 'reproduction', 'prohibited', 'without', 'permission', 'Reproduced', 'with', 'permission', 'of', 'the', 'copyright', 'owner', 'Further', 'reproduction', 'prohibited', 'without', 'permission', 'Reproduced', 'with', 'permission', 'of', 'the', 'copyright', 'owner', 'Further', 'reproduction', 'prohibited', 'without', 'permission', 'Reproduced', 'with', 'permission', 'of', 'the', 'copyright', 'owner', 'Further', 'reproduction', 'prohibited', 'without', 'permission', 'Reproduced', 'with', 'permission', 'of', 'the', 'copyright', 'owner', 'Further', 'reproduction', 'prohibited', 'without', 'permission', 'Reproduced', 'with', 'permission', 'of', 'the', 'copyright', 'owner', 'Further', 'reproduction', 'prohibited', 'without', 'permission', 'Reproduced', 'with', 'permission', 'of', 'the', 'copyright', 'owner', 'Further', 'reproduction', 'prohibited', 'without', 'permission', 'Reproduced', 'with', 'permission', 'of', 'the', 'copyright', 'owner', 'Further', 'reproduction', 'prohibited', 'without', 'permission', 'Reproduced', 'with', 'permission', 'of', 'the', 'copyright', 'owner', 'Further', 'reproduction', 'prohibited', 'without', 'permission', 'Reproduced', 'with', 'permission', 'of', 'the', 'copyright', 'owner', 'Further', 'reproduction', 'prohibited', 'without', 'permission', 'Reproduced', 'with', 'permission', 'of', 'the', 'copyright', 'owner', 'Further', 'reproduction', 'prohibited', 'without', 'permission', 'Reproduced', 'with', 'permission', 'of', 'the', 'copyright', 'owner', 'Further', 'reproduction', 'prohibited', 'without', 'permission', 'Reproduced', 'with', 'permission', 'of', 'the', 'copyright', 'owner', 'Further', 'reproduction', 'prohibited', 'without', 'permission', 'Reproduced', 'with', 'permission', 'of', 'the', 'copyright', 'owner', 'Further', 'reproduction', 'prohibited', 'without', 'permission', 'Reproduced', 'with', 'permission', 'of', 'the', 'copyright', 'owner', 'Further', 'reproduction', 'prohibited', 'without', 'permission', 'Reproduced', 'with', 'permission', 'of', 'the', 'copyright', 'owner', 'Further', 'reproduction', 'prohibited', 'without', 'permission', 'Reproduced', 'with', 'permission', 'of', 'the', 'copyright', 'owner', 'Further', 'reproduction', 'prohibited', 'without', 'permission', 'Reproduced', 'with', 'permission', 'of', 'the', 'copyright', 'owner', 'Further', 'reproduction', 'prohibited', 'without', 'permission', 'Reproduced', 'with', 'permission', 'of', 'the', 'copyright', 'owner', 'Further', 'reproduction', 'prohibited', 'without', 'permission', 'Reproduced', 'with', 'permission', 'of', 'the', 'copyright', 'owner', 'Further', 'reproduction', 'prohibited', 'without', 'permission', 'Reproduced', 'with', 'permission', 'of', 'the', 'copyright', 'owner', 'Further', 'reproduction', 'prohibited', 'without', 'permission', 'Reproduced', 'with', 'permission', 'of', 'the', 'copyright', 'owner', 'Further', 'reproduction', 'prohibited', 'without', 'permission', 'Reproduced', 'with', 'permission', 'of', 'the', 'copyright', 'owner', 'Further', 'reproduction', 'prohibited', 'without', 'permission', 'Reproduced', 'with', 'permission', 'of', 'the', 'copyright', 'owner', 'Further', 'reproduction', 'prohibited', 'without', 'permission', 'Reproduced', 'with', 'permission', 'of', 'the', 'copyright', 'owner', 'Further', 'reproduction', 'prohibited', 'without', 'permission', 'Reproduced', 'with', 'permission', 'of', 'the', 'copyright', 'owner', 'Further', 'reproduction', 'prohibited', 'without', 'permission', 'Reproduced', 'with', 'permission', 'of', 'the', 'copyright', 'owner', 'Further', 'reproduction', 'prohibited', 'without', 'permission', 'Reproduced', 'with', 'permission', 'of', 'the', 'copyright', 'owner', 'Further', 'reproduction', 'prohibited', 'without', 'permission', 'Reproduced', 'with', 'permission', 'of', 'the', 'copyright', 'owner', 'Further', 'reproduction', 'prohibited', 'without', 'permission', 'Reproduced', 'with', 'permission', 'of', 'the', 'copyright', 'owner', 'Further', 'reproduction', 'prohibited', 'without', 'permission', 'Reproduced', 'with', 'permission', 'of', 'the', 'copyright', 'owner', 'Further', 'reproduction', 'prohibited', 'without', 'permission', 'Reproduced', 'with', 'permission', 'of', 'the', 'copyright', 'owner', 'Further', 'reproduction', 'prohibited', 'without', 'permission', 'Reproduced', 'with', 'permission', 'of', 'the', 'copyright', 'owner', 'Further', 'reproduction', 'prohibited', 'without', 'permission', 'Reproduced', 'with', 'permission', 'of', 'the', 'copyright', 'owner', 'Further', 'reproduction', 'prohibited', 'without', 'permission', 'Reproduced', 'with', 'permission', 'of', 'the', 'copyright', 'owner', 'Further', 'reproduction', 'prohibited', 'without', 'permission', 'Reproduced', 'with', 'permission', 'of', 'the', 'copyright', 'owner', 'Further', 'reproduction', 'prohibited', 'without', 'permission', 'Reproduced', 'with', 'permission', 'of', 'the', 'copyright', 'owner', 'Further', 'reproduction', 'prohibited', 'without', 'permission', 'Reproduced', 'with', 'permission', 'of', 'the', 'copyright', 'owner', 'Further', 'reproduction', 'prohibited', 'without', 'permission', 'Reproduced', 'with', 'permission', 'of', 'the', 'copyright', 'owner', 'Further', 'reproduction', 'prohibited', 'without', 'permission', 'Reproduced', 'with', 'permission', 'of', 'the', 'copyright', 'owner', 'Further', 'reproduction', 'prohibited', 'without', 'permission', 'Reproduced', 'with', 'permission', 'of', 'the', 'copyright', 'owner', 'Further', 'reproduction', 'prohibited', 'without', 'permission', 'Reproduced', 'with', 'permission', 'of', 'the', 'copyright', 'owner', 'Further', 'reproduction', 'prohibited', 'without', 'permission', 'Reproduced', 'with', 'permission', 'of', 'the', 'copyright', 'owner', 'Further', 'reproduction', 'prohibited', 'without', 'permission', 'Reproduced', 'with', 'permission', 'of', 'the', 'copyright', 'owner', 'Further', 'reproduction', 'prohibited', 'without', 'permission', 'Reproduced', 'with', 'permission', 'of', 'the', 'copyright', 'owner', 'Further', 'reproduction', 'prohibited', 'without', 'permission', 'Reproduced', 'with', 'permission', 'of', 'the', 'copyright', 'owner', 'Further', 'reproduction', 'prohibited', 'without', 'permission', 'Reproduced', 'with', 'permission', 'of', 'the', 'copyright', 'owner', 'Further', 'reproduction', 'prohibited', 'without', 'permission', 'Reproduced', 'with', 'permission', 'of', 'the', 'copyright', 'owner', 'Further', 'reproduction', 'prohibited', 'without', 'permission', 'Reproduced', 'with', 'permission', 'of', 'the', 'copyright', 'owner', 'Further', 'reproduction', 'prohibited', 'without', 'permission', 'Reproduced', 'with', 'permission', 'of', 'the', 'copyright', 'owner', 'Further', 'reproduction', 'prohibited', 'without', 'permission', 'Reproduced', 'with', 'permission', 'of', 'the', 'copyright', 'owner', 'Further', 'reproduction', 'prohibited', 'without', 'permission', 'Reproduced', 'with', 'permission', 'of', 'the', 'copyright', 'owner', 'Further', 'reproduction', 'prohibited', 'without', 'permission', 'Reproduced', 'with', 'permission', 'of', 'the', 'copyright', 'owner', 'Further', 'reproduction', 'prohibited', 'without', 'permission', 'Reproduced', 'with', 'permission', 'of', 'the', 'copyright', 'owner', 'Further', 'reproduction', 'prohibited', 'without', 'permission', 'Reproduced', 'with', 'permission', 'of', 'the', 'copyright', 'owner', 'Further', 'reproduction', 'prohibited', 'without', 'permission', 'Reproduced', 'with', 'permission', 'of', 'the', 'copyright', 'owner', 'Further', 'reproduction', 'prohibited', 'without', 'permission', 'Reproduced', 'with', 'permission', 'of', 'the', 'copyright', 'owner', 'Further', 'reproduction', 'prohibited', 'without', 'permission', 'Reproduced', 'with', 'permission', 'of', 'the', 'copyright', 'owner', 'Further', 'reproduction', 'prohibited', 'without', 'permission', 'Reproduced', 'with', 'permission', 'of', 'the', 'copyright', 'owner', 'Further', 'reproduction', 'prohibited', 'without', 'permission', 'Reproduced', 'with', 'permission', 'of', 'the', 'copyright', 'owner', 'Further', 'reproduction', 'prohibited', 'without', 'permission', 'Reproduced', 'with', 'permission', 'of', 'the', 'copyright', 'owner', 'Further', 'reproduction', 'prohibited', 'without', 'permission', 'Reproduced', 'with', 'permission', 'of', 'the', 'copyright', 'owner', 'Further', 'reproduction', 'prohibited', 'without', 'permission', 'Reproduced', 'with', 'permission', 'of', 'the', 'copyright', 'owner', 'Further', 'reproduction', 'prohibited', 'without', 'permission', 'Reproduced', 'with', 'permission', 'of', 'the', 'copyright', 'owner', 'Further', 'reproduction', 'prohibited', 'without', 'permission', 'Reproduced', 'with', 'permission', 'of', 'the', 'copyright', 'owner', 'Further', 'reproduction', 'prohibited', 'without', 'permission', 'Reproduced', 'with', 'permission', 'of', 'the', 'copyright', 'owner', 'Further', 'reproduction', 'prohibited', 'without', 'permission', 'Reproduced', 'with', 'permission', 'of', 'the', 'copyright', 'owner', 'Further', 'reproduction', 'prohibited', 'without', 'permission', 'Reproduced', 'with', 'permission', 'of', 'the', 'copyright', 'owner', 'Further', 'reproduction', 'prohibited', 'without', 'permission', 'Reproduced', 'with', 'permission', 'of', 'the', 'copyright', 'owner', 'Further', 'reproduction', 'prohibited', 'without', 'permission', 'Reproduced', 'with', 'permission', 'of', 'the', 'copyright', 'owner', 'Further', 'reproduction', 'prohibited', 'without', 'permission', 'Reproduced', 'with', 'permission', 'of', 'the', 'copyright', 'owner', 'Further', 'reproduction', 'prohibited', 'without', 'permission', 'Reproduced', 'with', 'permission', 'of', 'the', 'copyright', 'owner', 'Further', 'reproduction', 'prohibited', 'without', 'permission', 'Reproduced', 'with', 'permission', 'of', 'the', 'copyright', 'owner', 'Further', 'reproduction', 'prohibited', 'without', 'permission', 'Reproduced', 'with', 'permission', 'of', 'the', 'copyright', 'owner', 'Further', 'reproduction', 'prohibited', 'without', 'permission', 'Reproduced', 'with', 'permission', 'of', 'the', 'copyright', 'owner', 'Further', 'reproduction', 'prohibited', 'without', 'permission', 'Reproduced', 'with', 'permission', 'of', 'the', 'copyright', 'owner', 'Further', 'reproduction', 'prohibited', 'without', 'permission', 'Reproduced', 'with', 'permission', 'of', 'the', 'copyright', 'owner', 'Further', 'reproduction', 'prohibited', 'without', 'permission', 'Reproduced', 'with', 'permission', 'of', 'the', 'copyright', 'owner', 'Further', 'reproduction', 'prohibited', 'without', 'permission', 'Reproduced', 'with', 'permission', 'of', 'the', 'copyright', 'owner', 'Further', 'reproduction', 'prohibited', 'without', 'permission', 'Reproduced', 'with', 'permission', 'of', 'the', 'copyright', 'owner', 'Further', 'reproduction', 'prohibited', 'without', 'permission', 'Reproduced', 'with', 'permission', 'of', 'the', 'copyright', 'owner', 'Further', 'reproduction', 'prohibited', 'without', 'permission', 'Reproduced', 'with', 'permission', 'of', 'the', 'copyright', 'owner', 'Further', 'reproduction', 'prohibited', 'without', 'permission', 'Reproduced', 'with', 'permission', 'of', 'the', 'copyright', 'owner', 'Further', 'reproduction', 'prohibited', 'without', 'permission', 'Reproduced', 'with', 'permission', 'of', 'the', 'copyright', 'owner', 'Further', 'reproduction', 'prohibited', 'without', 'permission', 'Reproduced', 'with', 'permission', 'of', 'the', 'copyright', 'owner', 'Further', 'reproduction', 'prohibited', 'without', 'permission', 'Reproduced', 'with', 'permission', 'of', 'the', 'copyright', 'owner', 'Further', 'reproduction', 'prohibited', 'without', 'permission', 'Reproduced', 'with', 'permission', 'of', 'the', 'copyright', 'owner', 'Further', 'reproduction', 'prohibited', 'without', 'permission', 'Reproduced', 'with', 'permission', 'of', 'the', 'copyright', 'owner', 'Further', 'reproduction', 'prohibited', 'without', 'permission', 'Reproduced', 'with', 'permission', 'of', 'the', 'copyright', 'owner', 'Further', 'reproduction', 'prohibited', 'without', 'permission', 'Reproduced', 'with', 'permission', 'of', 'the', 'copyright', 'owner', 'Further', 'reproduction', 'prohibited', 'without', 'permission', 'Reproduced', 'with', 'permission', 'of', 'the', 'copyright', 'owner', 'Further', 'reproduction', 'prohibited', 'without', 'permission', 'Reproduced', 'with', 'permission', 'of', 'the', 'copyright', 'owner', 'Further', 'reproduction', 'prohibited', 'without', 'permission', 'Reproduced', 'with', 'permission', 'of', 'the', 'copyright', 'owner', 'Further', 'reproduction', 'prohibited', 'without', 'permission', 'Reproduced', 'with', 'permission', 'of', 'the', 'copyright', 'owner', 'Further', 'reproduction', 'prohibited', 'without', 'permission', 'Reproduced', 'with', 'permission', 'of', 'the', 'copyright', 'owner', 'Further', 'reproduction', 'prohibited', 'without', 'permission', 'Reproduced', 'with', 'permission', 'of', 'the', 'copyright', 'owner', 'Further', 'reproduction', 'prohibited', 'without', 'permission', 'Reproduced', 'with', 'permission', 'of', 'the', 'copyright', 'owner', 'Further', 'reproduction', 'prohibited', 'without', 'permission', 'Reproduced', 'with', 'permission', 'of', 'the', 'copyright', 'owner', 'Further', 'reproduction', 'prohibited', 'without', 'permission', 'Reproduced', 'with', 'permission', 'of', 'the', 'copyright', 'owner', 'Further', 'reproduction', 'prohibited', 'without', 'permission', 'Reproduced', 'with', 'permission', 'of', 'the', 'copyright', 'owner', 'Further', 'reproduction', 'prohibited', 'without', 'permission', 'Reproduced', 'with', 'permission', 'of', 'the', 'copyright', 'owner', 'Further', 'reproduction', 'prohibited', 'without', 'permission', 'Reproduced', 'with', 'permission', 'of', 'the', 'copyright', 'owner', 'Further', 'reproduction', 'prohibited', 'without', 'permission', 'Reproduced', 'with', 'permission', 'of', 'the', 'copyright', 'owner', 'Further', 'reproduction', 'prohibited', 'without', 'permission', 'Reproduced', 'with', 'permission', 'of', 'the', 'copyright', 'owner', 'Further', 'reproduction', 'prohibited', 'without', 'permission', 'Reproduced', 'with', 'permission', 'of', 'the', 'copyright', 'owner', 'Further', 'reproduction', 'prohibited', 'without', 'permission', 'Reproduced', 'with', 'permission', 'of', 'the', 'copyright', 'owner', 'Further', 'reproduction', 'prohibited', 'without', 'permission', 'Reproduced', 'with', 'permission', 'of', 'the', 'copyright', 'owner', 'Further', 'reproduction', 'prohibited', 'without', 'permission', 'Reproduced', 'with', 'permission', 'of', 'the', 'copyright', 'owner', 'Further', 'reproduction', 'prohibited', 'without', 'permission', 'Reproduced', 'with', 'permission', 'of', 'the', 'copyright', 'owner', 'Further', 'reproduction', 'prohibited', 'without', 'permission', 'Reproduced', 'with', 'permission', 'of', 'the', 'copyright', 'owner', 'Further', 'reproduction', 'prohibited', 'without', 'permission', 'Reproduced', 'with', 'permission', 'of', 'the', 'copyright', 'owner', 'Further', 'reproduction', 'prohibited', 'without', 'permission', 'Reproduced', 'with', 'permission', 'of', 'the', 'copyright', 'owner', 'Further', 'reproduction', 'prohibited', 'without', 'permission', 'Reproduced', 'with', 'permission', 'of', 'the', 'copyright', 'owner', 'Further', 'reproduction', 'prohibited', 'without', 'permission', 'Reproduced', 'with', 'permission', 'of', 'the', 'copyright', 'owner', 'Further', 'reproduction', 'prohibited', 'without', 'permission', 'Reproduced', 'with', 'permission', 'of', 'the', 'copyright', 'owner', 'Further', 'reproduction', 'prohibited', 'without', 'permission', 'Reproduced', 'with', 'permission', 'of', 'the', 'copyright', 'owner', 'Further', 'reproduction', 'prohibited', 'without', 'permission', 'Reproduced', 'with', 'permission', 'of', 'the', 'copyright', 'owner', 'Further', 'reproduction', 'prohibited', 'without', 'permission', 'Reproduced', 'with', 'permission', 'of', 'the', 'copyright', 'owner', 'Further', 'reproduction', 'prohibited', 'without', 'permission', 'Reproduced', 'with', 'permission', 'of', 'the', 'copyright', 'owner', 'Further', 'reproduction', 'prohibited', 'without', 'permission', 'Reproduced', 'with', 'permission', 'of', 'the', 'copyright', 'owner', 'Further', 'reproduction', 'prohibited', 'without', 'permission', 'Reproduced', 'with', 'permission', 'of', 'the', 'copyright', 'owner', 'Further', 'reproduction', 'prohibited', 'without', 'permission', 'Reproduced', 'with', 'permission', 'of', 'the', 'copyright', 'owner', 'Further', 'reproduction', 'prohibited', 'without', 'permission', 'Reproduced', 'with', 'permission', 'of', 'the', 'copyright', 'owner', 'Further', 'reproduction', 'prohibited', 'without', 'permission', 'Reproduced', 'with', 'permission', 'of', 'the', 'copyright', 'owner', 'Further', 'reproduction', 'prohibited', 'without', 'permission', 'Reproduced', 'with', 'permission', 'of', 'the', 'copyright', 'owner', 'Further', 'reproduction', 'prohibited', 'without', 'permission', 'Reproduced', 'with', 'permission', 'of', 'the', 'copyright', 'owner', 'Further', 'reproduction', 'prohibited', 'without', 'permission', 'Reproduced', 'with', 'permission', 'of', 'the', 'copyright', 'owner', 'Further', 'reproduction', 'prohibited', 'without', 'permission', 'Reproduced', 'with', 'permission', 'of', 'the', 'copyright', 'owner', 'Further', 'reproduction', 'prohibited', 'without', 'permission', 'Reproduced', 'with', 'permission', 'of', 'the', 'copyright', 'owner', 'Further', 'reproduction', 'prohibited', 'without', 'permission', 'Reproduced', 'with', 'permission', 'of', 'the', 'copyright', 'owner', 'Further', 'reproduction', 'prohibited', 'without', 'permission', 'Reproduced', 'with', 'permission', 'of', 'the', 'copyright', 'owner', 'Further', 'reproduction', 'prohibited', 'without', 'permission', 'Reproduced', 'with', 'permission', 'of', 'the', 'copyright', 'owner', 'Further', 'reproduction', 'prohibited', 'without', 'permission', 'Reproduced', 'with', 'permission', 'of', 'the', 'copyright', 'owner', 'Further', 'reproduction', 'prohibited', 'without', 'permission', 'Reproduced', 'with', 'permission', 'of', 'the', 'copyright', 'owner', 'Further', 'reproduction', 'prohibited', 'without', 'permission', 'Reproduced', 'with', 'permission', 'of', 'the', 'copyright', 'owner', 'Further', 'reproduction', 'prohibited', 'without', 'permission', 'Reproduced', 'with', 'permission', 'of', 'the', 'copyright', 'owner', 'Further', 'reproduction', 'prohibited', 'without', 'permission', 'Reproduced', 'with', 'permission', 'of', 'the', 'copyright', 'owner', 'Further', 'reproduction', 'prohibited', 'without', 'permission', 'Reproduced', 'with', 'permission', 'of', 'the', 'copyright', 'owner', 'Further', 'reproduction', 'prohibited', 'without', 'permission', 'Reproduced', 'with', 'permission', 'of', 'the', 'copyright', 'owner', 'Further', 'reproduction', 'prohibited', 'without', 'permission', 'Reproduced', 'with', 'permission', 'of', 'the', 'copyright', 'owner', 'Further', 'reproduction', 'prohibited', 'without', 'permission', 'Reproduced', 'with', 'permission', 'of', 'the', 'copyright', 'owner', 'Further', 'reproduction', 'prohibited', 'without', 'permission', 'Reproduced', 'with', 'permission', 'of', 'the', 'copyright', 'owner', 'Further', 'reproduction', 'prohibited', 'without', 'permission', 'Reproduced', 'with', 'permission', 'of', 'the', 'copyright', 'owner', 'Further', 'reproduction', 'prohibited', 'without', 'permission', 'Reproduced', 'with', 'permission', 'of', 'the', 'copyright', 'owner', 'Further', 'reproduction', 'prohibited', 'without', 'permission', 'Reproduced', 'with', 'permission', 'of', 'the', 'copyright', 'owner', 'Further', 'reproduction', 'prohibited', 'without', 'permission', 'Reproduced', 'with', 'permission', 'of', 'the', 'copyright', 'owner', 'Further', 'reproduction', 'prohibited', 'without', 'permission', 'Reproduced', 'with', 'permission', 'of', 'the', 'copyright', 'owner', 'Further', 'reproduction', 'prohibited', 'without', 'permission', 'Reproduced', 'with', 'permission', 'of', 'the', 'copyright', 'owner', 'Further', 'reproduction', 'prohibited', 'without', 'permission', 'Reproduced', 'with', 'permission', 'of', 'the', 'copyright', 'owner', 'Further', 'reproduction', 'prohibited', 'without', 'permission', 'Reproduced', 'with', 'permission', 'of', 'the', 'copyright', 'owner', 'Further', 'reproduction', 'prohibited', 'without', 'permission', 'Reproduced', 'with', 'permission', 'of', 'the', 'copyright', 'owner', 'Further', 'reproduction', 'prohibited', 'without', 'permission', 'Reproduced', 'with', 'permission', 'of', 'the', 'copyright', 'owner', 'Further', 'reproduction', 'prohibited', 'without', 'permission', 'Reproduced', 'with', 'permission', 'of', 'the', 'copyright', 'owner', 'Further', 'reproduction', 'prohibited', 'without', 'permission', 'Reproduced', 'with', 'permission', 'of', 'the', 'copyright', 'owner', 'Further', 'reproduction', 'prohibited', 'without', 'permission', 'Reproduced', 'with', 'permission', 'of', 'the', 'copyright', 'owner', 'Further', 'reproduction', 'prohibited', 'without', 'permission', 'Reproduced', 'with', 'permission', 'of', 'the', 'copyright', 'owner', 'Further', 'reproduction', 'prohibited', 'without', 'permission', 'Reproduced', 'with', 'permission', 'of', 'the', 'copyright', 'owner', 'Further', 'reproduction', 'prohibited', 'without', 'permission', 'Reproduced', 'with', 'permission', 'of', 'the', 'copyright', 'owner', 'Further', 'reproduction', 'prohibited', 'without', 'permission', 'Reproduced', 'with', 'permission', 'of', 'the', 'copyright', 'owner', 'Further', 'reproduction', 'prohibited', 'without', 'permission', 'Reproduced', 'with', 'permission', 'of', 'the', 'copyright', 'owner', 'Further', 'reproduction', 'prohibited', 'without', 'permission', 'Reproduced', 'with', 'permission', 'of', 'the', 'copyright', 'owner', 'Further', 'reproduction', 'prohibited', 'without', 'permission', 'Reproduced', 'with', 'permission', 'of', 'the', 'copyright', 'owner', 'Further', 'reproduction', 'prohibited', 'without', 'permission', 'Reproduced', 'with', 'permission', 'of', 'the', 'copyright', 'owner', 'Further', 'reproduction', 'prohibited', 'without', 'permission', 'Reproduced', 'with', 'permission', 'of', 'the', 'copyright', 'owner', 'Further', 'reproduction', 'prohibited', 'without', 'permission', 'Reproduced', 'with', 'permission', 'of', 'the', 'copyright', 'owner', 'Further', 'reproduction', 'prohibited', 'without', 'permission', 'Reproduced', 'with', 'permission', 'of', 'the', 'copyright', 'owner', 'Further', 'reproduction', 'prohibited', 'without', 'permission', 'Reproduced', 'with', 'permission', 'of', 'the', 'copyright', 'owner', 'Further', 'reproduction', 'prohibited', 'without', 'permission', 'Reproduced', 'with', 'permission', 'of', 'the', 'copyright', 'owner', 'Further', 'reproduction', 'prohibited', 'without', 'permission', 'Reproduced', 'with', 'permission', 'of', 'the', 'copyright', 'owner', 'Further', 'reproduction', 'prohibited', 'without', 'permission', 'Reproduced', 'with', 'permission', 'of', 'the', 'copyright', 'owner', 'Further', 'reproduction', 'prohibited', 'without', 'permission', 'Reproduced', 'with', 'permission', 'of', 'the', 'copyright', 'owner', 'Further', 'reproduction', 'prohibited', 'without', 'permission', 'Reproduced', 'with', 'permission', 'of', 'the', 'copyright', 'owner', 'Further', 'reproduction', 'prohibited', 'without', 'permission', 'Reproduced', 'with', 'permission', 'of', 'the', 'copyright', 'owner', 'Further', 'reproduction', 'prohibited', 'without', 'permission', 'Reproduced', 'with', 'permission', 'of', 'the', 'copyright', 'owner', 'Further', 'reproduction', 'prohibited', 'without', 'permission', 'Reproduced', 'with', 'permission', 'of', 'the', 'copyright', 'owner', 'Further', 'reproduction', 'prohibited', 'without', 'permission', 'Reproduced', 'with', 'permission', 'of', 'the', 'copyright', 'owner', 'Further', 'reproduction', 'prohibited', 'without', 'permission', 'Reproduced', 'with', 'permission', 'of', 'the', 'copyright', 'owner', 'Further', 'reproduction', 'prohibited', 'without', 'permission', 'Reproduced', 'with', 'permission', 'of', 'the', 'copyright', 'owner', 'Further', 'reproduction', 'prohibited', 'without', 'permission', 'Reproduced', 'with', 'permission', 'of', 'the', 'copyright', 'owner', 'Further', 'reproduction', 'prohibited', 'without', 'permission', 'Reproduced', 'with', 'permission', 'of', 'the', 'copyright', 'owner', 'Further', 'reproduction', 'prohibited', 'without', 'permission', 'Reproduced', 'with', 'permission', 'of', 'the', 'copyright', 'owner', 'Further', 'reproduction', 'prohibited', 'without', 'permission', 'Reproduced', 'with', 'permission', 'of', 'the', 'copyright', 'owner', 'Further', 'reproduction', 'prohibited', 'without', 'permission', 'Reproduced', 'with', 'permission', 'of', 'the', 'copyright', 'owner', 'Further', 'reproduction', 'prohibited', 'without', 'permission', 'Reproduced', 'with', 'permission', 'of', 'the', 'copyright', 'owner', 'Further', 'reproduction', 'prohibited', 'without', 'permission', 'Reproduced', 'with', 'permission', 'of', 'the', 'copyright', 'owner', 'Further', 'reproduction', 'prohibited', 'without', 'permission', 'Reproduced', 'with', 'permission', 'of', 'the', 'copyright', 'owner', 'Further', 'reproduction', 'prohibited', 'without', 'permission', 'Reproduced', 'with', 'permission', 'of', 'the', 'copyright', 'owner', 'Further', 'reproduction', 'prohibited', 'without', 'permission', 'Reproduced', 'with', 'permission', 'of', 'the', 'copyright', 'owner', 'Further', 'reproduction', 'prohibited', 'without', 'permission', 'Reproduced', 'with', 'permission', 'of', 'the', 'copyright', 'owner', 'Further', 'reproduction', 'prohibited', 'without', 'permission', 'Reproduced', 'with', 'permission', 'of', 'the', 'copyright', 'owner', 'Further', 'reproduction', 'prohibited', 'without', 'permission', 'Reproduced', 'with', 'permission', 'of', 'the', 'copyright', 'owner', 'Further', 'reproduction', 'prohibited', 'without', 'permission', 'Reproduced', 'with', 'permission', 'of', 'the', 'copyright', 'owner', 'Further', 'reproduction', 'prohibited', 'without', 'permission', 'Reproduced', 'with', 'permission', 'of', 'the', 'copyright', 'owner', 'Further', 'reproduction', 'prohibited', 'without', 'permission', 'Reproduced', 'with', 'permission', 'of', 'the', 'copyright', 'owner', 'Further', 'reproduction', 'prohibited', 'without', 'permission', 'Reproduced', 'with', 'permission', 'of', 'the', 'copyright', 'owner', 'Further', 'reproduction', 'prohibited', 'without', 'permission', 'Reproduced', 'with', 'permission', 'of', 'the', 'copyright', 'owner', 'Further', 'reproduction', 'prohibited', 'without', 'permission', 'Reproduced', 'with', 'permission', 'of', 'the', 'copyright', 'owner', 'Further', 'reproduction', 'prohibited', 'without', 'permission', 'Reproduced', 'with', 'permission', 'of', 'the', 'copyright', 'owner', 'Further', 'reproduction', 'prohibited', 'without', 'permission', 'Reproduced', 'with', 'permission', 'of', 'the', 'copyright', 'owner', 'Further', 'reproduction', 'prohibited', 'without', 'permission', 'Reproduced', 'with', 'permission', 'of', 'the', 'copyright', 'owner', 'Further', 'reproduction', 'prohibited', 'without', 'permission', 'Reproduced', 'with', 'permission', 'of', 'the', 'copyright', 'owner', 'Further', 'reproduction', 'prohibited', 'without', 'permission', 'Reproduced', 'with', 'permission', 'of', 'the', 'copyright', 'owner', 'Further', 'reproduction', 'prohibited', 'without', 'permission', 'Reproduced', 'with', 'permission', 'of', 'the', 'copyright', 'owner', 'Further', 'reproduction', 'prohibited', 'without', 'permission', 'Reproduced', 'with', 'permission', 'of', 'the', 'copyright', 'owner', 'Further', 'reproduction', 'prohibited', 'without', 'permission', 'Reproduced', 'with', 'permission', 'of', 'the', 'copyright', 'owner', 'Further', 'reproduction', 'prohibited', 'without', 'permission', 'Reproduced', 'with', 'permission', 'of', 'the', 'copyright', 'owner', 'Further', 'reproduction', 'prohibited', 'without', 'permission', 'Reproduced', 'with', 'permission', 'of', 'the', 'copyright', 'owner', 'Further', 'reproduction', 'prohibited', 'without', 'permission', 'Reproduced', 'with', 'permission', 'of', 'the', 'copyright', 'owner', 'Further', 'reproduction', 'prohibited', 'without', 'permission', 'Reproduced', 'with', 'permission', 'of', 'the', 'copyright', 'owner', 'Further', 'reproduction', 'prohibited', 'without', 'permission', 'Reproduced', 'with', 'permission', 'of', 'the', 'copyright', 'owner', 'Further', 'reproduction', 'prohibited', 'without', 'permission', 'Reproduced', 'with', 'permission', 'of', 'the', 'copyright', 'owner', 'Further', 'reproduction', 'prohibited', 'without', 'permission', 'Reproduced', 'with', 'permission', 'of', 'the', 'copyright', 'owner', 'Further', 'reproduction', 'prohibited', 'without', 'permission', 'Reproduced', 'with', 'permission', 'of', 'the', 'copyright', 'owner', 'Further', 'reproduction', 'prohibited', 'without', 'permission', 'Reproduced', 'with', 'permission', 'of', 'the', 'copyright', 'owner', 'Further', 'reproduction', 'prohibited', 'without', 'permission', 'Reproduced', 'with', 'permission', 'of', 'the', 'copyright', 'owner', 'Further', 'reproduction', 'prohibited', 'without', 'permission', 'Reproduced', 'with', 'permission', 'of', 'the', 'copyright', 'owner', 'Further', 'reproduction', 'prohibited', 'without', 'permission', 'Reproduced', 'with', 'permission', 'of', 'the', 'copyright', 'owner', 'Further', 'reproduction', 'prohibited', 'without', 'permission', 'Reproduced', 'with', 'permission', 'of', 'the', 'copyright', 'owner', 'Further', 'reproduction', 'prohibited', 'without', 'permission', 'Reproduced', 'with', 'permission', 'of', 'the', 'copyright', 'owner', 'Further', 'reproduction', 'prohibited', 'without', 'permission', 'Reproduced', 'with', 'permission', 'of', 'the', 'copyright', 'owner', 'Further', 'reproduction', 'prohibited', 'without', 'permission', 'Reproduced', 'with', 'permission', 'of', 'the', 'copyright', 'owner', 'Further', 'reproduction', 'prohibited', 'without', 'permission', 'Reproduced', 'with', 'permission', 'of', 'the', 'copyright', 'owner', 'Further', 'reproduction', 'prohibited', 'without', 'permission', 'Reproduced', 'with', 'permission', 'of', 'the', 'copyright', 'owner', 'Further', 'reproduction', 'prohibited', 'without', 'permission', 'Reproduced', 'with', 'permission', 'of', 'the', 'copyright', 'owner', 'Further', 'reproduction', 'prohibited', 'without', 'permission', 'Reproduced', 'with', 'permission', 'of', 'the', 'copyright', 'owner', 'Further', 'reproduction', 'prohibited', 'without', 'permission', 'Reproduced', 'with', 'permission', 'of', 'the', 'copyright', 'owner', 'Further', 'reproduction', 'prohibited', 'without', 'permission', 'Reproduced', 'with', 'permission', 'of', 'the', 'copyright', 'owner', 'Further', 'reproduction', 'prohibited', 'without', 'permission', 'Reproduced', 'with', 'permission', 'of', 'the', 'copyright', 'owner', 'Further', 'reproduction', 'prohibited', 'without', 'permission', 'Reproduced', 'with', 'permission', 'of', 'the', 'copyright', 'owner', 'Further', 'reproduction', 'prohibited', 'without', 'permission', 'Reproduced', 'with', 'permission', 'of', 'the', 'copyright', 'owner', 'Further', 'reproduction', 'prohibited', 'without', 'permission', 'Reproduced', 'with', 'permission', 'of', 'the', 'copyright', 'owner', 'Further', 'reproduction', 'prohibited', 'without', 'permission', 'Reproduced', 'with', 'permission', 'of', 'the', 'copyright', 'owner', 'Further', 'reproduction', 'prohibited', 'without', 'permission', 'Reproduced', 'with', 'permission', 'of', 'the', 'copyright', 'owner', 'Further', 'reproduction', 'prohibited', 'without', 'permission', 'Reproduced', 'with', 'permission', 'of', 'the', 'copyright', 'owner', 'Further', 'reproduction', 'prohibited', 'without', 'permission', 'Reproduced', 'with', 'permission', 'of', 'the', 'copyright', 'owner', 'Further', 'reproduction', 'prohibited', 'without', 'permission', 'Reproduced', 'with', 'permission', 'of', 'the', 'copyright', 'owner', 'Further', 'reproduction', 'prohibited', 'without', 'permission', 'Reproduced', 'with', 'permission', 'of', 'the', 'copyright', 'owner', 'Further', 'reproduction', 'prohibited', 'without', 'permission', 'Reproduced', 'with', 'permission', 'of', 'the', 'copyright', 'owner', 'Further', 'reproduction', 'prohibited', 'without', 'permission', 'Reproduced', 'with', 'permission', 'of', 'the', 'copyright', 'owner', 'Further', 'reproduction', 'prohibited', 'without', 'permission', 'Reproduced', 'with', 'permission', 'of', 'the', 'copyright', 'owner', 'Further', 'reproduction', 'prohibited', 'without', 'permission', 'Reproduced', 'with', 'permission', 'of', 'the', 'copyright', 'owner', 'Further', 'reproduction', 'prohibited', 'without', 'permission', 'Reproduced', 'with', 'permission', 'of', 'the', 'copyright', 'owner', 'Further', 'reproduction', 'prohibited', 'without', 'permission', 'Reproduced', 'with', 'permission', 'of', 'the', 'copyright', 'owner', 'Further', 'reproduction', 'prohibited', 'without', 'permission', 'Reproduced', 'with', 'permission', 'of', 'the', 'copyright', 'owner', 'Further', 'reproduction', 'prohibited', 'without', 'permission', 'Reproduced', 'with', 'permission', 'of', 'the', 'copyright', 'owner', 'Further', 'reproduction', 'prohibited', 'without', 'permission', 'Reproduced', 'with', 'permission', 'of', 'the', 'copyright', 'owner', 'Further', 'reproduction', 'prohibited', 'without', 'permission', 'Reproduced', 'with', 'permission', 'of', 'the', 'copyright', 'owner', 'Further', 'reproduction', 'prohibited', 'without', 'permission']\n"
          ]
        }
      ]
    },
    {
      "cell_type": "code",
      "metadata": {
        "id": "iFUcD6u8Exx6",
        "colab": {
          "base_uri": "https://localhost:8080/"
        },
        "outputId": "a66fd270-cff5-4a07-eb8a-d197c673ac7e"
      },
      "source": [
        "def lower_para(para):\n",
        "  return [word.lower() for word in para]\n",
        "\n",
        "\n",
        "lower_words = [lower_para(para) for para in tokenized_words]\n",
        "print(lower_words[0])"
      ],
      "execution_count": 15,
      "outputs": [
        {
          "output_type": "stream",
          "name": "stdout",
          "text": [
            "['reproduced', 'with', 'permission', 'of', 'the', 'copyright', 'owner', 'further', 'reproduction', 'prohibited', 'without', 'permission', 'multiple', 'literacies', 'new', 'pedagogy', 'emerging', 'notions', 'of', 'oneself', 'and', 'rochesmith', 'jeeva', 'ratna', 'proquest', 'dissertations', 'and', 'theses', '2004', 'proquest', 'reproduced', 'with', 'permission', 'of', 'the', 'copyright', 'owner', 'further', 'reproduction', 'prohibited', 'without', 'permission', 'reproduced', 'with', 'permission', 'of', 'the', 'copyright', 'owner', 'further', 'reproduction', 'prohibited', 'without', 'permission', 'reproduced', 'with', 'permission', 'of', 'the', 'copyright', 'owner', 'further', 'reproduction', 'prohibited', 'without', 'permission', 'reproduced', 'with', 'permission', 'of', 'the', 'copyright', 'owner', 'further', 'reproduction', 'prohibited', 'without', 'permission', 'reproduced', 'with', 'permission', 'of', 'the', 'copyright', 'owner', 'further', 'reproduction', 'prohibited', 'without', 'permission', 'reproduced', 'with', 'permission', 'of', 'the', 'copyright', 'owner', 'further', 'reproduction', 'prohibited', 'without', 'permission', 'reproduced', 'with', 'permission', 'of', 'the', 'copyright', 'owner', 'further', 'reproduction', 'prohibited', 'without', 'permission', 'reproduced', 'with', 'permission', 'of', 'the', 'copyright', 'owner', 'further', 'reproduction', 'prohibited', 'without', 'permission', 'reproduced', 'with', 'permission', 'of', 'the', 'copyright', 'owner', 'further', 'reproduction', 'prohibited', 'without', 'permission', 'reproduced', 'with', 'permission', 'of', 'the', 'copyright', 'owner', 'further', 'reproduction', 'prohibited', 'without', 'permission', 'reproduced', 'with', 'permission', 'of', 'the', 'copyright', 'owner', 'further', 'reproduction', 'prohibited', 'without', 'permission', 'reproduced', 'with', 'permission', 'of', 'the', 'copyright', 'owner', 'further', 'reproduction', 'prohibited', 'without', 'permission', 'reproduced', 'with', 'permission', 'of', 'the', 'copyright', 'owner', 'further', 'reproduction', 'prohibited', 'without', 'permission', 'reproduced', 'with', 'permission', 'of', 'the', 'copyright', 'owner', 'further', 'reproduction', 'prohibited', 'without', 'permission', 'reproduced', 'with', 'permission', 'of', 'the', 'copyright', 'owner', 'further', 'reproduction', 'prohibited', 'without', 'permission', 'reproduced', 'with', 'permission', 'of', 'the', 'copyright', 'owner', 'further', 'reproduction', 'prohibited', 'without', 'permission', 'reproduced', 'with', 'permission', 'of', 'the', 'copyright', 'owner', 'further', 'reproduction', 'prohibited', 'without', 'permission', 'reproduced', 'with', 'permission', 'of', 'the', 'copyright', 'owner', 'further', 'reproduction', 'prohibited', 'without', 'permission', 'reproduced', 'with', 'permission', 'of', 'the', 'copyright', 'owner', 'further', 'reproduction', 'prohibited', 'without', 'permission', 'reproduced', 'with', 'permission', 'of', 'the', 'copyright', 'owner', 'further', 'reproduction', 'prohibited', 'without', 'permission', 'reproduced', 'with', 'permission', 'of', 'the', 'copyright', 'owner', 'further', 'reproduction', 'prohibited', 'without', 'permission', 'reproduced', 'with', 'permission', 'of', 'the', 'copyright', 'owner', 'further', 'reproduction', 'prohibited', 'without', 'permission', 'reproduced', 'with', 'permission', 'of', 'the', 'copyright', 'owner', 'further', 'reproduction', 'prohibited', 'without', 'permission', 'reproduced', 'with', 'permission', 'of', 'the', 'copyright', 'owner', 'further', 'reproduction', 'prohibited', 'without', 'permission', 'reproduced', 'with', 'permission', 'of', 'the', 'copyright', 'owner', 'further', 'reproduction', 'prohibited', 'without', 'permission', 'reproduced', 'with', 'permission', 'of', 'the', 'copyright', 'owner', 'further', 'reproduction', 'prohibited', 'without', 'permission', 'reproduced', 'with', 'permission', 'of', 'the', 'copyright', 'owner', 'further', 'reproduction', 'prohibited', 'without', 'permission', 'reproduced', 'with', 'permission', 'of', 'the', 'copyright', 'owner', 'further', 'reproduction', 'prohibited', 'without', 'permission', 'reproduced', 'with', 'permission', 'of', 'the', 'copyright', 'owner', 'further', 'reproduction', 'prohibited', 'without', 'permission', 'reproduced', 'with', 'permission', 'of', 'the', 'copyright', 'owner', 'further', 'reproduction', 'prohibited', 'without', 'permission', 'reproduced', 'with', 'permission', 'of', 'the', 'copyright', 'owner', 'further', 'reproduction', 'prohibited', 'without', 'permission', 'reproduced', 'with', 'permission', 'of', 'the', 'copyright', 'owner', 'further', 'reproduction', 'prohibited', 'without', 'permission', 'reproduced', 'with', 'permission', 'of', 'the', 'copyright', 'owner', 'further', 'reproduction', 'prohibited', 'without', 'permission', 'reproduced', 'with', 'permission', 'of', 'the', 'copyright', 'owner', 'further', 'reproduction', 'prohibited', 'without', 'permission', 'reproduced', 'with', 'permission', 'of', 'the', 'copyright', 'owner', 'further', 'reproduction', 'prohibited', 'without', 'permission', 'reproduced', 'with', 'permission', 'of', 'the', 'copyright', 'owner', 'further', 'reproduction', 'prohibited', 'without', 'permission', 'reproduced', 'with', 'permission', 'of', 'the', 'copyright', 'owner', 'further', 'reproduction', 'prohibited', 'without', 'permission', 'reproduced', 'with', 'permission', 'of', 'the', 'copyright', 'owner', 'further', 'reproduction', 'prohibited', 'without', 'permission', 'reproduced', 'with', 'permission', 'of', 'the', 'copyright', 'owner', 'further', 'reproduction', 'prohibited', 'without', 'permission', 'reproduced', 'with', 'permission', 'of', 'the', 'copyright', 'owner', 'further', 'reproduction', 'prohibited', 'without', 'permission', 'reproduced', 'with', 'permission', 'of', 'the', 'copyright', 'owner', 'further', 'reproduction', 'prohibited', 'without', 'permission', 'reproduced', 'with', 'permission', 'of', 'the', 'copyright', 'owner', 'further', 'reproduction', 'prohibited', 'without', 'permission', 'reproduced', 'with', 'permission', 'of', 'the', 'copyright', 'owner', 'further', 'reproduction', 'prohibited', 'without', 'permission', 'reproduced', 'with', 'permission', 'of', 'the', 'copyright', 'owner', 'further', 'reproduction', 'prohibited', 'without', 'permission', 'reproduced', 'with', 'permission', 'of', 'the', 'copyright', 'owner', 'further', 'reproduction', 'prohibited', 'without', 'permission', 'reproduced', 'with', 'permission', 'of', 'the', 'copyright', 'owner', 'further', 'reproduction', 'prohibited', 'without', 'permission', 'reproduced', 'with', 'permission', 'of', 'the', 'copyright', 'owner', 'further', 'reproduction', 'prohibited', 'without', 'permission', 'reproduced', 'with', 'permission', 'of', 'the', 'copyright', 'owner', 'further', 'reproduction', 'prohibited', 'without', 'permission', 'reproduced', 'with', 'permission', 'of', 'the', 'copyright', 'owner', 'further', 'reproduction', 'prohibited', 'without', 'permission', 'reproduced', 'with', 'permission', 'of', 'the', 'copyright', 'owner', 'further', 'reproduction', 'prohibited', 'without', 'permission', 'reproduced', 'with', 'permission', 'of', 'the', 'copyright', 'owner', 'further', 'reproduction', 'prohibited', 'without', 'permission', 'reproduced', 'with', 'permission', 'of', 'the', 'copyright', 'owner', 'further', 'reproduction', 'prohibited', 'without', 'permission', 'reproduced', 'with', 'permission', 'of', 'the', 'copyright', 'owner', 'further', 'reproduction', 'prohibited', 'without', 'permission', 'reproduced', 'with', 'permission', 'of', 'the', 'copyright', 'owner', 'further', 'reproduction', 'prohibited', 'without', 'permission', 'reproduced', 'with', 'permission', 'of', 'the', 'copyright', 'owner', 'further', 'reproduction', 'prohibited', 'without', 'permission', 'reproduced', 'with', 'permission', 'of', 'the', 'copyright', 'owner', 'further', 'reproduction', 'prohibited', 'without', 'permission', 'reproduced', 'with', 'permission', 'of', 'the', 'copyright', 'owner', 'further', 'reproduction', 'prohibited', 'without', 'permission', 'reproduced', 'with', 'permission', 'of', 'the', 'copyright', 'owner', 'further', 'reproduction', 'prohibited', 'without', 'permission', 'reproduced', 'with', 'permission', 'of', 'the', 'copyright', 'owner', 'further', 'reproduction', 'prohibited', 'without', 'permission', 'reproduced', 'with', 'permission', 'of', 'the', 'copyright', 'owner', 'further', 'reproduction', 'prohibited', 'without', 'permission', 'reproduced', 'with', 'permission', 'of', 'the', 'copyright', 'owner', 'further', 'reproduction', 'prohibited', 'without', 'permission', 'reproduced', 'with', 'permission', 'of', 'the', 'copyright', 'owner', 'further', 'reproduction', 'prohibited', 'without', 'permission', 'reproduced', 'with', 'permission', 'of', 'the', 'copyright', 'owner', 'further', 'reproduction', 'prohibited', 'without', 'permission', 'reproduced', 'with', 'permission', 'of', 'the', 'copyright', 'owner', 'further', 'reproduction', 'prohibited', 'without', 'permission', 'reproduced', 'with', 'permission', 'of', 'the', 'copyright', 'owner', 'further', 'reproduction', 'prohibited', 'without', 'permission', 'reproduced', 'with', 'permission', 'of', 'the', 'copyright', 'owner', 'further', 'reproduction', 'prohibited', 'without', 'permission', 'reproduced', 'with', 'permission', 'of', 'the', 'copyright', 'owner', 'further', 'reproduction', 'prohibited', 'without', 'permission', 'reproduced', 'with', 'permission', 'of', 'the', 'copyright', 'owner', 'further', 'reproduction', 'prohibited', 'without', 'permission', 'reproduced', 'with', 'permission', 'of', 'the', 'copyright', 'owner', 'further', 'reproduction', 'prohibited', 'without', 'permission', 'reproduced', 'with', 'permission', 'of', 'the', 'copyright', 'owner', 'further', 'reproduction', 'prohibited', 'without', 'permission', 'reproduced', 'with', 'permission', 'of', 'the', 'copyright', 'owner', 'further', 'reproduction', 'prohibited', 'without', 'permission', 'reproduced', 'with', 'permission', 'of', 'the', 'copyright', 'owner', 'further', 'reproduction', 'prohibited', 'without', 'permission', 'reproduced', 'with', 'permission', 'of', 'the', 'copyright', 'owner', 'further', 'reproduction', 'prohibited', 'without', 'permission', 'reproduced', 'with', 'permission', 'of', 'the', 'copyright', 'owner', 'further', 'reproduction', 'prohibited', 'without', 'permission', 'reproduced', 'with', 'permission', 'of', 'the', 'copyright', 'owner', 'further', 'reproduction', 'prohibited', 'without', 'permission', 'reproduced', 'with', 'permission', 'of', 'the', 'copyright', 'owner', 'further', 'reproduction', 'prohibited', 'without', 'permission', 'reproduced', 'with', 'permission', 'of', 'the', 'copyright', 'owner', 'further', 'reproduction', 'prohibited', 'without', 'permission', 'reproduced', 'with', 'permission', 'of', 'the', 'copyright', 'owner', 'further', 'reproduction', 'prohibited', 'without', 'permission', 'reproduced', 'with', 'permission', 'of', 'the', 'copyright', 'owner', 'further', 'reproduction', 'prohibited', 'without', 'permission', 'reproduced', 'with', 'permission', 'of', 'the', 'copyright', 'owner', 'further', 'reproduction', 'prohibited', 'without', 'permission', 'reproduced', 'with', 'permission', 'of', 'the', 'copyright', 'owner', 'further', 'reproduction', 'prohibited', 'without', 'permission', 'reproduced', 'with', 'permission', 'of', 'the', 'copyright', 'owner', 'further', 'reproduction', 'prohibited', 'without', 'permission', 'reproduced', 'with', 'permission', 'of', 'the', 'copyright', 'owner', 'further', 'reproduction', 'prohibited', 'without', 'permission', 'reproduced', 'with', 'permission', 'of', 'the', 'copyright', 'owner', 'further', 'reproduction', 'prohibited', 'without', 'permission', 'reproduced', 'with', 'permission', 'of', 'the', 'copyright', 'owner', 'further', 'reproduction', 'prohibited', 'without', 'permission', 'reproduced', 'with', 'permission', 'of', 'the', 'copyright', 'owner', 'further', 'reproduction', 'prohibited', 'without', 'permission', 'reproduced', 'with', 'permission', 'of', 'the', 'copyright', 'owner', 'further', 'reproduction', 'prohibited', 'without', 'permission', 'reproduced', 'with', 'permission', 'of', 'the', 'copyright', 'owner', 'further', 'reproduction', 'prohibited', 'without', 'permission', 'reproduced', 'with', 'permission', 'of', 'the', 'copyright', 'owner', 'further', 'reproduction', 'prohibited', 'without', 'permission', 'reproduced', 'with', 'permission', 'of', 'the', 'copyright', 'owner', 'further', 'reproduction', 'prohibited', 'without', 'permission', 'reproduced', 'with', 'permission', 'of', 'the', 'copyright', 'owner', 'further', 'reproduction', 'prohibited', 'without', 'permission', 'reproduced', 'with', 'permission', 'of', 'the', 'copyright', 'owner', 'further', 'reproduction', 'prohibited', 'without', 'permission', 'reproduced', 'with', 'permission', 'of', 'the', 'copyright', 'owner', 'further', 'reproduction', 'prohibited', 'without', 'permission', 'reproduced', 'with', 'permission', 'of', 'the', 'copyright', 'owner', 'further', 'reproduction', 'prohibited', 'without', 'permission', 'reproduced', 'with', 'permission', 'of', 'the', 'copyright', 'owner', 'further', 'reproduction', 'prohibited', 'without', 'permission', 'reproduced', 'with', 'permission', 'of', 'the', 'copyright', 'owner', 'further', 'reproduction', 'prohibited', 'without', 'permission', 'reproduced', 'with', 'permission', 'of', 'the', 'copyright', 'owner', 'further', 'reproduction', 'prohibited', 'without', 'permission', 'reproduced', 'with', 'permission', 'of', 'the', 'copyright', 'owner', 'further', 'reproduction', 'prohibited', 'without', 'permission', 'reproduced', 'with', 'permission', 'of', 'the', 'copyright', 'owner', 'further', 'reproduction', 'prohibited', 'without', 'permission', 'reproduced', 'with', 'permission', 'of', 'the', 'copyright', 'owner', 'further', 'reproduction', 'prohibited', 'without', 'permission', 'reproduced', 'with', 'permission', 'of', 'the', 'copyright', 'owner', 'further', 'reproduction', 'prohibited', 'without', 'permission', 'reproduced', 'with', 'permission', 'of', 'the', 'copyright', 'owner', 'further', 'reproduction', 'prohibited', 'without', 'permission', 'reproduced', 'with', 'permission', 'of', 'the', 'copyright', 'owner', 'further', 'reproduction', 'prohibited', 'without', 'permission', 'reproduced', 'with', 'permission', 'of', 'the', 'copyright', 'owner', 'further', 'reproduction', 'prohibited', 'without', 'permission', 'reproduced', 'with', 'permission', 'of', 'the', 'copyright', 'owner', 'further', 'reproduction', 'prohibited', 'without', 'permission', 'reproduced', 'with', 'permission', 'of', 'the', 'copyright', 'owner', 'further', 'reproduction', 'prohibited', 'without', 'permission', 'reproduced', 'with', 'permission', 'of', 'the', 'copyright', 'owner', 'further', 'reproduction', 'prohibited', 'without', 'permission', 'reproduced', 'with', 'permission', 'of', 'the', 'copyright', 'owner', 'further', 'reproduction', 'prohibited', 'without', 'permission', 'reproduced', 'with', 'permission', 'of', 'the', 'copyright', 'owner', 'further', 'reproduction', 'prohibited', 'without', 'permission', 'reproduced', 'with', 'permission', 'of', 'the', 'copyright', 'owner', 'further', 'reproduction', 'prohibited', 'without', 'permission', 'reproduced', 'with', 'permission', 'of', 'the', 'copyright', 'owner', 'further', 'reproduction', 'prohibited', 'without', 'permission', 'reproduced', 'with', 'permission', 'of', 'the', 'copyright', 'owner', 'further', 'reproduction', 'prohibited', 'without', 'permission', 'reproduced', 'with', 'permission', 'of', 'the', 'copyright', 'owner', 'further', 'reproduction', 'prohibited', 'without', 'permission', 'reproduced', 'with', 'permission', 'of', 'the', 'copyright', 'owner', 'further', 'reproduction', 'prohibited', 'without', 'permission', 'reproduced', 'with', 'permission', 'of', 'the', 'copyright', 'owner', 'further', 'reproduction', 'prohibited', 'without', 'permission', 'reproduced', 'with', 'permission', 'of', 'the', 'copyright', 'owner', 'further', 'reproduction', 'prohibited', 'without', 'permission', 'reproduced', 'with', 'permission', 'of', 'the', 'copyright', 'owner', 'further', 'reproduction', 'prohibited', 'without', 'permission', 'reproduced', 'with', 'permission', 'of', 'the', 'copyright', 'owner', 'further', 'reproduction', 'prohibited', 'without', 'permission', 'reproduced', 'with', 'permission', 'of', 'the', 'copyright', 'owner', 'further', 'reproduction', 'prohibited', 'without', 'permission', 'reproduced', 'with', 'permission', 'of', 'the', 'copyright', 'owner', 'further', 'reproduction', 'prohibited', 'without', 'permission', 'reproduced', 'with', 'permission', 'of', 'the', 'copyright', 'owner', 'further', 'reproduction', 'prohibited', 'without', 'permission', 'reproduced', 'with', 'permission', 'of', 'the', 'copyright', 'owner', 'further', 'reproduction', 'prohibited', 'without', 'permission', 'reproduced', 'with', 'permission', 'of', 'the', 'copyright', 'owner', 'further', 'reproduction', 'prohibited', 'without', 'permission', 'reproduced', 'with', 'permission', 'of', 'the', 'copyright', 'owner', 'further', 'reproduction', 'prohibited', 'without', 'permission', 'reproduced', 'with', 'permission', 'of', 'the', 'copyright', 'owner', 'further', 'reproduction', 'prohibited', 'without', 'permission', 'reproduced', 'with', 'permission', 'of', 'the', 'copyright', 'owner', 'further', 'reproduction', 'prohibited', 'without', 'permission', 'reproduced', 'with', 'permission', 'of', 'the', 'copyright', 'owner', 'further', 'reproduction', 'prohibited', 'without', 'permission', 'reproduced', 'with', 'permission', 'of', 'the', 'copyright', 'owner', 'further', 'reproduction', 'prohibited', 'without', 'permission', 'reproduced', 'with', 'permission', 'of', 'the', 'copyright', 'owner', 'further', 'reproduction', 'prohibited', 'without', 'permission', 'reproduced', 'with', 'permission', 'of', 'the', 'copyright', 'owner', 'further', 'reproduction', 'prohibited', 'without', 'permission', 'reproduced', 'with', 'permission', 'of', 'the', 'copyright', 'owner', 'further', 'reproduction', 'prohibited', 'without', 'permission', 'reproduced', 'with', 'permission', 'of', 'the', 'copyright', 'owner', 'further', 'reproduction', 'prohibited', 'without', 'permission', 'reproduced', 'with', 'permission', 'of', 'the', 'copyright', 'owner', 'further', 'reproduction', 'prohibited', 'without', 'permission', 'reproduced', 'with', 'permission', 'of', 'the', 'copyright', 'owner', 'further', 'reproduction', 'prohibited', 'without', 'permission', 'reproduced', 'with', 'permission', 'of', 'the', 'copyright', 'owner', 'further', 'reproduction', 'prohibited', 'without', 'permission', 'reproduced', 'with', 'permission', 'of', 'the', 'copyright', 'owner', 'further', 'reproduction', 'prohibited', 'without', 'permission', 'reproduced', 'with', 'permission', 'of', 'the', 'copyright', 'owner', 'further', 'reproduction', 'prohibited', 'without', 'permission', 'reproduced', 'with', 'permission', 'of', 'the', 'copyright', 'owner', 'further', 'reproduction', 'prohibited', 'without', 'permission', 'reproduced', 'with', 'permission', 'of', 'the', 'copyright', 'owner', 'further', 'reproduction', 'prohibited', 'without', 'permission', 'reproduced', 'with', 'permission', 'of', 'the', 'copyright', 'owner', 'further', 'reproduction', 'prohibited', 'without', 'permission', 'reproduced', 'with', 'permission', 'of', 'the', 'copyright', 'owner', 'further', 'reproduction', 'prohibited', 'without', 'permission', 'reproduced', 'with', 'permission', 'of', 'the', 'copyright', 'owner', 'further', 'reproduction', 'prohibited', 'without', 'permission', 'reproduced', 'with', 'permission', 'of', 'the', 'copyright', 'owner', 'further', 'reproduction', 'prohibited', 'without', 'permission', 'reproduced', 'with', 'permission', 'of', 'the', 'copyright', 'owner', 'further', 'reproduction', 'prohibited', 'without', 'permission', 'reproduced', 'with', 'permission', 'of', 'the', 'copyright', 'owner', 'further', 'reproduction', 'prohibited', 'without', 'permission', 'reproduced', 'with', 'permission', 'of', 'the', 'copyright', 'owner', 'further', 'reproduction', 'prohibited', 'without', 'permission', 'reproduced', 'with', 'permission', 'of', 'the', 'copyright', 'owner', 'further', 'reproduction', 'prohibited', 'without', 'permission', 'reproduced', 'with', 'permission', 'of', 'the', 'copyright', 'owner', 'further', 'reproduction', 'prohibited', 'without', 'permission', 'reproduced', 'with', 'permission', 'of', 'the', 'copyright', 'owner', 'further', 'reproduction', 'prohibited', 'without', 'permission', 'reproduced', 'with', 'permission', 'of', 'the', 'copyright', 'owner', 'further', 'reproduction', 'prohibited', 'without', 'permission', 'reproduced', 'with', 'permission', 'of', 'the', 'copyright', 'owner', 'further', 'reproduction', 'prohibited', 'without', 'permission', 'reproduced', 'with', 'permission', 'of', 'the', 'copyright', 'owner', 'further', 'reproduction', 'prohibited', 'without', 'permission', 'reproduced', 'with', 'permission', 'of', 'the', 'copyright', 'owner', 'further', 'reproduction', 'prohibited', 'without', 'permission', 'reproduced', 'with', 'permission', 'of', 'the', 'copyright', 'owner', 'further', 'reproduction', 'prohibited', 'without', 'permission', 'reproduced', 'with', 'permission', 'of', 'the', 'copyright', 'owner', 'further', 'reproduction', 'prohibited', 'without', 'permission', 'reproduced', 'with', 'permission', 'of', 'the', 'copyright', 'owner', 'further', 'reproduction', 'prohibited', 'without', 'permission', 'reproduced', 'with', 'permission', 'of', 'the', 'copyright', 'owner', 'further', 'reproduction', 'prohibited', 'without', 'permission', 'reproduced', 'with', 'permission', 'of', 'the', 'copyright', 'owner', 'further', 'reproduction', 'prohibited', 'without', 'permission', 'reproduced', 'with', 'permission', 'of', 'the', 'copyright', 'owner', 'further', 'reproduction', 'prohibited', 'without', 'permission', 'reproduced', 'with', 'permission', 'of', 'the', 'copyright', 'owner', 'further', 'reproduction', 'prohibited', 'without', 'permission', 'reproduced', 'with', 'permission', 'of', 'the', 'copyright', 'owner', 'further', 'reproduction', 'prohibited', 'without', 'permission', 'reproduced', 'with', 'permission', 'of', 'the', 'copyright', 'owner', 'further', 'reproduction', 'prohibited', 'without', 'permission', 'reproduced', 'with', 'permission', 'of', 'the', 'copyright', 'owner', 'further', 'reproduction', 'prohibited', 'without', 'permission', 'reproduced', 'with', 'permission', 'of', 'the', 'copyright', 'owner', 'further', 'reproduction', 'prohibited', 'without', 'permission', 'reproduced', 'with', 'permission', 'of', 'the', 'copyright', 'owner', 'further', 'reproduction', 'prohibited', 'without', 'permission', 'reproduced', 'with', 'permission', 'of', 'the', 'copyright', 'owner', 'further', 'reproduction', 'prohibited', 'without', 'permission', 'reproduced', 'with', 'permission', 'of', 'the', 'copyright', 'owner', 'further', 'reproduction', 'prohibited', 'without', 'permission', 'reproduced', 'with', 'permission', 'of', 'the', 'copyright', 'owner', 'further', 'reproduction', 'prohibited', 'without', 'permission', 'reproduced', 'with', 'permission', 'of', 'the', 'copyright', 'owner', 'further', 'reproduction', 'prohibited', 'without', 'permission', 'reproduced', 'with', 'permission', 'of', 'the', 'copyright', 'owner', 'further', 'reproduction', 'prohibited', 'without', 'permission', 'reproduced', 'with', 'permission', 'of', 'the', 'copyright', 'owner', 'further', 'reproduction', 'prohibited', 'without', 'permission', 'reproduced', 'with', 'permission', 'of', 'the', 'copyright', 'owner', 'further', 'reproduction', 'prohibited', 'without', 'permission', 'reproduced', 'with', 'permission', 'of', 'the', 'copyright', 'owner', 'further', 'reproduction', 'prohibited', 'without', 'permission', 'reproduced', 'with', 'permission', 'of', 'the', 'copyright', 'owner', 'further', 'reproduction', 'prohibited', 'without', 'permission', 'reproduced', 'with', 'permission', 'of', 'the', 'copyright', 'owner', 'further', 'reproduction', 'prohibited', 'without', 'permission', 'reproduced', 'with', 'permission', 'of', 'the', 'copyright', 'owner', 'further', 'reproduction', 'prohibited', 'without', 'permission', 'reproduced', 'with', 'permission', 'of', 'the', 'copyright', 'owner', 'further', 'reproduction', 'prohibited', 'without', 'permission', 'reproduced', 'with', 'permission', 'of', 'the', 'copyright', 'owner', 'further', 'reproduction', 'prohibited', 'without', 'permission', 'reproduced', 'with', 'permission', 'of', 'the', 'copyright', 'owner', 'further', 'reproduction', 'prohibited', 'without', 'permission', 'reproduced', 'with', 'permission', 'of', 'the', 'copyright', 'owner', 'further', 'reproduction', 'prohibited', 'without', 'permission', 'reproduced', 'with', 'permission', 'of', 'the', 'copyright', 'owner', 'further', 'reproduction', 'prohibited', 'without', 'permission', 'reproduced', 'with', 'permission', 'of', 'the', 'copyright', 'owner', 'further', 'reproduction', 'prohibited', 'without', 'permission', 'reproduced', 'with', 'permission', 'of', 'the', 'copyright', 'owner', 'further', 'reproduction', 'prohibited', 'without', 'permission', 'reproduced', 'with', 'permission', 'of', 'the', 'copyright', 'owner', 'further', 'reproduction', 'prohibited', 'without', 'permission', 'reproduced', 'with', 'permission', 'of', 'the', 'copyright', 'owner', 'further', 'reproduction', 'prohibited', 'without', 'permission', 'reproduced', 'with', 'permission', 'of', 'the', 'copyright', 'owner', 'further', 'reproduction', 'prohibited', 'without', 'permission', 'reproduced', 'with', 'permission', 'of', 'the', 'copyright', 'owner', 'further', 'reproduction', 'prohibited', 'without', 'permission', 'reproduced', 'with', 'permission', 'of', 'the', 'copyright', 'owner', 'further', 'reproduction', 'prohibited', 'without', 'permission', 'reproduced', 'with', 'permission', 'of', 'the', 'copyright', 'owner', 'further', 'reproduction', 'prohibited', 'without', 'permission', 'reproduced', 'with', 'permission', 'of', 'the', 'copyright', 'owner', 'further', 'reproduction', 'prohibited', 'without', 'permission', 'reproduced', 'with', 'permission', 'of', 'the', 'copyright', 'owner', 'further', 'reproduction', 'prohibited', 'without', 'permission', 'reproduced', 'with', 'permission', 'of', 'the', 'copyright', 'owner', 'further', 'reproduction', 'prohibited', 'without', 'permission', 'reproduced', 'with', 'permission', 'of', 'the', 'copyright', 'owner', 'further', 'reproduction', 'prohibited', 'without', 'permission', 'reproduced', 'with', 'permission', 'of', 'the', 'copyright', 'owner', 'further', 'reproduction', 'prohibited', 'without', 'permission', 'reproduced', 'with', 'permission', 'of', 'the', 'copyright', 'owner', 'further', 'reproduction', 'prohibited', 'without', 'permission', 'reproduced', 'with', 'permission', 'of', 'the', 'copyright', 'owner', 'further', 'reproduction', 'prohibited', 'without', 'permission', 'reproduced', 'with', 'permission', 'of', 'the', 'copyright', 'owner', 'further', 'reproduction', 'prohibited', 'without', 'permission', 'reproduced', 'with', 'permission', 'of', 'the', 'copyright', 'owner', 'further', 'reproduction', 'prohibited', 'without', 'permission', 'reproduced', 'with', 'permission', 'of', 'the', 'copyright', 'owner', 'further', 'reproduction', 'prohibited', 'without', 'permission', 'reproduced', 'with', 'permission', 'of', 'the', 'copyright', 'owner', 'further', 'reproduction', 'prohibited', 'without', 'permission', 'reproduced', 'with', 'permission', 'of', 'the', 'copyright', 'owner', 'further', 'reproduction', 'prohibited', 'without', 'permission', 'reproduced', 'with', 'permission', 'of', 'the', 'copyright', 'owner', 'further', 'reproduction', 'prohibited', 'without', 'permission', 'reproduced', 'with', 'permission', 'of', 'the', 'copyright', 'owner', 'further', 'reproduction', 'prohibited', 'without', 'permission', 'reproduced', 'with', 'permission', 'of', 'the', 'copyright', 'owner', 'further', 'reproduction', 'prohibited', 'without', 'permission', 'reproduced', 'with', 'permission', 'of', 'the', 'copyright', 'owner', 'further', 'reproduction', 'prohibited', 'without', 'permission', 'reproduced', 'with', 'permission', 'of', 'the', 'copyright', 'owner', 'further', 'reproduction', 'prohibited', 'without', 'permission', 'reproduced', 'with', 'permission', 'of', 'the', 'copyright', 'owner', 'further', 'reproduction', 'prohibited', 'without', 'permission', 'reproduced', 'with', 'permission', 'of', 'the', 'copyright', 'owner', 'further', 'reproduction', 'prohibited', 'without', 'permission', 'reproduced', 'with', 'permission', 'of', 'the', 'copyright', 'owner', 'further', 'reproduction', 'prohibited', 'without', 'permission', 'reproduced', 'with', 'permission', 'of', 'the', 'copyright', 'owner', 'further', 'reproduction', 'prohibited', 'without', 'permission', 'reproduced', 'with', 'permission', 'of', 'the', 'copyright', 'owner', 'further', 'reproduction', 'prohibited', 'without', 'permission', 'reproduced', 'with', 'permission', 'of', 'the', 'copyright', 'owner', 'further', 'reproduction', 'prohibited', 'without', 'permission', 'reproduced', 'with', 'permission', 'of', 'the', 'copyright', 'owner', 'further', 'reproduction', 'prohibited', 'without', 'permission', 'reproduced', 'with', 'permission', 'of', 'the', 'copyright', 'owner', 'further', 'reproduction', 'prohibited', 'without', 'permission', 'reproduced', 'with', 'permission', 'of', 'the', 'copyright', 'owner', 'further', 'reproduction', 'prohibited', 'without', 'permission', 'reproduced', 'with', 'permission', 'of', 'the', 'copyright', 'owner', 'further', 'reproduction', 'prohibited', 'without', 'permission', 'reproduced', 'with', 'permission', 'of', 'the', 'copyright', 'owner', 'further', 'reproduction', 'prohibited', 'without', 'permission', 'reproduced', 'with', 'permission', 'of', 'the', 'copyright', 'owner', 'further', 'reproduction', 'prohibited', 'without', 'permission', 'reproduced', 'with', 'permission', 'of', 'the', 'copyright', 'owner', 'further', 'reproduction', 'prohibited', 'without', 'permission', 'reproduced', 'with', 'permission', 'of', 'the', 'copyright', 'owner', 'further', 'reproduction', 'prohibited', 'without', 'permission', 'reproduced', 'with', 'permission', 'of', 'the', 'copyright', 'owner', 'further', 'reproduction', 'prohibited', 'without', 'permission', 'reproduced', 'with', 'permission', 'of', 'the', 'copyright', 'owner', 'further', 'reproduction', 'prohibited', 'without', 'permission', 'reproduced', 'with', 'permission', 'of', 'the', 'copyright', 'owner', 'further', 'reproduction', 'prohibited', 'without', 'permission', 'reproduced', 'with', 'permission', 'of', 'the', 'copyright', 'owner', 'further', 'reproduction', 'prohibited', 'without', 'permission', 'reproduced', 'with', 'permission', 'of', 'the', 'copyright', 'owner', 'further', 'reproduction', 'prohibited', 'without', 'permission', 'reproduced', 'with', 'permission', 'of', 'the', 'copyright', 'owner', 'further', 'reproduction', 'prohibited', 'without', 'permission', 'reproduced', 'with', 'permission', 'of', 'the', 'copyright', 'owner', 'further', 'reproduction', 'prohibited', 'without', 'permission', 'reproduced', 'with', 'permission', 'of', 'the', 'copyright', 'owner', 'further', 'reproduction', 'prohibited', 'without', 'permission', 'reproduced', 'with', 'permission', 'of', 'the', 'copyright', 'owner', 'further', 'reproduction', 'prohibited', 'without', 'permission', 'reproduced', 'with', 'permission', 'of', 'the', 'copyright', 'owner', 'further', 'reproduction', 'prohibited', 'without', 'permission', 'reproduced', 'with', 'permission', 'of', 'the', 'copyright', 'owner', 'further', 'reproduction', 'prohibited', 'without', 'permission', 'reproduced', 'with', 'permission', 'of', 'the', 'copyright', 'owner', 'further', 'reproduction', 'prohibited', 'without', 'permission', 'reproduced', 'with', 'permission', 'of', 'the', 'copyright', 'owner', 'further', 'reproduction', 'prohibited', 'without', 'permission', 'reproduced', 'with', 'permission', 'of', 'the', 'copyright', 'owner', 'further', 'reproduction', 'prohibited', 'without', 'permission', 'reproduced', 'with', 'permission', 'of', 'the', 'copyright', 'owner', 'further', 'reproduction', 'prohibited', 'without', 'permission', 'reproduced', 'with', 'permission', 'of', 'the', 'copyright', 'owner', 'further', 'reproduction', 'prohibited', 'without', 'permission', 'reproduced', 'with', 'permission', 'of', 'the', 'copyright', 'owner', 'further', 'reproduction', 'prohibited', 'without', 'permission', 'reproduced', 'with', 'permission', 'of', 'the', 'copyright', 'owner', 'further', 'reproduction', 'prohibited', 'without', 'permission', 'reproduced', 'with', 'permission', 'of', 'the', 'copyright', 'owner', 'further', 'reproduction', 'prohibited', 'without', 'permission', 'reproduced', 'with', 'permission', 'of', 'the', 'copyright', 'owner', 'further', 'reproduction', 'prohibited', 'without', 'permission', 'reproduced', 'with', 'permission', 'of', 'the', 'copyright', 'owner', 'further', 'reproduction', 'prohibited', 'without', 'permission', 'reproduced', 'with', 'permission', 'of', 'the', 'copyright', 'owner', 'further', 'reproduction', 'prohibited', 'without', 'permission', 'reproduced', 'with', 'permission', 'of', 'the', 'copyright', 'owner', 'further', 'reproduction', 'prohibited', 'without', 'permission', 'reproduced', 'with', 'permission', 'of', 'the', 'copyright', 'owner', 'further', 'reproduction', 'prohibited', 'without', 'permission', 'reproduced', 'with', 'permission', 'of', 'the', 'copyright', 'owner', 'further', 'reproduction', 'prohibited', 'without', 'permission', 'reproduced', 'with', 'permission', 'of', 'the', 'copyright', 'owner', 'further', 'reproduction', 'prohibited', 'without', 'permission', 'reproduced', 'with', 'permission', 'of', 'the', 'copyright', 'owner', 'further', 'reproduction', 'prohibited', 'without', 'permission', 'reproduced', 'with', 'permission', 'of', 'the', 'copyright', 'owner', 'further', 'reproduction', 'prohibited', 'without', 'permission', 'reproduced', 'with', 'permission', 'of', 'the', 'copyright', 'owner', 'further', 'reproduction', 'prohibited', 'without', 'permission', 'reproduced', 'with', 'permission', 'of', 'the', 'copyright', 'owner', 'further', 'reproduction', 'prohibited', 'without', 'permission', 'reproduced', 'with', 'permission', 'of', 'the', 'copyright', 'owner', 'further', 'reproduction', 'prohibited', 'without', 'permission', 'reproduced', 'with', 'permission', 'of', 'the', 'copyright', 'owner', 'further', 'reproduction', 'prohibited', 'without', 'permission', 'reproduced', 'with', 'permission', 'of', 'the', 'copyright', 'owner', 'further', 'reproduction', 'prohibited', 'without', 'permission', 'reproduced', 'with', 'permission', 'of', 'the', 'copyright', 'owner', 'further', 'reproduction', 'prohibited', 'without', 'permission', 'reproduced', 'with', 'permission', 'of', 'the', 'copyright', 'owner', 'further', 'reproduction', 'prohibited', 'without', 'permission', 'reproduced', 'with', 'permission', 'of', 'the', 'copyright', 'owner', 'further', 'reproduction', 'prohibited', 'without', 'permission', 'reproduced', 'with', 'permission', 'of', 'the', 'copyright', 'owner', 'further', 'reproduction', 'prohibited', 'without', 'permission', 'reproduced', 'with', 'permission', 'of', 'the', 'copyright', 'owner', 'further', 'reproduction', 'prohibited', 'without', 'permission', 'reproduced', 'with', 'permission', 'of', 'the', 'copyright', 'owner', 'further', 'reproduction', 'prohibited', 'without', 'permission', 'reproduced', 'with', 'permission', 'of', 'the', 'copyright', 'owner', 'further', 'reproduction', 'prohibited', 'without', 'permission', 'reproduced', 'with', 'permission', 'of', 'the', 'copyright', 'owner', 'further', 'reproduction', 'prohibited', 'without', 'permission', 'reproduced', 'with', 'permission', 'of', 'the', 'copyright', 'owner', 'further', 'reproduction', 'prohibited', 'without', 'permission', 'reproduced', 'with', 'permission', 'of', 'the', 'copyright', 'owner', 'further', 'reproduction', 'prohibited', 'without', 'permission', 'reproduced', 'with', 'permission', 'of', 'the', 'copyright', 'owner', 'further', 'reproduction', 'prohibited', 'without', 'permission', 'reproduced', 'with', 'permission', 'of', 'the', 'copyright', 'owner', 'further', 'reproduction', 'prohibited', 'without', 'permission', 'reproduced', 'with', 'permission', 'of', 'the', 'copyright', 'owner', 'further', 'reproduction', 'prohibited', 'without', 'permission', 'reproduced', 'with', 'permission', 'of', 'the', 'copyright', 'owner', 'further', 'reproduction', 'prohibited', 'without', 'permission', 'reproduced', 'with', 'permission', 'of', 'the', 'copyright', 'owner', 'further', 'reproduction', 'prohibited', 'without', 'permission', 'reproduced', 'with', 'permission', 'of', 'the', 'copyright', 'owner', 'further', 'reproduction', 'prohibited', 'without', 'permission', 'reproduced', 'with', 'permission', 'of', 'the', 'copyright', 'owner', 'further', 'reproduction', 'prohibited', 'without', 'permission', 'reproduced', 'with', 'permission', 'of', 'the', 'copyright', 'owner', 'further', 'reproduction', 'prohibited', 'without', 'permission', 'reproduced', 'with', 'permission', 'of', 'the', 'copyright', 'owner', 'further', 'reproduction', 'prohibited', 'without', 'permission', 'reproduced', 'with', 'permission', 'of', 'the', 'copyright', 'owner', 'further', 'reproduction', 'prohibited', 'without', 'permission', 'reproduced', 'with', 'permission', 'of', 'the', 'copyright', 'owner', 'further', 'reproduction', 'prohibited', 'without', 'permission', 'reproduced', 'with', 'permission', 'of', 'the', 'copyright', 'owner', 'further', 'reproduction', 'prohibited', 'without', 'permission', 'reproduced', 'with', 'permission', 'of', 'the', 'copyright', 'owner', 'further', 'reproduction', 'prohibited', 'without', 'permission', 'reproduced', 'with', 'permission', 'of', 'the', 'copyright', 'owner', 'further', 'reproduction', 'prohibited', 'without', 'permission', 'reproduced', 'with', 'permission', 'of', 'the', 'copyright', 'owner', 'further', 'reproduction', 'prohibited', 'without', 'permission', 'reproduced', 'with', 'permission', 'of', 'the', 'copyright', 'owner', 'further', 'reproduction', 'prohibited', 'without', 'permission', 'reproduced', 'with', 'permission', 'of', 'the', 'copyright', 'owner', 'further', 'reproduction', 'prohibited', 'without', 'permission', 'reproduced', 'with', 'permission', 'of', 'the', 'copyright', 'owner', 'further', 'reproduction', 'prohibited', 'without', 'permission', 'reproduced', 'with', 'permission', 'of', 'the', 'copyright', 'owner', 'further', 'reproduction', 'prohibited', 'without', 'permission', 'reproduced', 'with', 'permission', 'of', 'the', 'copyright', 'owner', 'further', 'reproduction', 'prohibited', 'without', 'permission', 'reproduced', 'with', 'permission', 'of', 'the', 'copyright', 'owner', 'further', 'reproduction', 'prohibited', 'without', 'permission']\n"
          ]
        }
      ]
    },
    {
      "cell_type": "code",
      "metadata": {
        "id": "Jc5Qx_xKA73A",
        "colab": {
          "base_uri": "https://localhost:8080/"
        },
        "outputId": "fce5f2da-d88b-478d-e0c0-fcc32b766fc1"
      },
      "source": [
        "def remove_stopwords(sentence):\n",
        "  return [w for w in sentence if not w in stop_words]\n",
        "\n",
        "nostop_words = [remove_stopwords(para) for para in lower_words]\n",
        "print(nostop_words[0])\n"
      ],
      "execution_count": 16,
      "outputs": [
        {
          "output_type": "stream",
          "name": "stdout",
          "text": [
            "['reproduced', 'permission', 'copyright', 'owner', 'reproduction', 'prohibited', 'without', 'permission', 'multiple', 'literacies', 'new', 'pedagogy', 'emerging', 'notions', 'oneself', 'rochesmith', 'jeeva', 'ratna', 'proquest', 'dissertations', 'theses', '2004', 'proquest', 'reproduced', 'permission', 'copyright', 'owner', 'reproduction', 'prohibited', 'without', 'permission', 'reproduced', 'permission', 'copyright', 'owner', 'reproduction', 'prohibited', 'without', 'permission', 'reproduced', 'permission', 'copyright', 'owner', 'reproduction', 'prohibited', 'without', 'permission', 'reproduced', 'permission', 'copyright', 'owner', 'reproduction', 'prohibited', 'without', 'permission', 'reproduced', 'permission', 'copyright', 'owner', 'reproduction', 'prohibited', 'without', 'permission', 'reproduced', 'permission', 'copyright', 'owner', 'reproduction', 'prohibited', 'without', 'permission', 'reproduced', 'permission', 'copyright', 'owner', 'reproduction', 'prohibited', 'without', 'permission', 'reproduced', 'permission', 'copyright', 'owner', 'reproduction', 'prohibited', 'without', 'permission', 'reproduced', 'permission', 'copyright', 'owner', 'reproduction', 'prohibited', 'without', 'permission', 'reproduced', 'permission', 'copyright', 'owner', 'reproduction', 'prohibited', 'without', 'permission', 'reproduced', 'permission', 'copyright', 'owner', 'reproduction', 'prohibited', 'without', 'permission', 'reproduced', 'permission', 'copyright', 'owner', 'reproduction', 'prohibited', 'without', 'permission', 'reproduced', 'permission', 'copyright', 'owner', 'reproduction', 'prohibited', 'without', 'permission', 'reproduced', 'permission', 'copyright', 'owner', 'reproduction', 'prohibited', 'without', 'permission', 'reproduced', 'permission', 'copyright', 'owner', 'reproduction', 'prohibited', 'without', 'permission', 'reproduced', 'permission', 'copyright', 'owner', 'reproduction', 'prohibited', 'without', 'permission', 'reproduced', 'permission', 'copyright', 'owner', 'reproduction', 'prohibited', 'without', 'permission', 'reproduced', 'permission', 'copyright', 'owner', 'reproduction', 'prohibited', 'without', 'permission', 'reproduced', 'permission', 'copyright', 'owner', 'reproduction', 'prohibited', 'without', 'permission', 'reproduced', 'permission', 'copyright', 'owner', 'reproduction', 'prohibited', 'without', 'permission', 'reproduced', 'permission', 'copyright', 'owner', 'reproduction', 'prohibited', 'without', 'permission', 'reproduced', 'permission', 'copyright', 'owner', 'reproduction', 'prohibited', 'without', 'permission', 'reproduced', 'permission', 'copyright', 'owner', 'reproduction', 'prohibited', 'without', 'permission', 'reproduced', 'permission', 'copyright', 'owner', 'reproduction', 'prohibited', 'without', 'permission', 'reproduced', 'permission', 'copyright', 'owner', 'reproduction', 'prohibited', 'without', 'permission', 'reproduced', 'permission', 'copyright', 'owner', 'reproduction', 'prohibited', 'without', 'permission', 'reproduced', 'permission', 'copyright', 'owner', 'reproduction', 'prohibited', 'without', 'permission', 'reproduced', 'permission', 'copyright', 'owner', 'reproduction', 'prohibited', 'without', 'permission', 'reproduced', 'permission', 'copyright', 'owner', 'reproduction', 'prohibited', 'without', 'permission', 'reproduced', 'permission', 'copyright', 'owner', 'reproduction', 'prohibited', 'without', 'permission', 'reproduced', 'permission', 'copyright', 'owner', 'reproduction', 'prohibited', 'without', 'permission', 'reproduced', 'permission', 'copyright', 'owner', 'reproduction', 'prohibited', 'without', 'permission', 'reproduced', 'permission', 'copyright', 'owner', 'reproduction', 'prohibited', 'without', 'permission', 'reproduced', 'permission', 'copyright', 'owner', 'reproduction', 'prohibited', 'without', 'permission', 'reproduced', 'permission', 'copyright', 'owner', 'reproduction', 'prohibited', 'without', 'permission', 'reproduced', 'permission', 'copyright', 'owner', 'reproduction', 'prohibited', 'without', 'permission', 'reproduced', 'permission', 'copyright', 'owner', 'reproduction', 'prohibited', 'without', 'permission', 'reproduced', 'permission', 'copyright', 'owner', 'reproduction', 'prohibited', 'without', 'permission', 'reproduced', 'permission', 'copyright', 'owner', 'reproduction', 'prohibited', 'without', 'permission', 'reproduced', 'permission', 'copyright', 'owner', 'reproduction', 'prohibited', 'without', 'permission', 'reproduced', 'permission', 'copyright', 'owner', 'reproduction', 'prohibited', 'without', 'permission', 'reproduced', 'permission', 'copyright', 'owner', 'reproduction', 'prohibited', 'without', 'permission', 'reproduced', 'permission', 'copyright', 'owner', 'reproduction', 'prohibited', 'without', 'permission', 'reproduced', 'permission', 'copyright', 'owner', 'reproduction', 'prohibited', 'without', 'permission', 'reproduced', 'permission', 'copyright', 'owner', 'reproduction', 'prohibited', 'without', 'permission', 'reproduced', 'permission', 'copyright', 'owner', 'reproduction', 'prohibited', 'without', 'permission', 'reproduced', 'permission', 'copyright', 'owner', 'reproduction', 'prohibited', 'without', 'permission', 'reproduced', 'permission', 'copyright', 'owner', 'reproduction', 'prohibited', 'without', 'permission', 'reproduced', 'permission', 'copyright', 'owner', 'reproduction', 'prohibited', 'without', 'permission', 'reproduced', 'permission', 'copyright', 'owner', 'reproduction', 'prohibited', 'without', 'permission', 'reproduced', 'permission', 'copyright', 'owner', 'reproduction', 'prohibited', 'without', 'permission', 'reproduced', 'permission', 'copyright', 'owner', 'reproduction', 'prohibited', 'without', 'permission', 'reproduced', 'permission', 'copyright', 'owner', 'reproduction', 'prohibited', 'without', 'permission', 'reproduced', 'permission', 'copyright', 'owner', 'reproduction', 'prohibited', 'without', 'permission', 'reproduced', 'permission', 'copyright', 'owner', 'reproduction', 'prohibited', 'without', 'permission', 'reproduced', 'permission', 'copyright', 'owner', 'reproduction', 'prohibited', 'without', 'permission', 'reproduced', 'permission', 'copyright', 'owner', 'reproduction', 'prohibited', 'without', 'permission', 'reproduced', 'permission', 'copyright', 'owner', 'reproduction', 'prohibited', 'without', 'permission', 'reproduced', 'permission', 'copyright', 'owner', 'reproduction', 'prohibited', 'without', 'permission', 'reproduced', 'permission', 'copyright', 'owner', 'reproduction', 'prohibited', 'without', 'permission', 'reproduced', 'permission', 'copyright', 'owner', 'reproduction', 'prohibited', 'without', 'permission', 'reproduced', 'permission', 'copyright', 'owner', 'reproduction', 'prohibited', 'without', 'permission', 'reproduced', 'permission', 'copyright', 'owner', 'reproduction', 'prohibited', 'without', 'permission', 'reproduced', 'permission', 'copyright', 'owner', 'reproduction', 'prohibited', 'without', 'permission', 'reproduced', 'permission', 'copyright', 'owner', 'reproduction', 'prohibited', 'without', 'permission', 'reproduced', 'permission', 'copyright', 'owner', 'reproduction', 'prohibited', 'without', 'permission', 'reproduced', 'permission', 'copyright', 'owner', 'reproduction', 'prohibited', 'without', 'permission', 'reproduced', 'permission', 'copyright', 'owner', 'reproduction', 'prohibited', 'without', 'permission', 'reproduced', 'permission', 'copyright', 'owner', 'reproduction', 'prohibited', 'without', 'permission', 'reproduced', 'permission', 'copyright', 'owner', 'reproduction', 'prohibited', 'without', 'permission', 'reproduced', 'permission', 'copyright', 'owner', 'reproduction', 'prohibited', 'without', 'permission', 'reproduced', 'permission', 'copyright', 'owner', 'reproduction', 'prohibited', 'without', 'permission', 'reproduced', 'permission', 'copyright', 'owner', 'reproduction', 'prohibited', 'without', 'permission', 'reproduced', 'permission', 'copyright', 'owner', 'reproduction', 'prohibited', 'without', 'permission', 'reproduced', 'permission', 'copyright', 'owner', 'reproduction', 'prohibited', 'without', 'permission', 'reproduced', 'permission', 'copyright', 'owner', 'reproduction', 'prohibited', 'without', 'permission', 'reproduced', 'permission', 'copyright', 'owner', 'reproduction', 'prohibited', 'without', 'permission', 'reproduced', 'permission', 'copyright', 'owner', 'reproduction', 'prohibited', 'without', 'permission', 'reproduced', 'permission', 'copyright', 'owner', 'reproduction', 'prohibited', 'without', 'permission', 'reproduced', 'permission', 'copyright', 'owner', 'reproduction', 'prohibited', 'without', 'permission', 'reproduced', 'permission', 'copyright', 'owner', 'reproduction', 'prohibited', 'without', 'permission', 'reproduced', 'permission', 'copyright', 'owner', 'reproduction', 'prohibited', 'without', 'permission', 'reproduced', 'permission', 'copyright', 'owner', 'reproduction', 'prohibited', 'without', 'permission', 'reproduced', 'permission', 'copyright', 'owner', 'reproduction', 'prohibited', 'without', 'permission', 'reproduced', 'permission', 'copyright', 'owner', 'reproduction', 'prohibited', 'without', 'permission', 'reproduced', 'permission', 'copyright', 'owner', 'reproduction', 'prohibited', 'without', 'permission', 'reproduced', 'permission', 'copyright', 'owner', 'reproduction', 'prohibited', 'without', 'permission', 'reproduced', 'permission', 'copyright', 'owner', 'reproduction', 'prohibited', 'without', 'permission', 'reproduced', 'permission', 'copyright', 'owner', 'reproduction', 'prohibited', 'without', 'permission', 'reproduced', 'permission', 'copyright', 'owner', 'reproduction', 'prohibited', 'without', 'permission', 'reproduced', 'permission', 'copyright', 'owner', 'reproduction', 'prohibited', 'without', 'permission', 'reproduced', 'permission', 'copyright', 'owner', 'reproduction', 'prohibited', 'without', 'permission', 'reproduced', 'permission', 'copyright', 'owner', 'reproduction', 'prohibited', 'without', 'permission', 'reproduced', 'permission', 'copyright', 'owner', 'reproduction', 'prohibited', 'without', 'permission', 'reproduced', 'permission', 'copyright', 'owner', 'reproduction', 'prohibited', 'without', 'permission', 'reproduced', 'permission', 'copyright', 'owner', 'reproduction', 'prohibited', 'without', 'permission', 'reproduced', 'permission', 'copyright', 'owner', 'reproduction', 'prohibited', 'without', 'permission', 'reproduced', 'permission', 'copyright', 'owner', 'reproduction', 'prohibited', 'without', 'permission', 'reproduced', 'permission', 'copyright', 'owner', 'reproduction', 'prohibited', 'without', 'permission', 'reproduced', 'permission', 'copyright', 'owner', 'reproduction', 'prohibited', 'without', 'permission', 'reproduced', 'permission', 'copyright', 'owner', 'reproduction', 'prohibited', 'without', 'permission', 'reproduced', 'permission', 'copyright', 'owner', 'reproduction', 'prohibited', 'without', 'permission', 'reproduced', 'permission', 'copyright', 'owner', 'reproduction', 'prohibited', 'without', 'permission', 'reproduced', 'permission', 'copyright', 'owner', 'reproduction', 'prohibited', 'without', 'permission', 'reproduced', 'permission', 'copyright', 'owner', 'reproduction', 'prohibited', 'without', 'permission', 'reproduced', 'permission', 'copyright', 'owner', 'reproduction', 'prohibited', 'without', 'permission', 'reproduced', 'permission', 'copyright', 'owner', 'reproduction', 'prohibited', 'without', 'permission', 'reproduced', 'permission', 'copyright', 'owner', 'reproduction', 'prohibited', 'without', 'permission', 'reproduced', 'permission', 'copyright', 'owner', 'reproduction', 'prohibited', 'without', 'permission', 'reproduced', 'permission', 'copyright', 'owner', 'reproduction', 'prohibited', 'without', 'permission', 'reproduced', 'permission', 'copyright', 'owner', 'reproduction', 'prohibited', 'without', 'permission', 'reproduced', 'permission', 'copyright', 'owner', 'reproduction', 'prohibited', 'without', 'permission', 'reproduced', 'permission', 'copyright', 'owner', 'reproduction', 'prohibited', 'without', 'permission', 'reproduced', 'permission', 'copyright', 'owner', 'reproduction', 'prohibited', 'without', 'permission', 'reproduced', 'permission', 'copyright', 'owner', 'reproduction', 'prohibited', 'without', 'permission', 'reproduced', 'permission', 'copyright', 'owner', 'reproduction', 'prohibited', 'without', 'permission', 'reproduced', 'permission', 'copyright', 'owner', 'reproduction', 'prohibited', 'without', 'permission', 'reproduced', 'permission', 'copyright', 'owner', 'reproduction', 'prohibited', 'without', 'permission', 'reproduced', 'permission', 'copyright', 'owner', 'reproduction', 'prohibited', 'without', 'permission', 'reproduced', 'permission', 'copyright', 'owner', 'reproduction', 'prohibited', 'without', 'permission', 'reproduced', 'permission', 'copyright', 'owner', 'reproduction', 'prohibited', 'without', 'permission', 'reproduced', 'permission', 'copyright', 'owner', 'reproduction', 'prohibited', 'without', 'permission', 'reproduced', 'permission', 'copyright', 'owner', 'reproduction', 'prohibited', 'without', 'permission', 'reproduced', 'permission', 'copyright', 'owner', 'reproduction', 'prohibited', 'without', 'permission', 'reproduced', 'permission', 'copyright', 'owner', 'reproduction', 'prohibited', 'without', 'permission', 'reproduced', 'permission', 'copyright', 'owner', 'reproduction', 'prohibited', 'without', 'permission', 'reproduced', 'permission', 'copyright', 'owner', 'reproduction', 'prohibited', 'without', 'permission', 'reproduced', 'permission', 'copyright', 'owner', 'reproduction', 'prohibited', 'without', 'permission', 'reproduced', 'permission', 'copyright', 'owner', 'reproduction', 'prohibited', 'without', 'permission', 'reproduced', 'permission', 'copyright', 'owner', 'reproduction', 'prohibited', 'without', 'permission', 'reproduced', 'permission', 'copyright', 'owner', 'reproduction', 'prohibited', 'without', 'permission', 'reproduced', 'permission', 'copyright', 'owner', 'reproduction', 'prohibited', 'without', 'permission', 'reproduced', 'permission', 'copyright', 'owner', 'reproduction', 'prohibited', 'without', 'permission', 'reproduced', 'permission', 'copyright', 'owner', 'reproduction', 'prohibited', 'without', 'permission', 'reproduced', 'permission', 'copyright', 'owner', 'reproduction', 'prohibited', 'without', 'permission', 'reproduced', 'permission', 'copyright', 'owner', 'reproduction', 'prohibited', 'without', 'permission', 'reproduced', 'permission', 'copyright', 'owner', 'reproduction', 'prohibited', 'without', 'permission', 'reproduced', 'permission', 'copyright', 'owner', 'reproduction', 'prohibited', 'without', 'permission', 'reproduced', 'permission', 'copyright', 'owner', 'reproduction', 'prohibited', 'without', 'permission', 'reproduced', 'permission', 'copyright', 'owner', 'reproduction', 'prohibited', 'without', 'permission', 'reproduced', 'permission', 'copyright', 'owner', 'reproduction', 'prohibited', 'without', 'permission', 'reproduced', 'permission', 'copyright', 'owner', 'reproduction', 'prohibited', 'without', 'permission', 'reproduced', 'permission', 'copyright', 'owner', 'reproduction', 'prohibited', 'without', 'permission', 'reproduced', 'permission', 'copyright', 'owner', 'reproduction', 'prohibited', 'without', 'permission', 'reproduced', 'permission', 'copyright', 'owner', 'reproduction', 'prohibited', 'without', 'permission', 'reproduced', 'permission', 'copyright', 'owner', 'reproduction', 'prohibited', 'without', 'permission', 'reproduced', 'permission', 'copyright', 'owner', 'reproduction', 'prohibited', 'without', 'permission', 'reproduced', 'permission', 'copyright', 'owner', 'reproduction', 'prohibited', 'without', 'permission', 'reproduced', 'permission', 'copyright', 'owner', 'reproduction', 'prohibited', 'without', 'permission', 'reproduced', 'permission', 'copyright', 'owner', 'reproduction', 'prohibited', 'without', 'permission', 'reproduced', 'permission', 'copyright', 'owner', 'reproduction', 'prohibited', 'without', 'permission', 'reproduced', 'permission', 'copyright', 'owner', 'reproduction', 'prohibited', 'without', 'permission', 'reproduced', 'permission', 'copyright', 'owner', 'reproduction', 'prohibited', 'without', 'permission', 'reproduced', 'permission', 'copyright', 'owner', 'reproduction', 'prohibited', 'without', 'permission', 'reproduced', 'permission', 'copyright', 'owner', 'reproduction', 'prohibited', 'without', 'permission', 'reproduced', 'permission', 'copyright', 'owner', 'reproduction', 'prohibited', 'without', 'permission', 'reproduced', 'permission', 'copyright', 'owner', 'reproduction', 'prohibited', 'without', 'permission', 'reproduced', 'permission', 'copyright', 'owner', 'reproduction', 'prohibited', 'without', 'permission', 'reproduced', 'permission', 'copyright', 'owner', 'reproduction', 'prohibited', 'without', 'permission', 'reproduced', 'permission', 'copyright', 'owner', 'reproduction', 'prohibited', 'without', 'permission', 'reproduced', 'permission', 'copyright', 'owner', 'reproduction', 'prohibited', 'without', 'permission', 'reproduced', 'permission', 'copyright', 'owner', 'reproduction', 'prohibited', 'without', 'permission', 'reproduced', 'permission', 'copyright', 'owner', 'reproduction', 'prohibited', 'without', 'permission', 'reproduced', 'permission', 'copyright', 'owner', 'reproduction', 'prohibited', 'without', 'permission', 'reproduced', 'permission', 'copyright', 'owner', 'reproduction', 'prohibited', 'without', 'permission', 'reproduced', 'permission', 'copyright', 'owner', 'reproduction', 'prohibited', 'without', 'permission', 'reproduced', 'permission', 'copyright', 'owner', 'reproduction', 'prohibited', 'without', 'permission', 'reproduced', 'permission', 'copyright', 'owner', 'reproduction', 'prohibited', 'without', 'permission', 'reproduced', 'permission', 'copyright', 'owner', 'reproduction', 'prohibited', 'without', 'permission', 'reproduced', 'permission', 'copyright', 'owner', 'reproduction', 'prohibited', 'without', 'permission', 'reproduced', 'permission', 'copyright', 'owner', 'reproduction', 'prohibited', 'without', 'permission', 'reproduced', 'permission', 'copyright', 'owner', 'reproduction', 'prohibited', 'without', 'permission', 'reproduced', 'permission', 'copyright', 'owner', 'reproduction', 'prohibited', 'without', 'permission', 'reproduced', 'permission', 'copyright', 'owner', 'reproduction', 'prohibited', 'without', 'permission', 'reproduced', 'permission', 'copyright', 'owner', 'reproduction', 'prohibited', 'without', 'permission', 'reproduced', 'permission', 'copyright', 'owner', 'reproduction', 'prohibited', 'without', 'permission', 'reproduced', 'permission', 'copyright', 'owner', 'reproduction', 'prohibited', 'without', 'permission', 'reproduced', 'permission', 'copyright', 'owner', 'reproduction', 'prohibited', 'without', 'permission', 'reproduced', 'permission', 'copyright', 'owner', 'reproduction', 'prohibited', 'without', 'permission', 'reproduced', 'permission', 'copyright', 'owner', 'reproduction', 'prohibited', 'without', 'permission', 'reproduced', 'permission', 'copyright', 'owner', 'reproduction', 'prohibited', 'without', 'permission', 'reproduced', 'permission', 'copyright', 'owner', 'reproduction', 'prohibited', 'without', 'permission', 'reproduced', 'permission', 'copyright', 'owner', 'reproduction', 'prohibited', 'without', 'permission', 'reproduced', 'permission', 'copyright', 'owner', 'reproduction', 'prohibited', 'without', 'permission', 'reproduced', 'permission', 'copyright', 'owner', 'reproduction', 'prohibited', 'without', 'permission', 'reproduced', 'permission', 'copyright', 'owner', 'reproduction', 'prohibited', 'without', 'permission', 'reproduced', 'permission', 'copyright', 'owner', 'reproduction', 'prohibited', 'without', 'permission', 'reproduced', 'permission', 'copyright', 'owner', 'reproduction', 'prohibited', 'without', 'permission', 'reproduced', 'permission', 'copyright', 'owner', 'reproduction', 'prohibited', 'without', 'permission', 'reproduced', 'permission', 'copyright', 'owner', 'reproduction', 'prohibited', 'without', 'permission', 'reproduced', 'permission', 'copyright', 'owner', 'reproduction', 'prohibited', 'without', 'permission', 'reproduced', 'permission', 'copyright', 'owner', 'reproduction', 'prohibited', 'without', 'permission', 'reproduced', 'permission', 'copyright', 'owner', 'reproduction', 'prohibited', 'without', 'permission', 'reproduced', 'permission', 'copyright', 'owner', 'reproduction', 'prohibited', 'without', 'permission', 'reproduced', 'permission', 'copyright', 'owner', 'reproduction', 'prohibited', 'without', 'permission', 'reproduced', 'permission', 'copyright', 'owner', 'reproduction', 'prohibited', 'without', 'permission', 'reproduced', 'permission', 'copyright', 'owner', 'reproduction', 'prohibited', 'without', 'permission', 'reproduced', 'permission', 'copyright', 'owner', 'reproduction', 'prohibited', 'without', 'permission', 'reproduced', 'permission', 'copyright', 'owner', 'reproduction', 'prohibited', 'without', 'permission', 'reproduced', 'permission', 'copyright', 'owner', 'reproduction', 'prohibited', 'without', 'permission', 'reproduced', 'permission', 'copyright', 'owner', 'reproduction', 'prohibited', 'without', 'permission', 'reproduced', 'permission', 'copyright', 'owner', 'reproduction', 'prohibited', 'without', 'permission', 'reproduced', 'permission', 'copyright', 'owner', 'reproduction', 'prohibited', 'without', 'permission', 'reproduced', 'permission', 'copyright', 'owner', 'reproduction', 'prohibited', 'without', 'permission', 'reproduced', 'permission', 'copyright', 'owner', 'reproduction', 'prohibited', 'without', 'permission', 'reproduced', 'permission', 'copyright', 'owner', 'reproduction', 'prohibited', 'without', 'permission', 'reproduced', 'permission', 'copyright', 'owner', 'reproduction', 'prohibited', 'without', 'permission', 'reproduced', 'permission', 'copyright', 'owner', 'reproduction', 'prohibited', 'without', 'permission', 'reproduced', 'permission', 'copyright', 'owner', 'reproduction', 'prohibited', 'without', 'permission', 'reproduced', 'permission', 'copyright', 'owner', 'reproduction', 'prohibited', 'without', 'permission', 'reproduced', 'permission', 'copyright', 'owner', 'reproduction', 'prohibited', 'without', 'permission', 'reproduced', 'permission', 'copyright', 'owner', 'reproduction', 'prohibited', 'without', 'permission', 'reproduced', 'permission', 'copyright', 'owner', 'reproduction', 'prohibited', 'without', 'permission', 'reproduced', 'permission', 'copyright', 'owner', 'reproduction', 'prohibited', 'without', 'permission', 'reproduced', 'permission', 'copyright', 'owner', 'reproduction', 'prohibited', 'without', 'permission', 'reproduced', 'permission', 'copyright', 'owner', 'reproduction', 'prohibited', 'without', 'permission', 'reproduced', 'permission', 'copyright', 'owner', 'reproduction', 'prohibited', 'without', 'permission', 'reproduced', 'permission', 'copyright', 'owner', 'reproduction', 'prohibited', 'without', 'permission', 'reproduced', 'permission', 'copyright', 'owner', 'reproduction', 'prohibited', 'without', 'permission', 'reproduced', 'permission', 'copyright', 'owner', 'reproduction', 'prohibited', 'without', 'permission', 'reproduced', 'permission', 'copyright', 'owner', 'reproduction', 'prohibited', 'without', 'permission', 'reproduced', 'permission', 'copyright', 'owner', 'reproduction', 'prohibited', 'without', 'permission', 'reproduced', 'permission', 'copyright', 'owner', 'reproduction', 'prohibited', 'without', 'permission', 'reproduced', 'permission', 'copyright', 'owner', 'reproduction', 'prohibited', 'without', 'permission', 'reproduced', 'permission', 'copyright', 'owner', 'reproduction', 'prohibited', 'without', 'permission', 'reproduced', 'permission', 'copyright', 'owner', 'reproduction', 'prohibited', 'without', 'permission', 'reproduced', 'permission', 'copyright', 'owner', 'reproduction', 'prohibited', 'without', 'permission', 'reproduced', 'permission', 'copyright', 'owner', 'reproduction', 'prohibited', 'without', 'permission', 'reproduced', 'permission', 'copyright', 'owner', 'reproduction', 'prohibited', 'without', 'permission', 'reproduced', 'permission', 'copyright', 'owner', 'reproduction', 'prohibited', 'without', 'permission', 'reproduced', 'permission', 'copyright', 'owner', 'reproduction', 'prohibited', 'without', 'permission', 'reproduced', 'permission', 'copyright', 'owner', 'reproduction', 'prohibited', 'without', 'permission', 'reproduced', 'permission', 'copyright', 'owner', 'reproduction', 'prohibited', 'without', 'permission', 'reproduced', 'permission', 'copyright', 'owner', 'reproduction', 'prohibited', 'without', 'permission', 'reproduced', 'permission', 'copyright', 'owner', 'reproduction', 'prohibited', 'without', 'permission', 'reproduced', 'permission', 'copyright', 'owner', 'reproduction', 'prohibited', 'without', 'permission', 'reproduced', 'permission', 'copyright', 'owner', 'reproduction', 'prohibited', 'without', 'permission', 'reproduced', 'permission', 'copyright', 'owner', 'reproduction', 'prohibited', 'without', 'permission', 'reproduced', 'permission', 'copyright', 'owner', 'reproduction', 'prohibited', 'without', 'permission', 'reproduced', 'permission', 'copyright', 'owner', 'reproduction', 'prohibited', 'without', 'permission', 'reproduced', 'permission', 'copyright', 'owner', 'reproduction', 'prohibited', 'without', 'permission', 'reproduced', 'permission', 'copyright', 'owner', 'reproduction', 'prohibited', 'without', 'permission', 'reproduced', 'permission', 'copyright', 'owner', 'reproduction', 'prohibited', 'without', 'permission', 'reproduced', 'permission', 'copyright', 'owner', 'reproduction', 'prohibited', 'without', 'permission', 'reproduced', 'permission', 'copyright', 'owner', 'reproduction', 'prohibited', 'without', 'permission', 'reproduced', 'permission', 'copyright', 'owner', 'reproduction', 'prohibited', 'without', 'permission', 'reproduced', 'permission', 'copyright', 'owner', 'reproduction', 'prohibited', 'without', 'permission', 'reproduced', 'permission', 'copyright', 'owner', 'reproduction', 'prohibited', 'without', 'permission', 'reproduced', 'permission', 'copyright', 'owner', 'reproduction', 'prohibited', 'without', 'permission', 'reproduced', 'permission', 'copyright', 'owner', 'reproduction', 'prohibited', 'without', 'permission', 'reproduced', 'permission', 'copyright', 'owner', 'reproduction', 'prohibited', 'without', 'permission', 'reproduced', 'permission', 'copyright', 'owner', 'reproduction', 'prohibited', 'without', 'permission', 'reproduced', 'permission', 'copyright', 'owner', 'reproduction', 'prohibited', 'without', 'permission', 'reproduced', 'permission', 'copyright', 'owner', 'reproduction', 'prohibited', 'without', 'permission', 'reproduced', 'permission', 'copyright', 'owner', 'reproduction', 'prohibited', 'without', 'permission', 'reproduced', 'permission', 'copyright', 'owner', 'reproduction', 'prohibited', 'without', 'permission', 'reproduced', 'permission', 'copyright', 'owner', 'reproduction', 'prohibited', 'without', 'permission', 'reproduced', 'permission', 'copyright', 'owner', 'reproduction', 'prohibited', 'without', 'permission', 'reproduced', 'permission', 'copyright', 'owner', 'reproduction', 'prohibited', 'without', 'permission', 'reproduced', 'permission', 'copyright', 'owner', 'reproduction', 'prohibited', 'without', 'permission', 'reproduced', 'permission', 'copyright', 'owner', 'reproduction', 'prohibited', 'without', 'permission', 'reproduced', 'permission', 'copyright', 'owner', 'reproduction', 'prohibited', 'without', 'permission', 'reproduced', 'permission', 'copyright', 'owner', 'reproduction', 'prohibited', 'without', 'permission', 'reproduced', 'permission', 'copyright', 'owner', 'reproduction', 'prohibited', 'without', 'permission', 'reproduced', 'permission', 'copyright', 'owner', 'reproduction', 'prohibited', 'without', 'permission', 'reproduced', 'permission', 'copyright', 'owner', 'reproduction', 'prohibited', 'without', 'permission', 'reproduced', 'permission', 'copyright', 'owner', 'reproduction', 'prohibited', 'without', 'permission', 'reproduced', 'permission', 'copyright', 'owner', 'reproduction', 'prohibited', 'without', 'permission', 'reproduced', 'permission', 'copyright', 'owner', 'reproduction', 'prohibited', 'without', 'permission', 'reproduced', 'permission', 'copyright', 'owner', 'reproduction', 'prohibited', 'without', 'permission', 'reproduced', 'permission', 'copyright', 'owner', 'reproduction', 'prohibited', 'without', 'permission', 'reproduced', 'permission', 'copyright', 'owner', 'reproduction', 'prohibited', 'without', 'permission', 'reproduced', 'permission', 'copyright', 'owner', 'reproduction', 'prohibited', 'without', 'permission', 'reproduced', 'permission', 'copyright', 'owner', 'reproduction', 'prohibited', 'without', 'permission', 'reproduced', 'permission', 'copyright', 'owner', 'reproduction', 'prohibited', 'without', 'permission', 'reproduced', 'permission', 'copyright', 'owner', 'reproduction', 'prohibited', 'without', 'permission', 'reproduced', 'permission', 'copyright', 'owner', 'reproduction', 'prohibited', 'without', 'permission', 'reproduced', 'permission', 'copyright', 'owner', 'reproduction', 'prohibited', 'without', 'permission', 'reproduced', 'permission', 'copyright', 'owner', 'reproduction', 'prohibited', 'without', 'permission', 'reproduced', 'permission', 'copyright', 'owner', 'reproduction', 'prohibited', 'without', 'permission', 'reproduced', 'permission', 'copyright', 'owner', 'reproduction', 'prohibited', 'without', 'permission', 'reproduced', 'permission', 'copyright', 'owner', 'reproduction', 'prohibited', 'without', 'permission', 'reproduced', 'permission', 'copyright', 'owner', 'reproduction', 'prohibited', 'without', 'permission', 'reproduced', 'permission', 'copyright', 'owner', 'reproduction', 'prohibited', 'without', 'permission']\n"
          ]
        }
      ]
    },
    {
      "cell_type": "markdown",
      "metadata": {
        "id": "I6wd6ZEPWJXs"
      },
      "source": [
        "## LDA Topic Modeling\n",
        "The following section of code creates a LDA model with 5s topic using the CSV file created earlier. The following code is adapted from the [\"BasicTopicModeling.ipynb\"](https://drive.google.com/file/d/15Kr7LqD_znL3CM7dae5DfBwg4geageUz/view?usp=sharing). The LDA model uses the \"bag of words\" approach so most of its analysis is based on word frequency and prevalance this is the reason that topics created here differ from those produced with the Topic Modeling code. Also, I used pyLDAvis LDA visualization function to further investigate the share topics amongst my corpus."
      ]
    },
    {
      "cell_type": "code",
      "source": [
        "from sklearn.decomposition import LatentDirichletAllocation as LDA\n",
        "from sklearn.feature_extraction.text import CountVectorizer\n",
        "\n",
        "SOME_FIXED_SEED = 42\n",
        "number_topics = 5\n",
        "number_words = 10\n",
        "count_vectorizer = CountVectorizer(stop_words='english')\n",
        "count_data = count_vectorizer.fit_transform(Content)"
      ],
      "metadata": {
        "id": "IFuucNUyo4Oy"
      },
      "execution_count": 27,
      "outputs": []
    },
    {
      "cell_type": "code",
      "metadata": {
        "id": "0Nhd2E7yKL3H",
        "colab": {
          "base_uri": "https://localhost:8080/"
        },
        "outputId": "003a4cbb-751e-46d3-a72f-dff515e6d2a9"
      },
      "source": [
        "np.random.seed(SOME_FIXED_SEED)\n",
        "\n",
        "lda = LDA(n_components=number_topics, n_jobs=-1)\n",
        "lda.fit(count_data)\n"
      ],
      "execution_count": 29,
      "outputs": [
        {
          "output_type": "execute_result",
          "data": {
            "text/plain": [
              "LatentDirichletAllocation(n_components=5, n_jobs=-1)"
            ]
          },
          "metadata": {},
          "execution_count": 29
        }
      ]
    },
    {
      "cell_type": "code",
      "source": [
        "print(\"Topics found via LDA:\")\n",
        "\n",
        "def count_topics(model, count_vectorizer, n_top_words):\n",
        "    words = count_vectorizer.get_feature_names()\n",
        "    for topic_idx, topic in enumerate(model.components_):\n",
        "        print(\"\\nTopic #%d:\" % topic_idx)\n",
        "        print(\" \".join([words[i]\n",
        "                        for i in topic.argsort()[:-n_top_words - 1:-1]]))\n",
        "count_topics(lda, count_vectorizer, number_words)"
      ],
      "metadata": {
        "colab": {
          "base_uri": "https://localhost:8080/"
        },
        "id": "xnkzrq-9riJr",
        "outputId": "f578ea2f-7aad-498a-fede-e101edfe9739"
      },
      "execution_count": 30,
      "outputs": [
        {
          "output_type": "stream",
          "name": "stdout",
          "text": [
            "Topics found via LDA:\n",
            "\n",
            "Topic #0:\n",
            "learning education students digital teachers research teaching new technology university\n",
            "\n",
            "Topic #1:\n",
            "learning students mathematics education teachers teaching use children work teacher\n",
            "\n",
            "Topic #2:\n",
            "education permission people online oppressed world owner copyright pedagogy technology\n",
            "\n",
            "Topic #3:\n",
            "digital humanities students research new computing project http text work\n",
            "\n",
            "Topic #4:\n",
            "learning education technology distance teaching research open theory educational online\n"
          ]
        }
      ]
    },
    {
      "cell_type": "code",
      "metadata": {
        "id": "K4wHT1jqKhHK",
        "colab": {
          "base_uri": "https://localhost:8080/",
          "height": 1000
        },
        "outputId": "3f0a294e-e8c5-4d0a-d42f-9dd24630b75d"
      },
      "source": [
        "!pip install pyLDAvis\n",
        "from pyLDAvis import sklearn as sklearn_lda"
      ],
      "execution_count": 31,
      "outputs": [
        {
          "output_type": "stream",
          "name": "stdout",
          "text": [
            "Collecting pyLDAvis\n",
            "  Downloading pyLDAvis-3.3.1.tar.gz (1.7 MB)\n",
            "\u001b[?25l\r\u001b[K     |▏                               | 10 kB 24.7 MB/s eta 0:00:01\r\u001b[K     |▍                               | 20 kB 29.1 MB/s eta 0:00:01\r\u001b[K     |▋                               | 30 kB 16.9 MB/s eta 0:00:01\r\u001b[K     |▉                               | 40 kB 11.9 MB/s eta 0:00:01\r\u001b[K     |█                               | 51 kB 7.7 MB/s eta 0:00:01\r\u001b[K     |█▏                              | 61 kB 8.3 MB/s eta 0:00:01\r\u001b[K     |█▍                              | 71 kB 7.1 MB/s eta 0:00:01\r\u001b[K     |█▋                              | 81 kB 7.9 MB/s eta 0:00:01\r\u001b[K     |█▉                              | 92 kB 6.8 MB/s eta 0:00:01\r\u001b[K     |██                              | 102 kB 7.3 MB/s eta 0:00:01\r\u001b[K     |██▏                             | 112 kB 7.3 MB/s eta 0:00:01\r\u001b[K     |██▍                             | 122 kB 7.3 MB/s eta 0:00:01\r\u001b[K     |██▋                             | 133 kB 7.3 MB/s eta 0:00:01\r\u001b[K     |██▊                             | 143 kB 7.3 MB/s eta 0:00:01\r\u001b[K     |███                             | 153 kB 7.3 MB/s eta 0:00:01\r\u001b[K     |███▏                            | 163 kB 7.3 MB/s eta 0:00:01\r\u001b[K     |███▍                            | 174 kB 7.3 MB/s eta 0:00:01\r\u001b[K     |███▋                            | 184 kB 7.3 MB/s eta 0:00:01\r\u001b[K     |███▊                            | 194 kB 7.3 MB/s eta 0:00:01\r\u001b[K     |████                            | 204 kB 7.3 MB/s eta 0:00:01\r\u001b[K     |████▏                           | 215 kB 7.3 MB/s eta 0:00:01\r\u001b[K     |████▍                           | 225 kB 7.3 MB/s eta 0:00:01\r\u001b[K     |████▋                           | 235 kB 7.3 MB/s eta 0:00:01\r\u001b[K     |████▊                           | 245 kB 7.3 MB/s eta 0:00:01\r\u001b[K     |█████                           | 256 kB 7.3 MB/s eta 0:00:01\r\u001b[K     |█████▏                          | 266 kB 7.3 MB/s eta 0:00:01\r\u001b[K     |█████▍                          | 276 kB 7.3 MB/s eta 0:00:01\r\u001b[K     |█████▌                          | 286 kB 7.3 MB/s eta 0:00:01\r\u001b[K     |█████▊                          | 296 kB 7.3 MB/s eta 0:00:01\r\u001b[K     |██████                          | 307 kB 7.3 MB/s eta 0:00:01\r\u001b[K     |██████▏                         | 317 kB 7.3 MB/s eta 0:00:01\r\u001b[K     |██████▍                         | 327 kB 7.3 MB/s eta 0:00:01\r\u001b[K     |██████▌                         | 337 kB 7.3 MB/s eta 0:00:01\r\u001b[K     |██████▊                         | 348 kB 7.3 MB/s eta 0:00:01\r\u001b[K     |███████                         | 358 kB 7.3 MB/s eta 0:00:01\r\u001b[K     |███████▏                        | 368 kB 7.3 MB/s eta 0:00:01\r\u001b[K     |███████▎                        | 378 kB 7.3 MB/s eta 0:00:01\r\u001b[K     |███████▌                        | 389 kB 7.3 MB/s eta 0:00:01\r\u001b[K     |███████▊                        | 399 kB 7.3 MB/s eta 0:00:01\r\u001b[K     |████████                        | 409 kB 7.3 MB/s eta 0:00:01\r\u001b[K     |████████▏                       | 419 kB 7.3 MB/s eta 0:00:01\r\u001b[K     |████████▎                       | 430 kB 7.3 MB/s eta 0:00:01\r\u001b[K     |████████▌                       | 440 kB 7.3 MB/s eta 0:00:01\r\u001b[K     |████████▊                       | 450 kB 7.3 MB/s eta 0:00:01\r\u001b[K     |█████████                       | 460 kB 7.3 MB/s eta 0:00:01\r\u001b[K     |█████████▏                      | 471 kB 7.3 MB/s eta 0:00:01\r\u001b[K     |█████████▎                      | 481 kB 7.3 MB/s eta 0:00:01\r\u001b[K     |█████████▌                      | 491 kB 7.3 MB/s eta 0:00:01\r\u001b[K     |█████████▊                      | 501 kB 7.3 MB/s eta 0:00:01\r\u001b[K     |██████████                      | 512 kB 7.3 MB/s eta 0:00:01\r\u001b[K     |██████████                      | 522 kB 7.3 MB/s eta 0:00:01\r\u001b[K     |██████████▎                     | 532 kB 7.3 MB/s eta 0:00:01\r\u001b[K     |██████████▌                     | 542 kB 7.3 MB/s eta 0:00:01\r\u001b[K     |██████████▊                     | 552 kB 7.3 MB/s eta 0:00:01\r\u001b[K     |███████████                     | 563 kB 7.3 MB/s eta 0:00:01\r\u001b[K     |███████████                     | 573 kB 7.3 MB/s eta 0:00:01\r\u001b[K     |███████████▎                    | 583 kB 7.3 MB/s eta 0:00:01\r\u001b[K     |███████████▌                    | 593 kB 7.3 MB/s eta 0:00:01\r\u001b[K     |███████████▊                    | 604 kB 7.3 MB/s eta 0:00:01\r\u001b[K     |███████████▉                    | 614 kB 7.3 MB/s eta 0:00:01\r\u001b[K     |████████████                    | 624 kB 7.3 MB/s eta 0:00:01\r\u001b[K     |████████████▎                   | 634 kB 7.3 MB/s eta 0:00:01\r\u001b[K     |████████████▌                   | 645 kB 7.3 MB/s eta 0:00:01\r\u001b[K     |████████████▊                   | 655 kB 7.3 MB/s eta 0:00:01\r\u001b[K     |████████████▉                   | 665 kB 7.3 MB/s eta 0:00:01\r\u001b[K     |█████████████                   | 675 kB 7.3 MB/s eta 0:00:01\r\u001b[K     |█████████████▎                  | 686 kB 7.3 MB/s eta 0:00:01\r\u001b[K     |█████████████▌                  | 696 kB 7.3 MB/s eta 0:00:01\r\u001b[K     |█████████████▊                  | 706 kB 7.3 MB/s eta 0:00:01\r\u001b[K     |█████████████▉                  | 716 kB 7.3 MB/s eta 0:00:01\r\u001b[K     |██████████████                  | 727 kB 7.3 MB/s eta 0:00:01\r\u001b[K     |██████████████▎                 | 737 kB 7.3 MB/s eta 0:00:01\r\u001b[K     |██████████████▌                 | 747 kB 7.3 MB/s eta 0:00:01\r\u001b[K     |██████████████▋                 | 757 kB 7.3 MB/s eta 0:00:01\r\u001b[K     |██████████████▉                 | 768 kB 7.3 MB/s eta 0:00:01\r\u001b[K     |███████████████                 | 778 kB 7.3 MB/s eta 0:00:01\r\u001b[K     |███████████████▎                | 788 kB 7.3 MB/s eta 0:00:01\r\u001b[K     |███████████████▌                | 798 kB 7.3 MB/s eta 0:00:01\r\u001b[K     |███████████████▋                | 808 kB 7.3 MB/s eta 0:00:01\r\u001b[K     |███████████████▉                | 819 kB 7.3 MB/s eta 0:00:01\r\u001b[K     |████████████████                | 829 kB 7.3 MB/s eta 0:00:01\r\u001b[K     |████████████████▎               | 839 kB 7.3 MB/s eta 0:00:01\r\u001b[K     |████████████████▍               | 849 kB 7.3 MB/s eta 0:00:01\r\u001b[K     |████████████████▋               | 860 kB 7.3 MB/s eta 0:00:01\r\u001b[K     |████████████████▉               | 870 kB 7.3 MB/s eta 0:00:01\r\u001b[K     |█████████████████               | 880 kB 7.3 MB/s eta 0:00:01\r\u001b[K     |█████████████████▎              | 890 kB 7.3 MB/s eta 0:00:01\r\u001b[K     |█████████████████▍              | 901 kB 7.3 MB/s eta 0:00:01\r\u001b[K     |█████████████████▋              | 911 kB 7.3 MB/s eta 0:00:01\r\u001b[K     |█████████████████▉              | 921 kB 7.3 MB/s eta 0:00:01\r\u001b[K     |██████████████████              | 931 kB 7.3 MB/s eta 0:00:01\r\u001b[K     |██████████████████▎             | 942 kB 7.3 MB/s eta 0:00:01\r\u001b[K     |██████████████████▍             | 952 kB 7.3 MB/s eta 0:00:01\r\u001b[K     |██████████████████▋             | 962 kB 7.3 MB/s eta 0:00:01\r\u001b[K     |██████████████████▉             | 972 kB 7.3 MB/s eta 0:00:01\r\u001b[K     |███████████████████             | 983 kB 7.3 MB/s eta 0:00:01\r\u001b[K     |███████████████████▏            | 993 kB 7.3 MB/s eta 0:00:01\r\u001b[K     |███████████████████▍            | 1.0 MB 7.3 MB/s eta 0:00:01\r\u001b[K     |███████████████████▋            | 1.0 MB 7.3 MB/s eta 0:00:01\r\u001b[K     |███████████████████▉            | 1.0 MB 7.3 MB/s eta 0:00:01\r\u001b[K     |████████████████████            | 1.0 MB 7.3 MB/s eta 0:00:01\r\u001b[K     |████████████████████▏           | 1.0 MB 7.3 MB/s eta 0:00:01\r\u001b[K     |████████████████████▍           | 1.1 MB 7.3 MB/s eta 0:00:01\r\u001b[K     |████████████████████▋           | 1.1 MB 7.3 MB/s eta 0:00:01\r\u001b[K     |████████████████████▉           | 1.1 MB 7.3 MB/s eta 0:00:01\r\u001b[K     |█████████████████████           | 1.1 MB 7.3 MB/s eta 0:00:01\r\u001b[K     |█████████████████████▏          | 1.1 MB 7.3 MB/s eta 0:00:01\r\u001b[K     |█████████████████████▍          | 1.1 MB 7.3 MB/s eta 0:00:01\r\u001b[K     |█████████████████████▋          | 1.1 MB 7.3 MB/s eta 0:00:01\r\u001b[K     |█████████████████████▉          | 1.1 MB 7.3 MB/s eta 0:00:01\r\u001b[K     |██████████████████████          | 1.1 MB 7.3 MB/s eta 0:00:01\r\u001b[K     |██████████████████████▏         | 1.1 MB 7.3 MB/s eta 0:00:01\r\u001b[K     |██████████████████████▍         | 1.2 MB 7.3 MB/s eta 0:00:01\r\u001b[K     |██████████████████████▋         | 1.2 MB 7.3 MB/s eta 0:00:01\r\u001b[K     |██████████████████████▉         | 1.2 MB 7.3 MB/s eta 0:00:01\r\u001b[K     |███████████████████████         | 1.2 MB 7.3 MB/s eta 0:00:01\r\u001b[K     |███████████████████████▏        | 1.2 MB 7.3 MB/s eta 0:00:01\r\u001b[K     |███████████████████████▍        | 1.2 MB 7.3 MB/s eta 0:00:01\r\u001b[K     |███████████████████████▋        | 1.2 MB 7.3 MB/s eta 0:00:01\r\u001b[K     |███████████████████████▊        | 1.2 MB 7.3 MB/s eta 0:00:01\r\u001b[K     |████████████████████████        | 1.2 MB 7.3 MB/s eta 0:00:01\r\u001b[K     |████████████████████████▏       | 1.2 MB 7.3 MB/s eta 0:00:01\r\u001b[K     |████████████████████████▍       | 1.3 MB 7.3 MB/s eta 0:00:01\r\u001b[K     |████████████████████████▋       | 1.3 MB 7.3 MB/s eta 0:00:01\r\u001b[K     |████████████████████████▊       | 1.3 MB 7.3 MB/s eta 0:00:01\r\u001b[K     |█████████████████████████       | 1.3 MB 7.3 MB/s eta 0:00:01\r\u001b[K     |█████████████████████████▏      | 1.3 MB 7.3 MB/s eta 0:00:01\r\u001b[K     |█████████████████████████▍      | 1.3 MB 7.3 MB/s eta 0:00:01\r\u001b[K     |█████████████████████████▌      | 1.3 MB 7.3 MB/s eta 0:00:01\r\u001b[K     |█████████████████████████▊      | 1.3 MB 7.3 MB/s eta 0:00:01\r\u001b[K     |██████████████████████████      | 1.3 MB 7.3 MB/s eta 0:00:01\r\u001b[K     |██████████████████████████▏     | 1.4 MB 7.3 MB/s eta 0:00:01\r\u001b[K     |██████████████████████████▍     | 1.4 MB 7.3 MB/s eta 0:00:01\r\u001b[K     |██████████████████████████▌     | 1.4 MB 7.3 MB/s eta 0:00:01\r\u001b[K     |██████████████████████████▊     | 1.4 MB 7.3 MB/s eta 0:00:01\r\u001b[K     |███████████████████████████     | 1.4 MB 7.3 MB/s eta 0:00:01\r\u001b[K     |███████████████████████████▏    | 1.4 MB 7.3 MB/s eta 0:00:01\r\u001b[K     |███████████████████████████▍    | 1.4 MB 7.3 MB/s eta 0:00:01\r\u001b[K     |███████████████████████████▌    | 1.4 MB 7.3 MB/s eta 0:00:01\r\u001b[K     |███████████████████████████▊    | 1.4 MB 7.3 MB/s eta 0:00:01\r\u001b[K     |████████████████████████████    | 1.4 MB 7.3 MB/s eta 0:00:01\r\u001b[K     |████████████████████████████▏   | 1.5 MB 7.3 MB/s eta 0:00:01\r\u001b[K     |████████████████████████████▎   | 1.5 MB 7.3 MB/s eta 0:00:01\r\u001b[K     |████████████████████████████▌   | 1.5 MB 7.3 MB/s eta 0:00:01\r\u001b[K     |████████████████████████████▊   | 1.5 MB 7.3 MB/s eta 0:00:01\r\u001b[K     |█████████████████████████████   | 1.5 MB 7.3 MB/s eta 0:00:01\r\u001b[K     |█████████████████████████████▏  | 1.5 MB 7.3 MB/s eta 0:00:01\r\u001b[K     |█████████████████████████████▎  | 1.5 MB 7.3 MB/s eta 0:00:01\r\u001b[K     |█████████████████████████████▌  | 1.5 MB 7.3 MB/s eta 0:00:01\r\u001b[K     |█████████████████████████████▊  | 1.5 MB 7.3 MB/s eta 0:00:01\r\u001b[K     |██████████████████████████████  | 1.5 MB 7.3 MB/s eta 0:00:01\r\u001b[K     |██████████████████████████████▏ | 1.6 MB 7.3 MB/s eta 0:00:01\r\u001b[K     |██████████████████████████████▎ | 1.6 MB 7.3 MB/s eta 0:00:01\r\u001b[K     |██████████████████████████████▌ | 1.6 MB 7.3 MB/s eta 0:00:01\r\u001b[K     |██████████████████████████████▊ | 1.6 MB 7.3 MB/s eta 0:00:01\r\u001b[K     |███████████████████████████████ | 1.6 MB 7.3 MB/s eta 0:00:01\r\u001b[K     |███████████████████████████████ | 1.6 MB 7.3 MB/s eta 0:00:01\r\u001b[K     |███████████████████████████████▎| 1.6 MB 7.3 MB/s eta 0:00:01\r\u001b[K     |███████████████████████████████▌| 1.6 MB 7.3 MB/s eta 0:00:01\r\u001b[K     |███████████████████████████████▊| 1.6 MB 7.3 MB/s eta 0:00:01\r\u001b[K     |████████████████████████████████| 1.6 MB 7.3 MB/s eta 0:00:01\r\u001b[K     |████████████████████████████████| 1.7 MB 7.3 MB/s \n",
            "\u001b[?25h  Installing build dependencies ... \u001b[?25l\u001b[?25hdone\n",
            "  Getting requirements to build wheel ... \u001b[?25l\u001b[?25hdone\n",
            "  Installing backend dependencies ... \u001b[?25l\u001b[?25hdone\n",
            "    Preparing wheel metadata ... \u001b[?25l\u001b[?25hdone\n",
            "Collecting numpy>=1.20.0\n",
            "  Downloading numpy-1.21.5-cp37-cp37m-manylinux_2_12_x86_64.manylinux2010_x86_64.whl (15.7 MB)\n",
            "\u001b[K     |████████████████████████████████| 15.7 MB 33.3 MB/s \n",
            "\u001b[?25hCollecting funcy\n",
            "  Downloading funcy-1.17-py2.py3-none-any.whl (33 kB)\n",
            "Requirement already satisfied: setuptools in /usr/local/lib/python3.7/dist-packages (from pyLDAvis) (57.4.0)\n",
            "Requirement already satisfied: scipy in /usr/local/lib/python3.7/dist-packages (from pyLDAvis) (1.4.1)\n",
            "Collecting pandas>=1.2.0\n",
            "  Downloading pandas-1.3.5-cp37-cp37m-manylinux_2_17_x86_64.manylinux2014_x86_64.whl (11.3 MB)\n",
            "\u001b[K     |████████████████████████████████| 11.3 MB 43.9 MB/s \n",
            "\u001b[?25hRequirement already satisfied: scikit-learn in /usr/local/lib/python3.7/dist-packages (from pyLDAvis) (1.0.1)\n",
            "Requirement already satisfied: future in /usr/local/lib/python3.7/dist-packages (from pyLDAvis) (0.16.0)\n",
            "Requirement already satisfied: gensim in /usr/local/lib/python3.7/dist-packages (from pyLDAvis) (3.6.0)\n",
            "Requirement already satisfied: sklearn in /usr/local/lib/python3.7/dist-packages (from pyLDAvis) (0.0)\n",
            "Requirement already satisfied: jinja2 in /usr/local/lib/python3.7/dist-packages (from pyLDAvis) (2.11.3)\n",
            "Requirement already satisfied: joblib in /usr/local/lib/python3.7/dist-packages (from pyLDAvis) (1.1.0)\n",
            "Requirement already satisfied: numexpr in /usr/local/lib/python3.7/dist-packages (from pyLDAvis) (2.7.3)\n",
            "Requirement already satisfied: pytz>=2017.3 in /usr/local/lib/python3.7/dist-packages (from pandas>=1.2.0->pyLDAvis) (2018.9)\n",
            "Requirement already satisfied: python-dateutil>=2.7.3 in /usr/local/lib/python3.7/dist-packages (from pandas>=1.2.0->pyLDAvis) (2.8.2)\n",
            "Requirement already satisfied: six>=1.5 in /usr/local/lib/python3.7/dist-packages (from python-dateutil>=2.7.3->pandas>=1.2.0->pyLDAvis) (1.15.0)\n",
            "Requirement already satisfied: smart-open>=1.2.1 in /usr/local/lib/python3.7/dist-packages (from gensim->pyLDAvis) (5.2.1)\n",
            "Requirement already satisfied: MarkupSafe>=0.23 in /usr/local/lib/python3.7/dist-packages (from jinja2->pyLDAvis) (2.0.1)\n",
            "Requirement already satisfied: threadpoolctl>=2.0.0 in /usr/local/lib/python3.7/dist-packages (from scikit-learn->pyLDAvis) (3.0.0)\n",
            "Building wheels for collected packages: pyLDAvis\n",
            "  Building wheel for pyLDAvis (PEP 517) ... \u001b[?25l\u001b[?25hdone\n",
            "  Created wheel for pyLDAvis: filename=pyLDAvis-3.3.1-py2.py3-none-any.whl size=136897 sha256=b92b9e7b1ee956f0153fadccf55a128f3bb89a011ab4a0e0cb6bdf5e3e2297fd\n",
            "  Stored in directory: /root/.cache/pip/wheels/c9/21/f6/17bcf2667e8a68532ba2fbf6d5c72fdf4c7f7d9abfa4852d2f\n",
            "Successfully built pyLDAvis\n",
            "Installing collected packages: numpy, pandas, funcy, pyLDAvis\n",
            "  Attempting uninstall: numpy\n",
            "    Found existing installation: numpy 1.19.5\n",
            "    Uninstalling numpy-1.19.5:\n",
            "      Successfully uninstalled numpy-1.19.5\n",
            "  Attempting uninstall: pandas\n",
            "    Found existing installation: pandas 1.1.5\n",
            "    Uninstalling pandas-1.1.5:\n",
            "      Successfully uninstalled pandas-1.1.5\n",
            "\u001b[31mERROR: pip's dependency resolver does not currently take into account all the packages that are installed. This behaviour is the source of the following dependency conflicts.\n",
            "yellowbrick 1.3.post1 requires numpy<1.20,>=1.16.0, but you have numpy 1.21.5 which is incompatible.\n",
            "google-colab 1.0.0 requires pandas~=1.1.0; python_version >= \"3.0\", but you have pandas 1.3.5 which is incompatible.\n",
            "datascience 0.10.6 requires folium==0.2.1, but you have folium 0.8.3 which is incompatible.\n",
            "albumentations 0.1.12 requires imgaug<0.2.7,>=0.2.5, but you have imgaug 0.2.9 which is incompatible.\u001b[0m\n",
            "Successfully installed funcy-1.17 numpy-1.21.5 pandas-1.3.5 pyLDAvis-3.3.1\n"
          ]
        },
        {
          "output_type": "display_data",
          "data": {
            "application/vnd.colab-display-data+json": {
              "pip_warning": {
                "packages": [
                  "numpy",
                  "pandas"
                ]
              }
            }
          },
          "metadata": {}
        },
        {
          "output_type": "stream",
          "name": "stderr",
          "text": [
            "/usr/local/lib/python3.7/dist-packages/past/types/oldstr.py:5: DeprecationWarning:\n",
            "\n",
            "Using or importing the ABCs from 'collections' instead of from 'collections.abc' is deprecated since Python 3.3,and in 3.9 it will stop working\n",
            "\n"
          ]
        }
      ]
    },
    {
      "cell_type": "code",
      "metadata": {
        "id": "AL5Y17uDK0ez"
      },
      "source": [
        "import pyLDAvis "
      ],
      "execution_count": 32,
      "outputs": []
    },
    {
      "cell_type": "code",
      "source": [
        "!pip install pandas --upgrade"
      ],
      "metadata": {
        "colab": {
          "base_uri": "https://localhost:8080/"
        },
        "id": "wz032kVLtKDd",
        "outputId": "dd70eaba-7bc0-44a3-b0ee-f831827132e6"
      },
      "execution_count": 35,
      "outputs": [
        {
          "output_type": "stream",
          "name": "stdout",
          "text": [
            "Requirement already satisfied: pandas in /usr/local/lib/python3.7/dist-packages (1.3.5)\n",
            "Requirement already satisfied: numpy>=1.17.3 in /usr/local/lib/python3.7/dist-packages (from pandas) (1.21.5)\n",
            "Requirement already satisfied: pytz>=2017.3 in /usr/local/lib/python3.7/dist-packages (from pandas) (2018.9)\n",
            "Requirement already satisfied: python-dateutil>=2.7.3 in /usr/local/lib/python3.7/dist-packages (from pandas) (2.8.2)\n",
            "Requirement already satisfied: six>=1.5 in /usr/local/lib/python3.7/dist-packages (from python-dateutil>=2.7.3->pandas) (1.15.0)\n"
          ]
        }
      ]
    },
    {
      "cell_type": "code",
      "metadata": {
        "id": "UA5U9XWxKRN6",
        "colab": {
          "base_uri": "https://localhost:8080/",
          "height": 364
        },
        "outputId": "6ad3ec68-6e27-4280-aafc-ea8dcbe89250"
      },
      "source": [
        "LDAvis_data_filepath = 'ldavis_prepared_'+str(number_topics)\n",
        "LDAvis_prepared = sklearn_lda.prepare(lda, count_data, count_vectorizer,sort_topics=False)\n",
        "pyLDAvis.save_html(LDAvis_prepared, 'ldavis_prepared_'+ str(number_topics) +'.html')\n",
        "pyLDAvis.display(LDAvis_prepared)"
      ],
      "execution_count": 36,
      "outputs": [
        {
          "output_type": "error",
          "ename": "TypeError",
          "evalue": "ignored",
          "traceback": [
            "\u001b[0;31m---------------------------------------------------------------------------\u001b[0m",
            "\u001b[0;31mTypeError\u001b[0m                                 Traceback (most recent call last)",
            "\u001b[0;32m<ipython-input-36-d90787d68ab5>\u001b[0m in \u001b[0;36m<module>\u001b[0;34m()\u001b[0m\n\u001b[1;32m      1\u001b[0m \u001b[0mLDAvis_data_filepath\u001b[0m \u001b[0;34m=\u001b[0m \u001b[0;34m'ldavis_prepared_'\u001b[0m\u001b[0;34m+\u001b[0m\u001b[0mstr\u001b[0m\u001b[0;34m(\u001b[0m\u001b[0mnumber_topics\u001b[0m\u001b[0;34m)\u001b[0m\u001b[0;34m\u001b[0m\u001b[0;34m\u001b[0m\u001b[0m\n\u001b[0;32m----> 2\u001b[0;31m \u001b[0mLDAvis_prepared\u001b[0m \u001b[0;34m=\u001b[0m \u001b[0msklearn_lda\u001b[0m\u001b[0;34m.\u001b[0m\u001b[0mprepare\u001b[0m\u001b[0;34m(\u001b[0m\u001b[0mlda\u001b[0m\u001b[0;34m,\u001b[0m \u001b[0mcount_data\u001b[0m\u001b[0;34m,\u001b[0m \u001b[0mcount_vectorizer\u001b[0m\u001b[0;34m,\u001b[0m\u001b[0msort_topics\u001b[0m\u001b[0;34m=\u001b[0m\u001b[0;32mFalse\u001b[0m\u001b[0;34m)\u001b[0m\u001b[0;34m\u001b[0m\u001b[0;34m\u001b[0m\u001b[0m\n\u001b[0m\u001b[1;32m      3\u001b[0m \u001b[0mpyLDAvis\u001b[0m\u001b[0;34m.\u001b[0m\u001b[0msave_html\u001b[0m\u001b[0;34m(\u001b[0m\u001b[0mLDAvis_prepared\u001b[0m\u001b[0;34m,\u001b[0m \u001b[0;34m'ldavis_prepared_'\u001b[0m\u001b[0;34m+\u001b[0m \u001b[0mstr\u001b[0m\u001b[0;34m(\u001b[0m\u001b[0mnumber_topics\u001b[0m\u001b[0;34m)\u001b[0m \u001b[0;34m+\u001b[0m\u001b[0;34m'.html'\u001b[0m\u001b[0;34m)\u001b[0m\u001b[0;34m\u001b[0m\u001b[0;34m\u001b[0m\u001b[0m\n\u001b[1;32m      4\u001b[0m \u001b[0mpyLDAvis\u001b[0m\u001b[0;34m.\u001b[0m\u001b[0mdisplay\u001b[0m\u001b[0;34m(\u001b[0m\u001b[0mLDAvis_prepared\u001b[0m\u001b[0;34m)\u001b[0m\u001b[0;34m\u001b[0m\u001b[0;34m\u001b[0m\u001b[0m\n",
            "\u001b[0;32m/usr/local/lib/python3.7/dist-packages/pyLDAvis/sklearn.py\u001b[0m in \u001b[0;36mprepare\u001b[0;34m(lda_model, dtm, vectorizer, **kwargs)\u001b[0m\n\u001b[1;32m     93\u001b[0m     \"\"\"\n\u001b[1;32m     94\u001b[0m     \u001b[0mopts\u001b[0m \u001b[0;34m=\u001b[0m \u001b[0mfp\u001b[0m\u001b[0;34m.\u001b[0m\u001b[0mmerge\u001b[0m\u001b[0;34m(\u001b[0m\u001b[0m_extract_data\u001b[0m\u001b[0;34m(\u001b[0m\u001b[0mlda_model\u001b[0m\u001b[0;34m,\u001b[0m \u001b[0mdtm\u001b[0m\u001b[0;34m,\u001b[0m \u001b[0mvectorizer\u001b[0m\u001b[0;34m)\u001b[0m\u001b[0;34m,\u001b[0m \u001b[0mkwargs\u001b[0m\u001b[0;34m)\u001b[0m\u001b[0;34m\u001b[0m\u001b[0;34m\u001b[0m\u001b[0m\n\u001b[0;32m---> 95\u001b[0;31m     \u001b[0;32mreturn\u001b[0m \u001b[0mpyLDAvis\u001b[0m\u001b[0;34m.\u001b[0m\u001b[0mprepare\u001b[0m\u001b[0;34m(\u001b[0m\u001b[0;34m**\u001b[0m\u001b[0mopts\u001b[0m\u001b[0;34m)\u001b[0m\u001b[0;34m\u001b[0m\u001b[0;34m\u001b[0m\u001b[0m\n\u001b[0m",
            "\u001b[0;32m/usr/local/lib/python3.7/dist-packages/pyLDAvis/_prepare.py\u001b[0m in \u001b[0;36mprepare\u001b[0;34m(topic_term_dists, doc_topic_dists, doc_lengths, vocab, term_frequency, R, lambda_step, mds, n_jobs, plot_opts, sort_topics, start_index)\u001b[0m\n\u001b[1;32m    413\u001b[0m     \u001b[0mdoc_lengths\u001b[0m \u001b[0;34m=\u001b[0m \u001b[0m_series_with_name\u001b[0m\u001b[0;34m(\u001b[0m\u001b[0mdoc_lengths\u001b[0m\u001b[0;34m,\u001b[0m \u001b[0;34m'doc_length'\u001b[0m\u001b[0;34m)\u001b[0m\u001b[0;34m\u001b[0m\u001b[0;34m\u001b[0m\u001b[0m\n\u001b[1;32m    414\u001b[0m     \u001b[0mvocab\u001b[0m \u001b[0;34m=\u001b[0m \u001b[0m_series_with_name\u001b[0m\u001b[0;34m(\u001b[0m\u001b[0mvocab\u001b[0m\u001b[0;34m,\u001b[0m \u001b[0;34m'vocab'\u001b[0m\u001b[0;34m)\u001b[0m\u001b[0;34m\u001b[0m\u001b[0;34m\u001b[0m\u001b[0m\n\u001b[0;32m--> 415\u001b[0;31m     \u001b[0m_input_validate\u001b[0m\u001b[0;34m(\u001b[0m\u001b[0mtopic_term_dists\u001b[0m\u001b[0;34m,\u001b[0m \u001b[0mdoc_topic_dists\u001b[0m\u001b[0;34m,\u001b[0m \u001b[0mdoc_lengths\u001b[0m\u001b[0;34m,\u001b[0m \u001b[0mvocab\u001b[0m\u001b[0;34m,\u001b[0m \u001b[0mterm_frequency\u001b[0m\u001b[0;34m)\u001b[0m\u001b[0;34m\u001b[0m\u001b[0;34m\u001b[0m\u001b[0m\n\u001b[0m\u001b[1;32m    416\u001b[0m     \u001b[0mR\u001b[0m \u001b[0;34m=\u001b[0m \u001b[0mmin\u001b[0m\u001b[0;34m(\u001b[0m\u001b[0mR\u001b[0m\u001b[0;34m,\u001b[0m \u001b[0mlen\u001b[0m\u001b[0;34m(\u001b[0m\u001b[0mvocab\u001b[0m\u001b[0;34m)\u001b[0m\u001b[0;34m)\u001b[0m\u001b[0;34m\u001b[0m\u001b[0;34m\u001b[0m\u001b[0m\n\u001b[1;32m    417\u001b[0m \u001b[0;34m\u001b[0m\u001b[0m\n",
            "\u001b[0;32m/usr/local/lib/python3.7/dist-packages/pyLDAvis/_prepare.py\u001b[0m in \u001b[0;36m_input_validate\u001b[0;34m(*args)\u001b[0m\n\u001b[1;32m     70\u001b[0m \u001b[0;34m\u001b[0m\u001b[0m\n\u001b[1;32m     71\u001b[0m \u001b[0;32mdef\u001b[0m \u001b[0m_input_validate\u001b[0m\u001b[0;34m(\u001b[0m\u001b[0;34m*\u001b[0m\u001b[0margs\u001b[0m\u001b[0;34m)\u001b[0m\u001b[0;34m:\u001b[0m\u001b[0;34m\u001b[0m\u001b[0;34m\u001b[0m\u001b[0m\n\u001b[0;32m---> 72\u001b[0;31m     \u001b[0mres\u001b[0m \u001b[0;34m=\u001b[0m \u001b[0m_input_check\u001b[0m\u001b[0;34m(\u001b[0m\u001b[0;34m*\u001b[0m\u001b[0margs\u001b[0m\u001b[0;34m)\u001b[0m\u001b[0;34m\u001b[0m\u001b[0;34m\u001b[0m\u001b[0m\n\u001b[0m\u001b[1;32m     73\u001b[0m     \u001b[0;32mif\u001b[0m \u001b[0mres\u001b[0m\u001b[0;34m:\u001b[0m\u001b[0;34m\u001b[0m\u001b[0;34m\u001b[0m\u001b[0m\n\u001b[1;32m     74\u001b[0m         \u001b[0;32mraise\u001b[0m \u001b[0mValidationError\u001b[0m\u001b[0;34m(\u001b[0m\u001b[0;34m'\\n'\u001b[0m \u001b[0;34m+\u001b[0m \u001b[0;34m'\\n'\u001b[0m\u001b[0;34m.\u001b[0m\u001b[0mjoin\u001b[0m\u001b[0;34m(\u001b[0m\u001b[0;34m[\u001b[0m\u001b[0;34m' * '\u001b[0m \u001b[0;34m+\u001b[0m \u001b[0ms\u001b[0m \u001b[0;32mfor\u001b[0m \u001b[0ms\u001b[0m \u001b[0;32min\u001b[0m \u001b[0mres\u001b[0m\u001b[0;34m]\u001b[0m\u001b[0;34m)\u001b[0m\u001b[0;34m)\u001b[0m\u001b[0;34m\u001b[0m\u001b[0;34m\u001b[0m\u001b[0m\n",
            "\u001b[0;32m/usr/local/lib/python3.7/dist-packages/pyLDAvis/_prepare.py\u001b[0m in \u001b[0;36m_input_check\u001b[0;34m(topic_term_dists, doc_topic_dists, doc_lengths, vocab, term_frequency)\u001b[0m\n\u001b[1;32m     59\u001b[0m         \u001b[0merr\u001b[0m\u001b[0;34m(\u001b[0m\u001b[0merr_msg\u001b[0m\u001b[0;34m)\u001b[0m\u001b[0;34m\u001b[0m\u001b[0;34m\u001b[0m\u001b[0m\n\u001b[1;32m     60\u001b[0m \u001b[0;34m\u001b[0m\u001b[0m\n\u001b[0;32m---> 61\u001b[0;31m     \u001b[0;32mif\u001b[0m \u001b[0m__num_dist_rows__\u001b[0m\u001b[0;34m(\u001b[0m\u001b[0mtopic_term_dists\u001b[0m\u001b[0;34m)\u001b[0m \u001b[0;34m!=\u001b[0m \u001b[0mttds\u001b[0m\u001b[0;34m[\u001b[0m\u001b[0;36m0\u001b[0m\u001b[0;34m]\u001b[0m\u001b[0;34m:\u001b[0m\u001b[0;34m\u001b[0m\u001b[0;34m\u001b[0m\u001b[0m\n\u001b[0m\u001b[1;32m     62\u001b[0m         \u001b[0merr\u001b[0m\u001b[0;34m(\u001b[0m\u001b[0;34m'Not all rows (distributions) in topic_term_dists sum to 1.'\u001b[0m\u001b[0;34m)\u001b[0m\u001b[0;34m\u001b[0m\u001b[0;34m\u001b[0m\u001b[0m\n\u001b[1;32m     63\u001b[0m \u001b[0;34m\u001b[0m\u001b[0m\n",
            "\u001b[0;32m/usr/local/lib/python3.7/dist-packages/pyLDAvis/_prepare.py\u001b[0m in \u001b[0;36m__num_dist_rows__\u001b[0;34m(array, ndigits)\u001b[0m\n\u001b[1;32m     23\u001b[0m \u001b[0;34m\u001b[0m\u001b[0m\n\u001b[1;32m     24\u001b[0m \u001b[0;32mdef\u001b[0m \u001b[0m__num_dist_rows__\u001b[0m\u001b[0;34m(\u001b[0m\u001b[0marray\u001b[0m\u001b[0;34m,\u001b[0m \u001b[0mndigits\u001b[0m\u001b[0;34m=\u001b[0m\u001b[0;36m2\u001b[0m\u001b[0;34m)\u001b[0m\u001b[0;34m:\u001b[0m\u001b[0;34m\u001b[0m\u001b[0;34m\u001b[0m\u001b[0m\n\u001b[0;32m---> 25\u001b[0;31m     \u001b[0;32mreturn\u001b[0m \u001b[0marray\u001b[0m\u001b[0;34m.\u001b[0m\u001b[0mshape\u001b[0m\u001b[0;34m[\u001b[0m\u001b[0;36m0\u001b[0m\u001b[0;34m]\u001b[0m \u001b[0;34m-\u001b[0m \u001b[0mint\u001b[0m\u001b[0;34m(\u001b[0m\u001b[0;34m(\u001b[0m\u001b[0mpd\u001b[0m\u001b[0;34m.\u001b[0m\u001b[0mDataFrame\u001b[0m\u001b[0;34m(\u001b[0m\u001b[0marray\u001b[0m\u001b[0;34m)\u001b[0m\u001b[0;34m.\u001b[0m\u001b[0msum\u001b[0m\u001b[0;34m(\u001b[0m\u001b[0maxis\u001b[0m\u001b[0;34m=\u001b[0m\u001b[0;36m1\u001b[0m\u001b[0;34m)\u001b[0m \u001b[0;34m<\u001b[0m \u001b[0;36m0.999\u001b[0m\u001b[0;34m)\u001b[0m\u001b[0;34m.\u001b[0m\u001b[0msum\u001b[0m\u001b[0;34m(\u001b[0m\u001b[0;34m)\u001b[0m\u001b[0;34m)\u001b[0m\u001b[0;34m\u001b[0m\u001b[0;34m\u001b[0m\u001b[0m\n\u001b[0m\u001b[1;32m     26\u001b[0m \u001b[0;34m\u001b[0m\u001b[0m\n\u001b[1;32m     27\u001b[0m \u001b[0;34m\u001b[0m\u001b[0m\n",
            "\u001b[0;32m/usr/local/lib/python3.7/dist-packages/pandas/core/ops/common.py\u001b[0m in \u001b[0;36mnew_method\u001b[0;34m(self, other)\u001b[0m\n\u001b[1;32m     63\u001b[0m                     \u001b[0;32mbreak\u001b[0m\u001b[0;34m\u001b[0m\u001b[0;34m\u001b[0m\u001b[0m\n\u001b[1;32m     64\u001b[0m                 \u001b[0;32mif\u001b[0m \u001b[0misinstance\u001b[0m\u001b[0;34m(\u001b[0m\u001b[0mother\u001b[0m\u001b[0;34m,\u001b[0m \u001b[0mcls\u001b[0m\u001b[0;34m)\u001b[0m\u001b[0;34m:\u001b[0m\u001b[0;34m\u001b[0m\u001b[0;34m\u001b[0m\u001b[0m\n\u001b[0;32m---> 65\u001b[0;31m                     \u001b[0;32mreturn\u001b[0m \u001b[0mNotImplemented\u001b[0m\u001b[0;34m\u001b[0m\u001b[0;34m\u001b[0m\u001b[0m\n\u001b[0m\u001b[1;32m     66\u001b[0m \u001b[0;34m\u001b[0m\u001b[0m\n\u001b[1;32m     67\u001b[0m         \u001b[0mother\u001b[0m \u001b[0;34m=\u001b[0m \u001b[0mitem_from_zerodim\u001b[0m\u001b[0;34m(\u001b[0m\u001b[0mother\u001b[0m\u001b[0;34m)\u001b[0m\u001b[0;34m\u001b[0m\u001b[0;34m\u001b[0m\u001b[0m\n",
            "\u001b[0;32m/usr/local/lib/python3.7/dist-packages/pandas/core/ops/__init__.py\u001b[0m in \u001b[0;36mwrapper\u001b[0;34m(self, other)\u001b[0m\n\u001b[1;32m    368\u001b[0m     \u001b[0;31m#  to avoid constructing two potentially large/sparse DataFrames\u001b[0m\u001b[0;34m\u001b[0m\u001b[0;34m\u001b[0m\u001b[0;34m\u001b[0m\u001b[0m\n\u001b[1;32m    369\u001b[0m     join_columns, _, _ = left.columns.join(\n\u001b[0;32m--> 370\u001b[0;31m         \u001b[0mright\u001b[0m\u001b[0;34m.\u001b[0m\u001b[0mcolumns\u001b[0m\u001b[0;34m,\u001b[0m \u001b[0mhow\u001b[0m\u001b[0;34m=\u001b[0m\u001b[0;34m\"outer\"\u001b[0m\u001b[0;34m,\u001b[0m \u001b[0mlevel\u001b[0m\u001b[0;34m=\u001b[0m\u001b[0;32mNone\u001b[0m\u001b[0;34m,\u001b[0m \u001b[0mreturn_indexers\u001b[0m\u001b[0;34m=\u001b[0m\u001b[0;32mTrue\u001b[0m\u001b[0;34m\u001b[0m\u001b[0;34m\u001b[0m\u001b[0m\n\u001b[0m\u001b[1;32m    371\u001b[0m     )\n\u001b[1;32m    372\u001b[0m \u001b[0;34m\u001b[0m\u001b[0m\n",
            "\u001b[0;32m/usr/local/lib/python3.7/dist-packages/pandas/core/ops/array_ops.py\u001b[0m in \u001b[0;36mcomparison_op\u001b[0;34m(left, right, op)\u001b[0m\n\u001b[1;32m    249\u001b[0m     \u001b[0mrvalues\u001b[0m \u001b[0;34m=\u001b[0m \u001b[0mensure_wrapped_if_datetimelike\u001b[0m\u001b[0;34m(\u001b[0m\u001b[0mright\u001b[0m\u001b[0;34m)\u001b[0m\u001b[0;34m\u001b[0m\u001b[0;34m\u001b[0m\u001b[0m\n\u001b[1;32m    250\u001b[0m \u001b[0;34m\u001b[0m\u001b[0m\n\u001b[0;32m--> 251\u001b[0;31m     \u001b[0mrvalues\u001b[0m \u001b[0;34m=\u001b[0m \u001b[0mlib\u001b[0m\u001b[0;34m.\u001b[0m\u001b[0mitem_from_zerodim\u001b[0m\u001b[0;34m(\u001b[0m\u001b[0mrvalues\u001b[0m\u001b[0;34m)\u001b[0m\u001b[0;34m\u001b[0m\u001b[0;34m\u001b[0m\u001b[0m\n\u001b[0m\u001b[1;32m    252\u001b[0m     \u001b[0;32mif\u001b[0m \u001b[0misinstance\u001b[0m\u001b[0;34m(\u001b[0m\u001b[0mrvalues\u001b[0m\u001b[0;34m,\u001b[0m \u001b[0mlist\u001b[0m\u001b[0;34m)\u001b[0m\u001b[0;34m:\u001b[0m\u001b[0;34m\u001b[0m\u001b[0;34m\u001b[0m\u001b[0m\n\u001b[1;32m    253\u001b[0m         \u001b[0;31m# TODO: same for tuples?\u001b[0m\u001b[0;34m\u001b[0m\u001b[0;34m\u001b[0m\u001b[0;34m\u001b[0m\u001b[0m\n",
            "\u001b[0;32m/usr/local/lib/python3.7/dist-packages/pandas/core/ops/array_ops.py\u001b[0m in \u001b[0;36mna_arithmetic_op\u001b[0;34m(left, right, op, is_cmp)\u001b[0m\n\u001b[1;32m    138\u001b[0m \u001b[0;32mdef\u001b[0m \u001b[0m_na_arithmetic_op\u001b[0m\u001b[0;34m(\u001b[0m\u001b[0mleft\u001b[0m\u001b[0;34m,\u001b[0m \u001b[0mright\u001b[0m\u001b[0;34m,\u001b[0m \u001b[0mop\u001b[0m\u001b[0;34m,\u001b[0m \u001b[0mis_cmp\u001b[0m\u001b[0;34m:\u001b[0m \u001b[0mbool\u001b[0m \u001b[0;34m=\u001b[0m \u001b[0;32mFalse\u001b[0m\u001b[0;34m)\u001b[0m\u001b[0;34m:\u001b[0m\u001b[0;34m\u001b[0m\u001b[0;34m\u001b[0m\u001b[0m\n\u001b[1;32m    139\u001b[0m     \"\"\"\n\u001b[0;32m--> 140\u001b[0;31m     \u001b[0mReturn\u001b[0m \u001b[0mthe\u001b[0m \u001b[0mresult\u001b[0m \u001b[0mof\u001b[0m \u001b[0mevaluating\u001b[0m \u001b[0mop\u001b[0m \u001b[0mon\u001b[0m \u001b[0mthe\u001b[0m \u001b[0mpassed\u001b[0m \u001b[0;32min\u001b[0m \u001b[0mvalues\u001b[0m\u001b[0;34m.\u001b[0m\u001b[0;34m\u001b[0m\u001b[0;34m\u001b[0m\u001b[0m\n\u001b[0m\u001b[1;32m    141\u001b[0m \u001b[0;34m\u001b[0m\u001b[0m\n\u001b[1;32m    142\u001b[0m     \u001b[0mIf\u001b[0m \u001b[0mnative\u001b[0m \u001b[0mtypes\u001b[0m \u001b[0mare\u001b[0m \u001b[0;32mnot\u001b[0m \u001b[0mcompatible\u001b[0m\u001b[0;34m,\u001b[0m \u001b[0;32mtry\u001b[0m \u001b[0mcoercion\u001b[0m \u001b[0mto\u001b[0m \u001b[0mobject\u001b[0m \u001b[0mdtype\u001b[0m\u001b[0;34m.\u001b[0m\u001b[0;34m\u001b[0m\u001b[0;34m\u001b[0m\u001b[0m\n",
            "\u001b[0;32m/usr/local/lib/python3.7/dist-packages/pandas/core/computation/expressions.py\u001b[0m in \u001b[0;36m<module>\u001b[0;34m()\u001b[0m\n\u001b[1;32m     17\u001b[0m \u001b[0;32mfrom\u001b[0m \u001b[0mpandas\u001b[0m\u001b[0;34m.\u001b[0m\u001b[0m_typing\u001b[0m \u001b[0;32mimport\u001b[0m \u001b[0mFuncType\u001b[0m\u001b[0;34m\u001b[0m\u001b[0;34m\u001b[0m\u001b[0m\n\u001b[1;32m     18\u001b[0m \u001b[0;34m\u001b[0m\u001b[0m\n\u001b[0;32m---> 19\u001b[0;31m \u001b[0;32mfrom\u001b[0m \u001b[0mpandas\u001b[0m\u001b[0;34m.\u001b[0m\u001b[0mcore\u001b[0m\u001b[0;34m.\u001b[0m\u001b[0mcomputation\u001b[0m\u001b[0;34m.\u001b[0m\u001b[0mcheck\u001b[0m \u001b[0;32mimport\u001b[0m \u001b[0mNUMEXPR_INSTALLED\u001b[0m\u001b[0;34m\u001b[0m\u001b[0;34m\u001b[0m\u001b[0m\n\u001b[0m\u001b[1;32m     20\u001b[0m \u001b[0;32mfrom\u001b[0m \u001b[0mpandas\u001b[0m\u001b[0;34m.\u001b[0m\u001b[0mcore\u001b[0m\u001b[0;34m.\u001b[0m\u001b[0mops\u001b[0m \u001b[0;32mimport\u001b[0m \u001b[0mroperator\u001b[0m\u001b[0;34m\u001b[0m\u001b[0;34m\u001b[0m\u001b[0m\n\u001b[1;32m     21\u001b[0m \u001b[0;34m\u001b[0m\u001b[0m\n",
            "\u001b[0;32m/usr/local/lib/python3.7/dist-packages/pandas/core/computation/check.py\u001b[0m in \u001b[0;36m<module>\u001b[0;34m()\u001b[0m\n\u001b[1;32m      1\u001b[0m \u001b[0;32mfrom\u001b[0m \u001b[0mpandas\u001b[0m\u001b[0;34m.\u001b[0m\u001b[0mcompat\u001b[0m\u001b[0;34m.\u001b[0m\u001b[0m_optional\u001b[0m \u001b[0;32mimport\u001b[0m \u001b[0mimport_optional_dependency\u001b[0m\u001b[0;34m\u001b[0m\u001b[0;34m\u001b[0m\u001b[0m\n\u001b[1;32m      2\u001b[0m \u001b[0;34m\u001b[0m\u001b[0m\n\u001b[0;32m----> 3\u001b[0;31m \u001b[0mne\u001b[0m \u001b[0;34m=\u001b[0m \u001b[0mimport_optional_dependency\u001b[0m\u001b[0;34m(\u001b[0m\u001b[0;34m\"numexpr\"\u001b[0m\u001b[0;34m,\u001b[0m \u001b[0merrors\u001b[0m\u001b[0;34m=\u001b[0m\u001b[0;34m\"warn\"\u001b[0m\u001b[0;34m)\u001b[0m\u001b[0;34m\u001b[0m\u001b[0;34m\u001b[0m\u001b[0m\n\u001b[0m\u001b[1;32m      4\u001b[0m \u001b[0mNUMEXPR_INSTALLED\u001b[0m \u001b[0;34m=\u001b[0m \u001b[0mne\u001b[0m \u001b[0;32mis\u001b[0m \u001b[0;32mnot\u001b[0m \u001b[0;32mNone\u001b[0m\u001b[0;34m\u001b[0m\u001b[0;34m\u001b[0m\u001b[0m\n\u001b[1;32m      5\u001b[0m \u001b[0;32mif\u001b[0m \u001b[0mNUMEXPR_INSTALLED\u001b[0m\u001b[0;34m:\u001b[0m\u001b[0;34m\u001b[0m\u001b[0;34m\u001b[0m\u001b[0m\n",
            "\u001b[0;31mTypeError\u001b[0m: import_optional_dependency() got an unexpected keyword argument 'errors'"
          ]
        }
      ]
    },
    {
      "cell_type": "markdown",
      "metadata": {
        "id": "3nzRr9CLevEv"
      },
      "source": [
        "### Vader Sentiment analysis \n"
      ]
    },
    {
      "cell_type": "code",
      "metadata": {
        "id": "0Muh23HkMNyl",
        "colab": {
          "base_uri": "https://localhost:8080/"
        },
        "outputId": "c4f55209-c5cf-42f3-b6e0-656594ee80bf"
      },
      "source": [
        "!pip install vaderSentiment\n",
        "from vaderSentiment.vaderSentiment import SentimentIntensityAnalyzer \n",
        "  \n",
        "# function to print sentiments \n",
        "# of the sentence. \n",
        "def sentiment_scores(sentence): \n",
        "  \n",
        "    # Create a SentimentIntensityAnalyzer object. \n",
        "    sid_obj = SentimentIntensityAnalyzer() \n",
        "  \n",
        "    # polarity_scores method of SentimentIntensityAnalyzer \n",
        "    # oject gives a sentiment dictionary. \n",
        "    # which contains pos, neg, neu, and compound scores. \n",
        "    sentiment_dict = sid_obj.polarity_scores(sentence) \n",
        "      \n",
        "    print(\"Overall sentiment dictionary is : \", sentiment_dict) \n",
        "    print(\"sentence was rated as \", sentiment_dict['neg']*100, \"% Negative\") \n",
        "    print(\"sentence was rated as \", sentiment_dict['neu']*100, \"% Neutral\") \n",
        "    print(\"sentence was rated as \", sentiment_dict['pos']*100, \"% Positive\") \n",
        "  \n",
        "    print(\"Sentence Overall Rated As\", end = \" \") \n",
        "  \n",
        "    # decide sentiment as positive, negative and neutral \n",
        "    if sentiment_dict['compound'] >= 0.05 : \n",
        "        print(\"Positive\") \n",
        "  \n",
        "    elif sentiment_dict['compound'] <= - 0.05 : \n",
        "        print(\"Negative\") \n",
        "  \n",
        "    else : \n",
        "        print(\"Neutral\") "
      ],
      "execution_count": 37,
      "outputs": [
        {
          "output_type": "stream",
          "name": "stdout",
          "text": [
            "Collecting vaderSentiment\n",
            "  Downloading vaderSentiment-3.3.2-py2.py3-none-any.whl (125 kB)\n",
            "\u001b[?25l\r\u001b[K     |██▋                             | 10 kB 23.8 MB/s eta 0:00:01\r\u001b[K     |█████▏                          | 20 kB 29.1 MB/s eta 0:00:01\r\u001b[K     |███████▉                        | 30 kB 18.9 MB/s eta 0:00:01\r\u001b[K     |██████████▍                     | 40 kB 12.4 MB/s eta 0:00:01\r\u001b[K     |█████████████                   | 51 kB 11.1 MB/s eta 0:00:01\r\u001b[K     |███████████████▋                | 61 kB 10.6 MB/s eta 0:00:01\r\u001b[K     |██████████████████▏             | 71 kB 10.6 MB/s eta 0:00:01\r\u001b[K     |████████████████████▉           | 81 kB 11.6 MB/s eta 0:00:01\r\u001b[K     |███████████████████████▍        | 92 kB 12.2 MB/s eta 0:00:01\r\u001b[K     |██████████████████████████      | 102 kB 10.1 MB/s eta 0:00:01\r\u001b[K     |████████████████████████████▋   | 112 kB 10.1 MB/s eta 0:00:01\r\u001b[K     |███████████████████████████████▏| 122 kB 10.1 MB/s eta 0:00:01\r\u001b[K     |████████████████████████████████| 125 kB 10.1 MB/s \n",
            "\u001b[?25hRequirement already satisfied: requests in /usr/local/lib/python3.7/dist-packages (from vaderSentiment) (2.23.0)\n",
            "Requirement already satisfied: certifi>=2017.4.17 in /usr/local/lib/python3.7/dist-packages (from requests->vaderSentiment) (2021.10.8)\n",
            "Requirement already satisfied: urllib3!=1.25.0,!=1.25.1,<1.26,>=1.21.1 in /usr/local/lib/python3.7/dist-packages (from requests->vaderSentiment) (1.24.3)\n",
            "Requirement already satisfied: idna<3,>=2.5 in /usr/local/lib/python3.7/dist-packages (from requests->vaderSentiment) (2.10)\n",
            "Requirement already satisfied: chardet<4,>=3.0.2 in /usr/local/lib/python3.7/dist-packages (from requests->vaderSentiment) (3.0.4)\n",
            "Installing collected packages: vaderSentiment\n",
            "Successfully installed vaderSentiment-3.3.2\n"
          ]
        }
      ]
    },
    {
      "cell_type": "code",
      "metadata": {
        "id": "VUgI2EOjMpA9"
      },
      "source": [
        "tokenized_sent = [' '.join(para) for para in tokenized_words]"
      ],
      "execution_count": 38,
      "outputs": []
    },
    {
      "cell_type": "code",
      "metadata": {
        "id": "vn6r4-_3Mbl1",
        "colab": {
          "base_uri": "https://localhost:8080/"
        },
        "outputId": "4987c70d-a866-40c4-e6fa-11efd9efd4cf"
      },
      "source": [
        "print(\"\\n1st statement :\") \n",
        "sentence = tokenized_sent[0] \n",
        "\n",
        "# function calling \n",
        "sentiment_scores(sentence) "
      ],
      "execution_count": 39,
      "outputs": [
        {
          "output_type": "stream",
          "name": "stdout",
          "text": [
            "\n",
            "1st statement :\n",
            "Overall sentiment dictionary is :  {'neg': 0.0, 'neu': 1.0, 'pos': 0.0, 'compound': 0.0}\n",
            "sentence was rated as  0.0 % Negative\n",
            "sentence was rated as  100.0 % Neutral\n",
            "sentence was rated as  0.0 % Positive\n",
            "Sentence Overall Rated As Neutral\n"
          ]
        }
      ]
    },
    {
      "cell_type": "code",
      "metadata": {
        "id": "omDRHiC5OEHp",
        "colab": {
          "base_uri": "https://localhost:8080/",
          "height": 104
        },
        "outputId": "c950fb1b-a4e3-4c17-db8c-7f78befde1e0"
      },
      "source": [
        "tokenized_sent[0]"
      ],
      "execution_count": 40,
      "outputs": [
        {
          "output_type": "execute_result",
          "data": {
            "application/vnd.google.colaboratory.intrinsic+json": {
              "type": "string"
            },
            "text/plain": [
              "'Reproduced with permission of the copyright owner Further reproduction prohibited without permission Multiple literacies new pedagogy Emerging notions of oneself and RocheSmith Jeeva Ratna ProQuest Dissertations and Theses 2004 ProQuest Reproduced with permission of the copyright owner Further reproduction prohibited without permission Reproduced with permission of the copyright owner Further reproduction prohibited without permission Reproduced with permission of the copyright owner Further reproduction prohibited without permission Reproduced with permission of the copyright owner Further reproduction prohibited without permission Reproduced with permission of the copyright owner Further reproduction prohibited without permission Reproduced with permission of the copyright owner Further reproduction prohibited without permission Reproduced with permission of the copyright owner Further reproduction prohibited without permission Reproduced with permission of the copyright owner Further reproduction prohibited without permission Reproduced with permission of the copyright owner Further reproduction prohibited without permission Reproduced with permission of the copyright owner Further reproduction prohibited without permission Reproduced with permission of the copyright owner Further reproduction prohibited without permission Reproduced with permission of the copyright owner Further reproduction prohibited without permission Reproduced with permission of the copyright owner Further reproduction prohibited without permission Reproduced with permission of the copyright owner Further reproduction prohibited without permission Reproduced with permission of the copyright owner Further reproduction prohibited without permission Reproduced with permission of the copyright owner Further reproduction prohibited without permission Reproduced with permission of the copyright owner Further reproduction prohibited without permission Reproduced with permission of the copyright owner Further reproduction prohibited without permission Reproduced with permission of the copyright owner Further reproduction prohibited without permission Reproduced with permission of the copyright owner Further reproduction prohibited without permission Reproduced with permission of the copyright owner Further reproduction prohibited without permission Reproduced with permission of the copyright owner Further reproduction prohibited without permission Reproduced with permission of the copyright owner Further reproduction prohibited without permission Reproduced with permission of the copyright owner Further reproduction prohibited without permission Reproduced with permission of the copyright owner Further reproduction prohibited without permission Reproduced with permission of the copyright owner Further reproduction prohibited without permission Reproduced with permission of the copyright owner Further reproduction prohibited without permission Reproduced with permission of the copyright owner Further reproduction prohibited without permission Reproduced with permission of the copyright owner Further reproduction prohibited without permission Reproduced with permission of the copyright owner Further reproduction prohibited without permission Reproduced with permission of the copyright owner Further reproduction prohibited without permission Reproduced with permission of the copyright owner Further reproduction prohibited without permission Reproduced with permission of the copyright owner Further reproduction prohibited without permission Reproduced with permission of the copyright owner Further reproduction prohibited without permission Reproduced with permission of the copyright owner Further reproduction prohibited without permission Reproduced with permission of the copyright owner Further reproduction prohibited without permission Reproduced with permission of the copyright owner Further reproduction prohibited without permission Reproduced with permission of the copyright owner Further reproduction prohibited without permission Reproduced with permission of the copyright owner Further reproduction prohibited without permission Reproduced with permission of the copyright owner Further reproduction prohibited without permission Reproduced with permission of the copyright owner Further reproduction prohibited without permission Reproduced with permission of the copyright owner Further reproduction prohibited without permission Reproduced with permission of the copyright owner Further reproduction prohibited without permission Reproduced with permission of the copyright owner Further reproduction prohibited without permission Reproduced with permission of the copyright owner Further reproduction prohibited without permission Reproduced with permission of the copyright owner Further reproduction prohibited without permission Reproduced with permission of the copyright owner Further reproduction prohibited without permission Reproduced with permission of the copyright owner Further reproduction prohibited without permission Reproduced with permission of the copyright owner Further reproduction prohibited without permission Reproduced with permission of the copyright owner Further reproduction prohibited without permission Reproduced with permission of the copyright owner Further reproduction prohibited without permission Reproduced with permission of the copyright owner Further reproduction prohibited without permission Reproduced with permission of the copyright owner Further reproduction prohibited without permission Reproduced with permission of the copyright owner Further reproduction prohibited without permission Reproduced with permission of the copyright owner Further reproduction prohibited without permission Reproduced with permission of the copyright owner Further reproduction prohibited without permission Reproduced with permission of the copyright owner Further reproduction prohibited without permission Reproduced with permission of the copyright owner Further reproduction prohibited without permission Reproduced with permission of the copyright owner Further reproduction prohibited without permission Reproduced with permission of the copyright owner Further reproduction prohibited without permission Reproduced with permission of the copyright owner Further reproduction prohibited without permission Reproduced with permission of the copyright owner Further reproduction prohibited without permission Reproduced with permission of the copyright owner Further reproduction prohibited without permission Reproduced with permission of the copyright owner Further reproduction prohibited without permission Reproduced with permission of the copyright owner Further reproduction prohibited without permission Reproduced with permission of the copyright owner Further reproduction prohibited without permission Reproduced with permission of the copyright owner Further reproduction prohibited without permission Reproduced with permission of the copyright owner Further reproduction prohibited without permission Reproduced with permission of the copyright owner Further reproduction prohibited without permission Reproduced with permission of the copyright owner Further reproduction prohibited without permission Reproduced with permission of the copyright owner Further reproduction prohibited without permission Reproduced with permission of the copyright owner Further reproduction prohibited without permission Reproduced with permission of the copyright owner Further reproduction prohibited without permission Reproduced with permission of the copyright owner Further reproduction prohibited without permission Reproduced with permission of the copyright owner Further reproduction prohibited without permission Reproduced with permission of the copyright owner Further reproduction prohibited without permission Reproduced with permission of the copyright owner Further reproduction prohibited without permission Reproduced with permission of the copyright owner Further reproduction prohibited without permission Reproduced with permission of the copyright owner Further reproduction prohibited without permission Reproduced with permission of the copyright owner Further reproduction prohibited without permission Reproduced with permission of the copyright owner Further reproduction prohibited without permission Reproduced with permission of the copyright owner Further reproduction prohibited without permission Reproduced with permission of the copyright owner Further reproduction prohibited without permission Reproduced with permission of the copyright owner Further reproduction prohibited without permission Reproduced with permission of the copyright owner Further reproduction prohibited without permission Reproduced with permission of the copyright owner Further reproduction prohibited without permission Reproduced with permission of the copyright owner Further reproduction prohibited without permission Reproduced with permission of the copyright owner Further reproduction prohibited without permission Reproduced with permission of the copyright owner Further reproduction prohibited without permission Reproduced with permission of the copyright owner Further reproduction prohibited without permission Reproduced with permission of the copyright owner Further reproduction prohibited without permission Reproduced with permission of the copyright owner Further reproduction prohibited without permission Reproduced with permission of the copyright owner Further reproduction prohibited without permission Reproduced with permission of the copyright owner Further reproduction prohibited without permission Reproduced with permission of the copyright owner Further reproduction prohibited without permission Reproduced with permission of the copyright owner Further reproduction prohibited without permission Reproduced with permission of the copyright owner Further reproduction prohibited without permission Reproduced with permission of the copyright owner Further reproduction prohibited without permission Reproduced with permission of the copyright owner Further reproduction prohibited without permission Reproduced with permission of the copyright owner Further reproduction prohibited without permission Reproduced with permission of the copyright owner Further reproduction prohibited without permission Reproduced with permission of the copyright owner Further reproduction prohibited without permission Reproduced with permission of the copyright owner Further reproduction prohibited without permission Reproduced with permission of the copyright owner Further reproduction prohibited without permission Reproduced with permission of the copyright owner Further reproduction prohibited without permission Reproduced with permission of the copyright owner Further reproduction prohibited without permission Reproduced with permission of the copyright owner Further reproduction prohibited without permission Reproduced with permission of the copyright owner Further reproduction prohibited without permission Reproduced with permission of the copyright owner Further reproduction prohibited without permission Reproduced with permission of the copyright owner Further reproduction prohibited without permission Reproduced with permission of the copyright owner Further reproduction prohibited without permission Reproduced with permission of the copyright owner Further reproduction prohibited without permission Reproduced with permission of the copyright owner Further reproduction prohibited without permission Reproduced with permission of the copyright owner Further reproduction prohibited without permission Reproduced with permission of the copyright owner Further reproduction prohibited without permission Reproduced with permission of the copyright owner Further reproduction prohibited without permission Reproduced with permission of the copyright owner Further reproduction prohibited without permission Reproduced with permission of the copyright owner Further reproduction prohibited without permission Reproduced with permission of the copyright owner Further reproduction prohibited without permission Reproduced with permission of the copyright owner Further reproduction prohibited without permission Reproduced with permission of the copyright owner Further reproduction prohibited without permission Reproduced with permission of the copyright owner Further reproduction prohibited without permission Reproduced with permission of the copyright owner Further reproduction prohibited without permission Reproduced with permission of the copyright owner Further reproduction prohibited without permission Reproduced with permission of the copyright owner Further reproduction prohibited without permission Reproduced with permission of the copyright owner Further reproduction prohibited without permission Reproduced with permission of the copyright owner Further reproduction prohibited without permission Reproduced with permission of the copyright owner Further reproduction prohibited without permission Reproduced with permission of the copyright owner Further reproduction prohibited without permission Reproduced with permission of the copyright owner Further reproduction prohibited without permission Reproduced with permission of the copyright owner Further reproduction prohibited without permission Reproduced with permission of the copyright owner Further reproduction prohibited without permission Reproduced with permission of the copyright owner Further reproduction prohibited without permission Reproduced with permission of the copyright owner Further reproduction prohibited without permission Reproduced with permission of the copyright owner Further reproduction prohibited without permission Reproduced with permission of the copyright owner Further reproduction prohibited without permission Reproduced with permission of the copyright owner Further reproduction prohibited without permission Reproduced with permission of the copyright owner Further reproduction prohibited without permission Reproduced with permission of the copyright owner Further reproduction prohibited without permission Reproduced with permission of the copyright owner Further reproduction prohibited without permission Reproduced with permission of the copyright owner Further reproduction prohibited without permission Reproduced with permission of the copyright owner Further reproduction prohibited without permission Reproduced with permission of the copyright owner Further reproduction prohibited without permission Reproduced with permission of the copyright owner Further reproduction prohibited without permission Reproduced with permission of the copyright owner Further reproduction prohibited without permission Reproduced with permission of the copyright owner Further reproduction prohibited without permission Reproduced with permission of the copyright owner Further reproduction prohibited without permission Reproduced with permission of the copyright owner Further reproduction prohibited without permission Reproduced with permission of the copyright owner Further reproduction prohibited without permission Reproduced with permission of the copyright owner Further reproduction prohibited without permission Reproduced with permission of the copyright owner Further reproduction prohibited without permission Reproduced with permission of the copyright owner Further reproduction prohibited without permission Reproduced with permission of the copyright owner Further reproduction prohibited without permission Reproduced with permission of the copyright owner Further reproduction prohibited without permission Reproduced with permission of the copyright owner Further reproduction prohibited without permission Reproduced with permission of the copyright owner Further reproduction prohibited without permission Reproduced with permission of the copyright owner Further reproduction prohibited without permission Reproduced with permission of the copyright owner Further reproduction prohibited without permission Reproduced with permission of the copyright owner Further reproduction prohibited without permission Reproduced with permission of the copyright owner Further reproduction prohibited without permission Reproduced with permission of the copyright owner Further reproduction prohibited without permission Reproduced with permission of the copyright owner Further reproduction prohibited without permission Reproduced with permission of the copyright owner Further reproduction prohibited without permission Reproduced with permission of the copyright owner Further reproduction prohibited without permission Reproduced with permission of the copyright owner Further reproduction prohibited without permission Reproduced with permission of the copyright owner Further reproduction prohibited without permission Reproduced with permission of the copyright owner Further reproduction prohibited without permission Reproduced with permission of the copyright owner Further reproduction prohibited without permission Reproduced with permission of the copyright owner Further reproduction prohibited without permission Reproduced with permission of the copyright owner Further reproduction prohibited without permission Reproduced with permission of the copyright owner Further reproduction prohibited without permission Reproduced with permission of the copyright owner Further reproduction prohibited without permission Reproduced with permission of the copyright owner Further reproduction prohibited without permission Reproduced with permission of the copyright owner Further reproduction prohibited without permission Reproduced with permission of the copyright owner Further reproduction prohibited without permission Reproduced with permission of the copyright owner Further reproduction prohibited without permission Reproduced with permission of the copyright owner Further reproduction prohibited without permission Reproduced with permission of the copyright owner Further reproduction prohibited without permission Reproduced with permission of the copyright owner Further reproduction prohibited without permission Reproduced with permission of the copyright owner Further reproduction prohibited without permission Reproduced with permission of the copyright owner Further reproduction prohibited without permission Reproduced with permission of the copyright owner Further reproduction prohibited without permission Reproduced with permission of the copyright owner Further reproduction prohibited without permission Reproduced with permission of the copyright owner Further reproduction prohibited without permission Reproduced with permission of the copyright owner Further reproduction prohibited without permission Reproduced with permission of the copyright owner Further reproduction prohibited without permission Reproduced with permission of the copyright owner Further reproduction prohibited without permission Reproduced with permission of the copyright owner Further reproduction prohibited without permission Reproduced with permission of the copyright owner Further reproduction prohibited without permission Reproduced with permission of the copyright owner Further reproduction prohibited without permission Reproduced with permission of the copyright owner Further reproduction prohibited without permission Reproduced with permission of the copyright owner Further reproduction prohibited without permission Reproduced with permission of the copyright owner Further reproduction prohibited without permission Reproduced with permission of the copyright owner Further reproduction prohibited without permission Reproduced with permission of the copyright owner Further reproduction prohibited without permission Reproduced with permission of the copyright owner Further reproduction prohibited without permission Reproduced with permission of the copyright owner Further reproduction prohibited without permission Reproduced with permission of the copyright owner Further reproduction prohibited without permission Reproduced with permission of the copyright owner Further reproduction prohibited without permission Reproduced with permission of the copyright owner Further reproduction prohibited without permission Reproduced with permission of the copyright owner Further reproduction prohibited without permission Reproduced with permission of the copyright owner Further reproduction prohibited without permission Reproduced with permission of the copyright owner Further reproduction prohibited without permission Reproduced with permission of the copyright owner Further reproduction prohibited without permission Reproduced with permission of the copyright owner Further reproduction prohibited without permission Reproduced with permission of the copyright owner Further reproduction prohibited without permission Reproduced with permission of the copyright owner Further reproduction prohibited without permission Reproduced with permission of the copyright owner Further reproduction prohibited without permission Reproduced with permission of the copyright owner Further reproduction prohibited without permission Reproduced with permission of the copyright owner Further reproduction prohibited without permission Reproduced with permission of the copyright owner Further reproduction prohibited without permission Reproduced with permission of the copyright owner Further reproduction prohibited without permission Reproduced with permission of the copyright owner Further reproduction prohibited without permission Reproduced with permission of the copyright owner Further reproduction prohibited without permission Reproduced with permission of the copyright owner Further reproduction prohibited without permission Reproduced with permission of the copyright owner Further reproduction prohibited without permission Reproduced with permission of the copyright owner Further reproduction prohibited without permission Reproduced with permission of the copyright owner Further reproduction prohibited without permission Reproduced with permission of the copyright owner Further reproduction prohibited without permission Reproduced with permission of the copyright owner Further reproduction prohibited without permission Reproduced with permission of the copyright owner Further reproduction prohibited without permission Reproduced with permission of the copyright owner Further reproduction prohibited without permission Reproduced with permission of the copyright owner Further reproduction prohibited without permission Reproduced with permission of the copyright owner Further reproduction prohibited without permission Reproduced with permission of the copyright owner Further reproduction prohibited without permission Reproduced with permission of the copyright owner Further reproduction prohibited without permission Reproduced with permission of the copyright owner Further reproduction prohibited without permission Reproduced with permission of the copyright owner Further reproduction prohibited without permission Reproduced with permission of the copyright owner Further reproduction prohibited without permission Reproduced with permission of the copyright owner Further reproduction prohibited without permission Reproduced with permission of the copyright owner Further reproduction prohibited without permission Reproduced with permission of the copyright owner Further reproduction prohibited without permission Reproduced with permission of the copyright owner Further reproduction prohibited without permission Reproduced with permission of the copyright owner Further reproduction prohibited without permission Reproduced with permission of the copyright owner Further reproduction prohibited without permission Reproduced with permission of the copyright owner Further reproduction prohibited without permission Reproduced with permission of the copyright owner Further reproduction prohibited without permission Reproduced with permission of the copyright owner Further reproduction prohibited without permission Reproduced with permission of the copyright owner Further reproduction prohibited without permission Reproduced with permission of the copyright owner Further reproduction prohibited without permission Reproduced with permission of the copyright owner Further reproduction prohibited without permission Reproduced with permission of the copyright owner Further reproduction prohibited without permission Reproduced with permission of the copyright owner Further reproduction prohibited without permission Reproduced with permission of the copyright owner Further reproduction prohibited without permission Reproduced with permission of the copyright owner Further reproduction prohibited without permission Reproduced with permission of the copyright owner Further reproduction prohibited without permission Reproduced with permission of the copyright owner Further reproduction prohibited without permission Reproduced with permission of the copyright owner Further reproduction prohibited without permission Reproduced with permission of the copyright owner Further reproduction prohibited without permission Reproduced with permission of the copyright owner Further reproduction prohibited without permission Reproduced with permission of the copyright owner Further reproduction prohibited without permission Reproduced with permission of the copyright owner Further reproduction prohibited without permission Reproduced with permission of the copyright owner Further reproduction prohibited without permission Reproduced with permission of the copyright owner Further reproduction prohibited without permission Reproduced with permission of the copyright owner Further reproduction prohibited without permission Reproduced with permission of the copyright owner Further reproduction prohibited without permission Reproduced with permission of the copyright owner Further reproduction prohibited without permission Reproduced with permission of the copyright owner Further reproduction prohibited without permission Reproduced with permission of the copyright owner Further reproduction prohibited without permission Reproduced with permission of the copyright owner Further reproduction prohibited without permission Reproduced with permission of the copyright owner Further reproduction prohibited without permission Reproduced with permission of the copyright owner Further reproduction prohibited without permission Reproduced with permission of the copyright owner Further reproduction prohibited without permission Reproduced with permission of the copyright owner Further reproduction prohibited without permission Reproduced with permission of the copyright owner Further reproduction prohibited without permission Reproduced with permission of the copyright owner Further reproduction prohibited without permission Reproduced with permission of the copyright owner Further reproduction prohibited without permission Reproduced with permission of the copyright owner Further reproduction prohibited without permission Reproduced with permission of the copyright owner Further reproduction prohibited without permission Reproduced with permission of the copyright owner Further reproduction prohibited without permission Reproduced with permission of the copyright owner Further reproduction prohibited without permission Reproduced with permission of the copyright owner Further reproduction prohibited without permission Reproduced with permission of the copyright owner Further reproduction prohibited without permission Reproduced with permission of the copyright owner Further reproduction prohibited without permission Reproduced with permission of the copyright owner Further reproduction prohibited without permission Reproduced with permission of the copyright owner Further reproduction prohibited without permission Reproduced with permission of the copyright owner Further reproduction prohibited without permission Reproduced with permission of the copyright owner Further reproduction prohibited without permission Reproduced with permission of the copyright owner Further reproduction prohibited without permission Reproduced with permission of the copyright owner Further reproduction prohibited without permission Reproduced with permission of the copyright owner Further reproduction prohibited without permission Reproduced with permission of the copyright owner Further reproduction prohibited without permission Reproduced with permission of the copyright owner Further reproduction prohibited without permission Reproduced with permission of the copyright owner Further reproduction prohibited without permission'"
            ]
          },
          "metadata": {},
          "execution_count": 40
        }
      ]
    },
    {
      "cell_type": "code",
      "metadata": {
        "id": "s8usElYbNZJD",
        "colab": {
          "base_uri": "https://localhost:8080/"
        },
        "outputId": "885449e5-1d9b-41c0-dae7-d63207b10d4b"
      },
      "source": [
        "count = 0\n",
        "for para in tokenized_words:\n",
        "  count += len(para)\n",
        "\n",
        "print(count)"
      ],
      "execution_count": 41,
      "outputs": [
        {
          "output_type": "stream",
          "name": "stdout",
          "text": [
            "1862738\n"
          ]
        }
      ]
    },
    {
      "cell_type": "code",
      "metadata": {
        "id": "KDfSm1LrOf6N",
        "colab": {
          "base_uri": "https://localhost:8080/"
        },
        "outputId": "a4a95bf1-5857-4670-9c6f-adc9af531390"
      },
      "source": [
        "import nltk\n",
        "nltk.download('vader_lexicon')\n",
        "from nltk.sentiment.vader import SentimentIntensityAnalyzer\n",
        "\n",
        "sid = SentimentIntensityAnalyzer()"
      ],
      "execution_count": 42,
      "outputs": [
        {
          "output_type": "stream",
          "name": "stdout",
          "text": [
            "[nltk_data] Downloading package vader_lexicon to /root/nltk_data...\n"
          ]
        }
      ]
    },
    {
      "cell_type": "code",
      "metadata": {
        "id": "S76FFYvwOiIn",
        "colab": {
          "base_uri": "https://localhost:8080/"
        },
        "outputId": "3ee6b481-bc67-4940-9efe-77373e95c447"
      },
      "source": [
        "results = []\n",
        "for sent in tokenized_sent:\n",
        "  results.append(sid.polarity_scores(sent))\n",
        "\n",
        "print(results)"
      ],
      "execution_count": 43,
      "outputs": [
        {
          "output_type": "stream",
          "name": "stdout",
          "text": [
            "[{'neg': 0.0, 'neu': 1.0, 'pos': 0.0, 'compound': 0.0}, {'neg': 0.031, 'neu': 0.866, 'pos': 0.103, 'compound': 1.0}, {'neg': 0.043, 'neu': 0.886, 'pos': 0.071, 'compound': 0.9998}, {'neg': 0.033, 'neu': 0.872, 'pos': 0.095, 'compound': 0.9986}, {'neg': 0.032, 'neu': 0.901, 'pos': 0.067, 'compound': 0.9998}, {'neg': 0.027, 'neu': 0.881, 'pos': 0.092, 'compound': 1.0}, {'neg': 0.018, 'neu': 0.909, 'pos': 0.073, 'compound': 0.9999}, {'neg': 0.019, 'neu': 0.892, 'pos': 0.089, 'compound': 0.9998}, {'neg': 0.027, 'neu': 0.875, 'pos': 0.098, 'compound': 1.0}, {'neg': 0.007, 'neu': 0.92, 'pos': 0.073, 'compound': 0.9999}, {'neg': 0.035, 'neu': 0.857, 'pos': 0.108, 'compound': 1.0}, {'neg': 0.027, 'neu': 0.879, 'pos': 0.094, 'compound': 1.0}, {'neg': 0.027, 'neu': 0.848, 'pos': 0.125, 'compound': 1.0}, {'neg': 0.046, 'neu': 0.832, 'pos': 0.122, 'compound': 0.9993}, {'neg': 0.041, 'neu': 0.845, 'pos': 0.115, 'compound': 1.0}, {'neg': 0.027, 'neu': 0.869, 'pos': 0.104, 'compound': 1.0}, {'neg': 0.032, 'neu': 0.858, 'pos': 0.11, 'compound': 1.0}, {'neg': 0.024, 'neu': 0.886, 'pos': 0.091, 'compound': 1.0}, {'neg': 0.045, 'neu': 0.874, 'pos': 0.081, 'compound': 1.0}, {'neg': 0.03, 'neu': 0.919, 'pos': 0.052, 'compound': 0.9977}, {'neg': 0.11, 'neu': 0.8, 'pos': 0.09, 'compound': -1.0}, {'neg': 0.05, 'neu': 0.847, 'pos': 0.103, 'compound': 0.9997}, {'neg': 0.042, 'neu': 0.868, 'pos': 0.09, 'compound': 0.9999}, {'neg': 0.027, 'neu': 0.881, 'pos': 0.092, 'compound': 1.0}, {'neg': 0.023, 'neu': 0.844, 'pos': 0.133, 'compound': 0.9999}, {'neg': 0.02, 'neu': 0.883, 'pos': 0.097, 'compound': 1.0}, {'neg': 0.024, 'neu': 0.892, 'pos': 0.085, 'compound': 1.0}, {'neg': 0.071, 'neu': 0.853, 'pos': 0.076, 'compound': 0.9869}, {'neg': 0.032, 'neu': 0.867, 'pos': 0.101, 'compound': 1.0}, {'neg': 0.041, 'neu': 0.845, 'pos': 0.115, 'compound': 1.0}, {'neg': 0.093, 'neu': 0.794, 'pos': 0.112, 'compound': 1.0}, {'neg': 0.048, 'neu': 0.866, 'pos': 0.086, 'compound': 0.9996}, {'neg': 0.028, 'neu': 0.849, 'pos': 0.123, 'compound': 1.0}, {'neg': 0.055, 'neu': 0.838, 'pos': 0.107, 'compound': 1.0}, {'neg': 0.032, 'neu': 0.861, 'pos': 0.107, 'compound': 1.0}, {'neg': 0.062, 'neu': 0.859, 'pos': 0.079, 'compound': 0.999}, {'neg': 0.021, 'neu': 0.909, 'pos': 0.07, 'compound': 0.9999}, {'neg': 0.031, 'neu': 0.855, 'pos': 0.113, 'compound': 1.0}, {'neg': 0.029, 'neu': 0.88, 'pos': 0.09, 'compound': 1.0}, {'neg': 0.059, 'neu': 0.874, 'pos': 0.068, 'compound': 0.9938}, {'neg': 0.042, 'neu': 0.831, 'pos': 0.127, 'compound': 1.0}, {'neg': 0.03, 'neu': 0.861, 'pos': 0.109, 'compound': 0.9999}, {'neg': 0.07, 'neu': 0.813, 'pos': 0.117, 'compound': 1.0}, {'neg': 0.037, 'neu': 0.848, 'pos': 0.115, 'compound': 0.9998}]\n"
          ]
        }
      ]
    },
    {
      "cell_type": "code",
      "metadata": {
        "id": "1SRTuptQW_8-",
        "colab": {
          "base_uri": "https://localhost:8080/"
        },
        "outputId": "7140347e-fc63-4127-8249-d51558bbe913"
      },
      "source": [
        "def get_sentiment(d):\n",
        "  max_v = 0.0\n",
        "  for k,v in d.items():\n",
        "    if k != 'compound':\n",
        "      if v > max_v:\n",
        "        max_v = v\n",
        "        max_k = k\n",
        "\n",
        "  return max_k\n",
        "\n",
        "atitudes = [get_sentiment(result) for result in results]\n",
        "print(atitudes)"
      ],
      "execution_count": 44,
      "outputs": [
        {
          "output_type": "stream",
          "name": "stdout",
          "text": [
            "['neu', 'neu', 'neu', 'neu', 'neu', 'neu', 'neu', 'neu', 'neu', 'neu', 'neu', 'neu', 'neu', 'neu', 'neu', 'neu', 'neu', 'neu', 'neu', 'neu', 'neu', 'neu', 'neu', 'neu', 'neu', 'neu', 'neu', 'neu', 'neu', 'neu', 'neu', 'neu', 'neu', 'neu', 'neu', 'neu', 'neu', 'neu', 'neu', 'neu', 'neu', 'neu', 'neu', 'neu']\n"
          ]
        }
      ]
    },
    {
      "cell_type": "code",
      "metadata": {
        "id": "wiCp8OulQDLI",
        "colab": {
          "base_uri": "https://localhost:8080/",
          "height": 265
        },
        "outputId": "fa8c21d2-4b14-429b-df21-ea9629c77855"
      },
      "source": [
        "import matplotlib\n",
        "import matplotlib.pyplot as plt\n",
        "\n",
        "atitudes= ['neu', 'neu', 'neu', 'neu', 'neu', 'neu', 'neu', 'neu', 'neu', 'neu', 'neu', 'neu', 'neu', 'neu', 'neu', 'neu', 'neu', 'neu', 'neu', 'neu', 'neu', 'neu', 'neu', 'neu', 'neu', 'neu', 'neu', 'neu', 'neu', 'neu', 'neu', 'neu', 'neu', 'neu', 'neu', 'neu', 'neu', 'neu', 'neu', 'neu', 'neu', 'neu', 'neu', 'neu']\n",
        "\n",
        "plt.hist(atitudes,bins = 30);"
      ],
      "execution_count": 45,
      "outputs": [
        {
          "output_type": "display_data",
          "data": {
            "image/png": "[encoded data removed]",
            "text/plain": [
              "<Figure size 432x288 with 1 Axes>"
            ]
          },
          "metadata": {
            "needs_background": "light"
          }
        }
      ]
    }
  ]
}